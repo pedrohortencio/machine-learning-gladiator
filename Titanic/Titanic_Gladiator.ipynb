{
  "nbformat": 4,
  "nbformat_minor": 0,
  "metadata": {
    "colab": {
      "name": "Titanic - Gladiator.ipynb",
      "provenance": [],
      "collapsed_sections": [
        "Y1ANuVQ3tPUy",
        "zE39hSQEtZpt",
        "-tV7aC5DdsGX",
        "1wQ1cZ01mnnx",
        "tR-4j8b7CVog"
      ],
      "authorship_tag": "ABX9TyNmVZVwqZ7kARThB0CXh7jr",
      "include_colab_link": true
    },
    "kernelspec": {
      "name": "python3",
      "display_name": "Python 3"
    }
  },
  "cells": [
    {
      "cell_type": "markdown",
      "metadata": {
        "id": "view-in-github",
        "colab_type": "text"
      },
      "source": [
        "<a href=\"https://colab.research.google.com/github/pedrohortencio/machine-learning-gladiator/blob/main/Titanic/Titanic_Gladiator.ipynb\" target=\"_parent\"><img src=\"https://colab.research.google.com/assets/colab-badge.svg\" alt=\"Open In Colab\"/></a>"
      ]
    },
    {
      "cell_type": "code",
      "metadata": {
        "id": "DDl1XCd-bwnz"
      },
      "source": [
        "# Cross validation score\r\n",
        "# Test score (from a subset)\r\n",
        "\r\n",
        "# kaggle score (only the best models)"
      ],
      "execution_count": 9,
      "outputs": []
    },
    {
      "cell_type": "markdown",
      "metadata": {
        "id": "6x8gluEXtGKL"
      },
      "source": [
        "###Importing packages"
      ]
    },
    {
      "cell_type": "code",
      "metadata": {
        "id": "gYWIFxBatbS5"
      },
      "source": [
        "import numpy as np                  \n",
        "import pandas as pd                 \n",
        "import matplotlib.pyplot as plt     \n",
        "import seaborn as sns\n",
        "\n",
        "from sklearn.model_selection import train_test_split\n",
        "from sklearn.metrics import accuracy_score\n",
        "from sklearn.model_selection import GridSearchCV\n",
        "from sklearn.model_selection import StratifiedKFold\n",
        "from sklearn.model_selection import cross_val_score\n",
        "\n",
        "import tensorflow as tf\n",
        "from tensorflow import keras\n",
        "\n",
        "from keras.wrappers.scikit_learn import KerasClassifier\n",
        "\n",
        "from sklearn.neighbors import KNeighborsClassifier\n",
        "from sklearn.naive_bayes import BernoulliNB\n",
        "from sklearn.linear_model import SGDClassifier, LogisticRegression, RidgeClassifier\n",
        "from sklearn.svm import SVC\n",
        "from sklearn.tree import DecisionTreeClassifier\n",
        "from sklearn.dummy import DummyClassifier\n",
        "from sklearn.ensemble import RandomForestClassifier\n",
        "\n",
        "from xgboost import XGBClassifier\n",
        "\n",
        "\n",
        "grid = False\n",
        "\n",
        "seed = 7\n",
        "kfold = StratifiedKFold(n_splits=5, shuffle=True, random_state=seed)\n",
        "\n",
        "sns.set_theme()\n",
        "%matplotlib inline"
      ],
      "execution_count": 10,
      "outputs": []
    },
    {
      "cell_type": "markdown",
      "metadata": {
        "id": "Y1ANuVQ3tPUy"
      },
      "source": [
        "###Downloading the competition data"
      ]
    },
    {
      "cell_type": "code",
      "metadata": {
        "id": "qw1IMUWmuGwO",
        "colab": {
          "base_uri": "https://localhost:8080/"
        },
        "outputId": "3cd3fb14-351d-407a-a6b0-380343bed4c4"
      },
      "source": [
        "# Changing the directory of kaggle.json token\n",
        "!mkdir -p ~/.kaggle\n",
        "!cp kaggle.json ~/.kaggle/\n",
        "!ls ~/.kaggle\n",
        "!chmod 600 /root/.kaggle/kaggle.json\n",
        "\n",
        "#Downloading the dataset\n",
        "!kaggle competitions download -c titanic"
      ],
      "execution_count": 11,
      "outputs": [
        {
          "output_type": "stream",
          "text": [
            "kaggle.json\n",
            "Warning: Looks like you're using an outdated API Version, please consider updating (server 1.5.10 / client 1.5.4)\n",
            "gender_submission.csv: Skipping, found more recently modified local copy (use --force to force download)\n",
            "test.csv: Skipping, found more recently modified local copy (use --force to force download)\n",
            "train.csv: Skipping, found more recently modified local copy (use --force to force download)\n"
          ],
          "name": "stdout"
        }
      ]
    },
    {
      "cell_type": "markdown",
      "metadata": {
        "id": "zE39hSQEtZpt"
      },
      "source": [
        "###Creating dataframes"
      ]
    },
    {
      "cell_type": "code",
      "metadata": {
        "id": "aziednIDuGnV"
      },
      "source": [
        "df_train = pd.read_csv('/content/train.csv', header=0, sep=',', \n",
        "                       quotechar='\"',index_col=\"PassengerId\")\n",
        "df_test = pd.read_csv('/content/test.csv', header=0, sep=',',\n",
        "                      quotechar='\"', index_col=\"PassengerId\")"
      ],
      "execution_count": 12,
      "outputs": []
    },
    {
      "cell_type": "code",
      "metadata": {
        "id": "USN_u23fvru2",
        "colab": {
          "base_uri": "https://localhost:8080/",
          "height": 142
        },
        "outputId": "0d8cfba7-f573-4658-f853-680cacfaf579"
      },
      "source": [
        "df_train.head(2)"
      ],
      "execution_count": 13,
      "outputs": [
        {
          "output_type": "execute_result",
          "data": {
            "text/html": [
              "<div>\n",
              "<style scoped>\n",
              "    .dataframe tbody tr th:only-of-type {\n",
              "        vertical-align: middle;\n",
              "    }\n",
              "\n",
              "    .dataframe tbody tr th {\n",
              "        vertical-align: top;\n",
              "    }\n",
              "\n",
              "    .dataframe thead th {\n",
              "        text-align: right;\n",
              "    }\n",
              "</style>\n",
              "<table border=\"1\" class=\"dataframe\">\n",
              "  <thead>\n",
              "    <tr style=\"text-align: right;\">\n",
              "      <th></th>\n",
              "      <th>Survived</th>\n",
              "      <th>Pclass</th>\n",
              "      <th>Name</th>\n",
              "      <th>Sex</th>\n",
              "      <th>Age</th>\n",
              "      <th>SibSp</th>\n",
              "      <th>Parch</th>\n",
              "      <th>Ticket</th>\n",
              "      <th>Fare</th>\n",
              "      <th>Cabin</th>\n",
              "      <th>Embarked</th>\n",
              "    </tr>\n",
              "    <tr>\n",
              "      <th>PassengerId</th>\n",
              "      <th></th>\n",
              "      <th></th>\n",
              "      <th></th>\n",
              "      <th></th>\n",
              "      <th></th>\n",
              "      <th></th>\n",
              "      <th></th>\n",
              "      <th></th>\n",
              "      <th></th>\n",
              "      <th></th>\n",
              "      <th></th>\n",
              "    </tr>\n",
              "  </thead>\n",
              "  <tbody>\n",
              "    <tr>\n",
              "      <th>1</th>\n",
              "      <td>0</td>\n",
              "      <td>3</td>\n",
              "      <td>Braund, Mr. Owen Harris</td>\n",
              "      <td>male</td>\n",
              "      <td>22.0</td>\n",
              "      <td>1</td>\n",
              "      <td>0</td>\n",
              "      <td>A/5 21171</td>\n",
              "      <td>7.2500</td>\n",
              "      <td>NaN</td>\n",
              "      <td>S</td>\n",
              "    </tr>\n",
              "    <tr>\n",
              "      <th>2</th>\n",
              "      <td>1</td>\n",
              "      <td>1</td>\n",
              "      <td>Cumings, Mrs. John Bradley (Florence Briggs Th...</td>\n",
              "      <td>female</td>\n",
              "      <td>38.0</td>\n",
              "      <td>1</td>\n",
              "      <td>0</td>\n",
              "      <td>PC 17599</td>\n",
              "      <td>71.2833</td>\n",
              "      <td>C85</td>\n",
              "      <td>C</td>\n",
              "    </tr>\n",
              "  </tbody>\n",
              "</table>\n",
              "</div>"
            ],
            "text/plain": [
              "             Survived  Pclass  ... Cabin Embarked\n",
              "PassengerId                    ...               \n",
              "1                   0       3  ...   NaN        S\n",
              "2                   1       1  ...   C85        C\n",
              "\n",
              "[2 rows x 11 columns]"
            ]
          },
          "metadata": {
            "tags": []
          },
          "execution_count": 13
        }
      ]
    },
    {
      "cell_type": "code",
      "metadata": {
        "id": "b4VBW5nJvtnc",
        "colab": {
          "base_uri": "https://localhost:8080/",
          "height": 142
        },
        "outputId": "804eb58d-9faf-4dee-87aa-74b95913ba1d"
      },
      "source": [
        "df_test.head(2)"
      ],
      "execution_count": 14,
      "outputs": [
        {
          "output_type": "execute_result",
          "data": {
            "text/html": [
              "<div>\n",
              "<style scoped>\n",
              "    .dataframe tbody tr th:only-of-type {\n",
              "        vertical-align: middle;\n",
              "    }\n",
              "\n",
              "    .dataframe tbody tr th {\n",
              "        vertical-align: top;\n",
              "    }\n",
              "\n",
              "    .dataframe thead th {\n",
              "        text-align: right;\n",
              "    }\n",
              "</style>\n",
              "<table border=\"1\" class=\"dataframe\">\n",
              "  <thead>\n",
              "    <tr style=\"text-align: right;\">\n",
              "      <th></th>\n",
              "      <th>Pclass</th>\n",
              "      <th>Name</th>\n",
              "      <th>Sex</th>\n",
              "      <th>Age</th>\n",
              "      <th>SibSp</th>\n",
              "      <th>Parch</th>\n",
              "      <th>Ticket</th>\n",
              "      <th>Fare</th>\n",
              "      <th>Cabin</th>\n",
              "      <th>Embarked</th>\n",
              "    </tr>\n",
              "    <tr>\n",
              "      <th>PassengerId</th>\n",
              "      <th></th>\n",
              "      <th></th>\n",
              "      <th></th>\n",
              "      <th></th>\n",
              "      <th></th>\n",
              "      <th></th>\n",
              "      <th></th>\n",
              "      <th></th>\n",
              "      <th></th>\n",
              "      <th></th>\n",
              "    </tr>\n",
              "  </thead>\n",
              "  <tbody>\n",
              "    <tr>\n",
              "      <th>892</th>\n",
              "      <td>3</td>\n",
              "      <td>Kelly, Mr. James</td>\n",
              "      <td>male</td>\n",
              "      <td>34.5</td>\n",
              "      <td>0</td>\n",
              "      <td>0</td>\n",
              "      <td>330911</td>\n",
              "      <td>7.8292</td>\n",
              "      <td>NaN</td>\n",
              "      <td>Q</td>\n",
              "    </tr>\n",
              "    <tr>\n",
              "      <th>893</th>\n",
              "      <td>3</td>\n",
              "      <td>Wilkes, Mrs. James (Ellen Needs)</td>\n",
              "      <td>female</td>\n",
              "      <td>47.0</td>\n",
              "      <td>1</td>\n",
              "      <td>0</td>\n",
              "      <td>363272</td>\n",
              "      <td>7.0000</td>\n",
              "      <td>NaN</td>\n",
              "      <td>S</td>\n",
              "    </tr>\n",
              "  </tbody>\n",
              "</table>\n",
              "</div>"
            ],
            "text/plain": [
              "             Pclass                              Name  ... Cabin  Embarked\n",
              "PassengerId                                            ...                \n",
              "892               3                  Kelly, Mr. James  ...   NaN         Q\n",
              "893               3  Wilkes, Mrs. James (Ellen Needs)  ...   NaN         S\n",
              "\n",
              "[2 rows x 10 columns]"
            ]
          },
          "metadata": {
            "tags": []
          },
          "execution_count": 14
        }
      ]
    },
    {
      "cell_type": "code",
      "metadata": {
        "id": "u-nXGk96vrr9",
        "colab": {
          "base_uri": "https://localhost:8080/"
        },
        "outputId": "634814f4-8d14-4424-e494-fc7f1e27ac0e"
      },
      "source": [
        "print(\"Train dataset shape:\", df_train.shape)\n",
        "print(\"Test dataset shape:\", df_test.shape)"
      ],
      "execution_count": 15,
      "outputs": [
        {
          "output_type": "stream",
          "text": [
            "Train dataset shape: (891, 11)\n",
            "Test dataset shape: (418, 10)\n"
          ],
          "name": "stdout"
        }
      ]
    },
    {
      "cell_type": "markdown",
      "metadata": {
        "id": "-tV7aC5DdsGX"
      },
      "source": [
        "## Exploratory Data Analysis"
      ]
    },
    {
      "cell_type": "markdown",
      "metadata": {
        "id": "uuukwLlpfKjm"
      },
      "source": [
        "### Searching for Missing Values"
      ]
    },
    {
      "cell_type": "code",
      "metadata": {
        "id": "y278OvVJcc_d",
        "colab": {
          "base_uri": "https://localhost:8080/"
        },
        "outputId": "5f15eafe-059f-49fd-a7f5-a7bfffa2f1a2"
      },
      "source": [
        "# Distribution in the train dataset\n",
        "print(\"Train Dataset\\n\")\n",
        "print(df_train.Pclass.value_counts(dropna=False))  \n",
        "print(\"--\"*15)\n",
        "print(df_train.Embarked.value_counts(dropna=False))\n",
        "print(\"--\"*15)\n",
        "print(df_train.SibSp.value_counts(dropna=False))\n",
        "print(\"--\"*15)\n",
        "print(df_train.Parch.value_counts(dropna=False))\n",
        "print(\"--\"*15)"
      ],
      "execution_count": 16,
      "outputs": [
        {
          "output_type": "stream",
          "text": [
            "Train Dataset\n",
            "\n",
            "3    491\n",
            "1    216\n",
            "2    184\n",
            "Name: Pclass, dtype: int64\n",
            "------------------------------\n",
            "S      644\n",
            "C      168\n",
            "Q       77\n",
            "NaN      2\n",
            "Name: Embarked, dtype: int64\n",
            "------------------------------\n",
            "0    608\n",
            "1    209\n",
            "2     28\n",
            "4     18\n",
            "3     16\n",
            "8      7\n",
            "5      5\n",
            "Name: SibSp, dtype: int64\n",
            "------------------------------\n",
            "0    678\n",
            "1    118\n",
            "2     80\n",
            "5      5\n",
            "3      5\n",
            "4      4\n",
            "6      1\n",
            "Name: Parch, dtype: int64\n",
            "------------------------------\n"
          ],
          "name": "stdout"
        }
      ]
    },
    {
      "cell_type": "code",
      "metadata": {
        "id": "E8GLJy5ldlj6",
        "colab": {
          "base_uri": "https://localhost:8080/"
        },
        "outputId": "9855d01a-4d69-4fb5-fa1b-0fcd71980fe8"
      },
      "source": [
        "# Distribution in the test dataset\n",
        "print(\"Test Dataset\\n\")\n",
        "print(df_test.Pclass.value_counts(dropna=False))  \n",
        "print(\"--\"*15)\n",
        "print(df_test.Embarked.value_counts(dropna=False))\n",
        "print(\"--\"*15)\n",
        "print(df_test.SibSp.value_counts(dropna=False))\n",
        "print(\"--\"*15)\n",
        "print(df_test.Parch.value_counts(dropna=False))\n",
        "print(\"--\"*15)"
      ],
      "execution_count": 17,
      "outputs": [
        {
          "output_type": "stream",
          "text": [
            "Test Dataset\n",
            "\n",
            "3    218\n",
            "1    107\n",
            "2     93\n",
            "Name: Pclass, dtype: int64\n",
            "------------------------------\n",
            "S    270\n",
            "C    102\n",
            "Q     46\n",
            "Name: Embarked, dtype: int64\n",
            "------------------------------\n",
            "0    283\n",
            "1    110\n",
            "2     14\n",
            "4      4\n",
            "3      4\n",
            "8      2\n",
            "5      1\n",
            "Name: SibSp, dtype: int64\n",
            "------------------------------\n",
            "0    324\n",
            "1     52\n",
            "2     33\n",
            "3      3\n",
            "9      2\n",
            "4      2\n",
            "6      1\n",
            "5      1\n",
            "Name: Parch, dtype: int64\n",
            "------------------------------\n"
          ],
          "name": "stdout"
        }
      ]
    },
    {
      "cell_type": "code",
      "metadata": {
        "id": "p10DHGqFcNN2",
        "colab": {
          "base_uri": "https://localhost:8080/"
        },
        "outputId": "979f4d69-16da-4740-9006-9dc5261bcf60"
      },
      "source": [
        "# NaN values in train dataset\n",
        "df_train.isnull().sum().sort_values(ascending=False)"
      ],
      "execution_count": 18,
      "outputs": [
        {
          "output_type": "execute_result",
          "data": {
            "text/plain": [
              "Cabin       687\n",
              "Age         177\n",
              "Embarked      2\n",
              "Fare          0\n",
              "Ticket        0\n",
              "Parch         0\n",
              "SibSp         0\n",
              "Sex           0\n",
              "Name          0\n",
              "Pclass        0\n",
              "Survived      0\n",
              "dtype: int64"
            ]
          },
          "metadata": {
            "tags": []
          },
          "execution_count": 18
        }
      ]
    },
    {
      "cell_type": "code",
      "metadata": {
        "id": "sGfmdk9fcJy6",
        "colab": {
          "base_uri": "https://localhost:8080/"
        },
        "outputId": "834ed5cd-5b7f-4f6f-fee1-64b5be9b5fb1"
      },
      "source": [
        "# NaN values in test dataset\n",
        "df_test.isnull().sum().sort_values(ascending=False)"
      ],
      "execution_count": 19,
      "outputs": [
        {
          "output_type": "execute_result",
          "data": {
            "text/plain": [
              "Cabin       327\n",
              "Age          86\n",
              "Fare          1\n",
              "Embarked      0\n",
              "Ticket        0\n",
              "Parch         0\n",
              "SibSp         0\n",
              "Sex           0\n",
              "Name          0\n",
              "Pclass        0\n",
              "dtype: int64"
            ]
          },
          "metadata": {
            "tags": []
          },
          "execution_count": 19
        }
      ]
    },
    {
      "cell_type": "code",
      "metadata": {
        "id": "5onrshukbbBJ",
        "colab": {
          "base_uri": "https://localhost:8080/",
          "height": 598
        },
        "outputId": "dd9396d0-9722-476a-db3c-6caeb7c57543"
      },
      "source": [
        "#Analysing the correlation of features \n",
        "\n",
        "mat = df_train.corr()\n",
        "fig, ax = plt.subplots(figsize = (10,10))\n",
        "sns.heatmap(mat, annot = True, annot_kws={'size': 12});"
      ],
      "execution_count": 20,
      "outputs": [
        {
          "output_type": "display_data",
          "data": {
            "image/png": "[encoded data removed]",
            "text/plain": [
              "<Figure size 720x720 with 2 Axes>"
            ]
          },
          "metadata": {
            "tags": [],
            "needs_background": "light"
          }
        }
      ]
    },
    {
      "cell_type": "markdown",
      "metadata": {
        "id": "i8pIKALhujtL"
      },
      "source": [
        "The above plot give us some information about the correlation between the variables, some are expected and some aren't:\n",
        "\n",
        "* High fares and ages are correlated with a higher ticket class (1st, for instance)\n",
        "\n",
        "* High ages are correlated with lower number of of siblings / spouses aboard the Titanic\n",
        "\n",
        "* Number of parents / children aboard the Titanic and ticket class share a weak correlation\n",
        "\n",
        "* Age and Fare share a weak correlation\n",
        "\n",
        "* Number of siblings / spouses aboard the Titanic and ticket class share a weak correlation\n",
        "\n",
        "* Survival rates are more correlated with ticket class and fare"
      ]
    },
    {
      "cell_type": "markdown",
      "metadata": {
        "id": "1wQ1cZ01mnnx"
      },
      "source": [
        "### Cabin column manipulation"
      ]
    },
    {
      "cell_type": "code",
      "metadata": {
        "id": "MypUSiGBz1Be",
        "colab": {
          "base_uri": "https://localhost:8080/"
        },
        "outputId": "13f2ed5b-2be1-4a09-b912-10da99d7fd78"
      },
      "source": [
        "# Survival distribution where the Cabin value is NaN\n",
        "df_train[df_train['Cabin'].isnull()]['Survived'].value_counts()"
      ],
      "execution_count": 21,
      "outputs": [
        {
          "output_type": "execute_result",
          "data": {
            "text/plain": [
              "0    481\n",
              "1    206\n",
              "Name: Survived, dtype: int64"
            ]
          },
          "metadata": {
            "tags": []
          },
          "execution_count": 21
        }
      ]
    },
    {
      "cell_type": "code",
      "metadata": {
        "id": "6gK3U2S6y5m6",
        "colab": {
          "base_uri": "https://localhost:8080/",
          "height": 0
        },
        "outputId": "ded0458c-52e3-4174-8bda-f2980031a711"
      },
      "source": [
        "# Survival distribution where the Cabin value is NaN\n",
        "df_train[df_train['Cabin'].isnull()]['Survived'].hist(grid=False);"
      ],
      "execution_count": 22,
      "outputs": [
        {
          "output_type": "display_data",
          "data": {
            "image/png": "[encoded data removed]",
            "text/plain": [
              "<Figure size 432x288 with 1 Axes>"
            ]
          },
          "metadata": {
            "tags": [],
            "needs_background": "light"
          }
        }
      ]
    },
    {
      "cell_type": "code",
      "metadata": {
        "id": "cW_9xhOKyfqV",
        "colab": {
          "base_uri": "https://localhost:8080/"
        },
        "outputId": "06cbc1a9-a807-4f4b-f7e5-ca95222d15d4"
      },
      "source": [
        "# Survival distribution where the Cabin value isn't NaN\n",
        "df_train[np.logical_not(df_train['Cabin'].isnull())]['Survived'].value_counts()"
      ],
      "execution_count": 23,
      "outputs": [
        {
          "output_type": "execute_result",
          "data": {
            "text/plain": [
              "1    136\n",
              "0     68\n",
              "Name: Survived, dtype: int64"
            ]
          },
          "metadata": {
            "tags": []
          },
          "execution_count": 23
        }
      ]
    },
    {
      "cell_type": "code",
      "metadata": {
        "id": "eRZ3LtqQ0Ez9",
        "colab": {
          "base_uri": "https://localhost:8080/",
          "height": 0
        },
        "outputId": "31ff8957-2d65-4fe9-ff04-6d126b9a4a4c"
      },
      "source": [
        "# Survival distribution where the Cabin value isn't NaN\n",
        "df_train[np.logical_not(df_train['Cabin'].isnull())]['Survived'].hist(grid=False);"
      ],
      "execution_count": 24,
      "outputs": [
        {
          "output_type": "display_data",
          "data": {
            "image/png": "[encoded data removed]",
            "text/plain": [
              "<Figure size 432x288 with 1 Axes>"
            ]
          },
          "metadata": {
            "tags": [],
            "needs_background": "light"
          }
        }
      ]
    },
    {
      "cell_type": "markdown",
      "metadata": {
        "id": "dupEwPtXxWdk"
      },
      "source": [
        ">The plots above tell us that the survival rates are higher when there's a value in the Cabin column."
      ]
    },
    {
      "cell_type": "code",
      "metadata": {
        "id": "zIyQKtT4ALxn"
      },
      "source": [
        "# Creating column \"CabinMissing\" which will have 1 if there's a NaN value in Cabin, and 0 otherwhise \n",
        "df_train['CabinMissing'] = df_train['Cabin'].isnull().astype(int)\n",
        "df_test['CabinMissing'] = df_test['Cabin'].isnull().astype(int)"
      ],
      "execution_count": 25,
      "outputs": []
    },
    {
      "cell_type": "code",
      "metadata": {
        "colab": {
          "base_uri": "https://localhost:8080/",
          "height": 0
        },
        "id": "nss5r4CrO1-j",
        "outputId": "9319fc56-8b05-4a09-a4e9-cc63265e6af1"
      },
      "source": [
        "df_train.head(2)"
      ],
      "execution_count": 26,
      "outputs": [
        {
          "output_type": "execute_result",
          "data": {
            "text/html": [
              "<div>\n",
              "<style scoped>\n",
              "    .dataframe tbody tr th:only-of-type {\n",
              "        vertical-align: middle;\n",
              "    }\n",
              "\n",
              "    .dataframe tbody tr th {\n",
              "        vertical-align: top;\n",
              "    }\n",
              "\n",
              "    .dataframe thead th {\n",
              "        text-align: right;\n",
              "    }\n",
              "</style>\n",
              "<table border=\"1\" class=\"dataframe\">\n",
              "  <thead>\n",
              "    <tr style=\"text-align: right;\">\n",
              "      <th></th>\n",
              "      <th>Survived</th>\n",
              "      <th>Pclass</th>\n",
              "      <th>Name</th>\n",
              "      <th>Sex</th>\n",
              "      <th>Age</th>\n",
              "      <th>SibSp</th>\n",
              "      <th>Parch</th>\n",
              "      <th>Ticket</th>\n",
              "      <th>Fare</th>\n",
              "      <th>Cabin</th>\n",
              "      <th>Embarked</th>\n",
              "      <th>CabinMissing</th>\n",
              "    </tr>\n",
              "    <tr>\n",
              "      <th>PassengerId</th>\n",
              "      <th></th>\n",
              "      <th></th>\n",
              "      <th></th>\n",
              "      <th></th>\n",
              "      <th></th>\n",
              "      <th></th>\n",
              "      <th></th>\n",
              "      <th></th>\n",
              "      <th></th>\n",
              "      <th></th>\n",
              "      <th></th>\n",
              "      <th></th>\n",
              "    </tr>\n",
              "  </thead>\n",
              "  <tbody>\n",
              "    <tr>\n",
              "      <th>1</th>\n",
              "      <td>0</td>\n",
              "      <td>3</td>\n",
              "      <td>Braund, Mr. Owen Harris</td>\n",
              "      <td>male</td>\n",
              "      <td>22.0</td>\n",
              "      <td>1</td>\n",
              "      <td>0</td>\n",
              "      <td>A/5 21171</td>\n",
              "      <td>7.2500</td>\n",
              "      <td>NaN</td>\n",
              "      <td>S</td>\n",
              "      <td>1</td>\n",
              "    </tr>\n",
              "    <tr>\n",
              "      <th>2</th>\n",
              "      <td>1</td>\n",
              "      <td>1</td>\n",
              "      <td>Cumings, Mrs. John Bradley (Florence Briggs Th...</td>\n",
              "      <td>female</td>\n",
              "      <td>38.0</td>\n",
              "      <td>1</td>\n",
              "      <td>0</td>\n",
              "      <td>PC 17599</td>\n",
              "      <td>71.2833</td>\n",
              "      <td>C85</td>\n",
              "      <td>C</td>\n",
              "      <td>0</td>\n",
              "    </tr>\n",
              "  </tbody>\n",
              "</table>\n",
              "</div>"
            ],
            "text/plain": [
              "             Survived  Pclass  ... Embarked CabinMissing\n",
              "PassengerId                    ...                      \n",
              "1                   0       3  ...        S            1\n",
              "2                   1       1  ...        C            0\n",
              "\n",
              "[2 rows x 12 columns]"
            ]
          },
          "metadata": {
            "tags": []
          },
          "execution_count": 26
        }
      ]
    },
    {
      "cell_type": "markdown",
      "metadata": {
        "id": "gInLDnz5QXRN"
      },
      "source": [
        "### Name Column manipulation"
      ]
    },
    {
      "cell_type": "markdown",
      "metadata": {
        "id": "U4CLqvgaki59"
      },
      "source": [
        "Extracting Title from the Name Column"
      ]
    },
    {
      "cell_type": "code",
      "metadata": {
        "id": "MKSs2BXjkleO"
      },
      "source": [
        "# Combining the two datasets for easier iteration\n",
        "combined_datasets = [df_train, df_test]"
      ],
      "execution_count": 27,
      "outputs": []
    },
    {
      "cell_type": "code",
      "metadata": {
        "id": "_NzJWWyokpV9"
      },
      "source": [
        "# Loop to iterate over the 2 datasets\n",
        "for dataset in combined_datasets:\n",
        "    # Extracting the title\n",
        "    dataset['Title'] = dataset.Name.str.extract(' ([A-Za-z]+)\\.', expand=False)"
      ],
      "execution_count": 28,
      "outputs": []
    },
    {
      "cell_type": "code",
      "metadata": {
        "id": "xga_qGkJkuvg",
        "colab": {
          "base_uri": "https://localhost:8080/",
          "height": 607
        },
        "outputId": "e4792dd4-0450-4a50-d937-b9e9cb84afc4"
      },
      "source": [
        "pd.crosstab(df_train['Title'], df_train['Sex'])"
      ],
      "execution_count": 29,
      "outputs": [
        {
          "output_type": "execute_result",
          "data": {
            "text/html": [
              "<div>\n",
              "<style scoped>\n",
              "    .dataframe tbody tr th:only-of-type {\n",
              "        vertical-align: middle;\n",
              "    }\n",
              "\n",
              "    .dataframe tbody tr th {\n",
              "        vertical-align: top;\n",
              "    }\n",
              "\n",
              "    .dataframe thead th {\n",
              "        text-align: right;\n",
              "    }\n",
              "</style>\n",
              "<table border=\"1\" class=\"dataframe\">\n",
              "  <thead>\n",
              "    <tr style=\"text-align: right;\">\n",
              "      <th>Sex</th>\n",
              "      <th>female</th>\n",
              "      <th>male</th>\n",
              "    </tr>\n",
              "    <tr>\n",
              "      <th>Title</th>\n",
              "      <th></th>\n",
              "      <th></th>\n",
              "    </tr>\n",
              "  </thead>\n",
              "  <tbody>\n",
              "    <tr>\n",
              "      <th>Capt</th>\n",
              "      <td>0</td>\n",
              "      <td>1</td>\n",
              "    </tr>\n",
              "    <tr>\n",
              "      <th>Col</th>\n",
              "      <td>0</td>\n",
              "      <td>2</td>\n",
              "    </tr>\n",
              "    <tr>\n",
              "      <th>Countess</th>\n",
              "      <td>1</td>\n",
              "      <td>0</td>\n",
              "    </tr>\n",
              "    <tr>\n",
              "      <th>Don</th>\n",
              "      <td>0</td>\n",
              "      <td>1</td>\n",
              "    </tr>\n",
              "    <tr>\n",
              "      <th>Dr</th>\n",
              "      <td>1</td>\n",
              "      <td>6</td>\n",
              "    </tr>\n",
              "    <tr>\n",
              "      <th>Jonkheer</th>\n",
              "      <td>0</td>\n",
              "      <td>1</td>\n",
              "    </tr>\n",
              "    <tr>\n",
              "      <th>Lady</th>\n",
              "      <td>1</td>\n",
              "      <td>0</td>\n",
              "    </tr>\n",
              "    <tr>\n",
              "      <th>Major</th>\n",
              "      <td>0</td>\n",
              "      <td>2</td>\n",
              "    </tr>\n",
              "    <tr>\n",
              "      <th>Master</th>\n",
              "      <td>0</td>\n",
              "      <td>40</td>\n",
              "    </tr>\n",
              "    <tr>\n",
              "      <th>Miss</th>\n",
              "      <td>182</td>\n",
              "      <td>0</td>\n",
              "    </tr>\n",
              "    <tr>\n",
              "      <th>Mlle</th>\n",
              "      <td>2</td>\n",
              "      <td>0</td>\n",
              "    </tr>\n",
              "    <tr>\n",
              "      <th>Mme</th>\n",
              "      <td>1</td>\n",
              "      <td>0</td>\n",
              "    </tr>\n",
              "    <tr>\n",
              "      <th>Mr</th>\n",
              "      <td>0</td>\n",
              "      <td>517</td>\n",
              "    </tr>\n",
              "    <tr>\n",
              "      <th>Mrs</th>\n",
              "      <td>125</td>\n",
              "      <td>0</td>\n",
              "    </tr>\n",
              "    <tr>\n",
              "      <th>Ms</th>\n",
              "      <td>1</td>\n",
              "      <td>0</td>\n",
              "    </tr>\n",
              "    <tr>\n",
              "      <th>Rev</th>\n",
              "      <td>0</td>\n",
              "      <td>6</td>\n",
              "    </tr>\n",
              "    <tr>\n",
              "      <th>Sir</th>\n",
              "      <td>0</td>\n",
              "      <td>1</td>\n",
              "    </tr>\n",
              "  </tbody>\n",
              "</table>\n",
              "</div>"
            ],
            "text/plain": [
              "Sex       female  male\n",
              "Title                 \n",
              "Capt           0     1\n",
              "Col            0     2\n",
              "Countess       1     0\n",
              "Don            0     1\n",
              "Dr             1     6\n",
              "Jonkheer       0     1\n",
              "Lady           1     0\n",
              "Major          0     2\n",
              "Master         0    40\n",
              "Miss         182     0\n",
              "Mlle           2     0\n",
              "Mme            1     0\n",
              "Mr             0   517\n",
              "Mrs          125     0\n",
              "Ms             1     0\n",
              "Rev            0     6\n",
              "Sir            0     1"
            ]
          },
          "metadata": {
            "tags": []
          },
          "execution_count": 29
        }
      ]
    },
    {
      "cell_type": "code",
      "metadata": {
        "id": "-FtCua-Lk8Ks"
      },
      "source": [
        "for dataset in combined_datasets:\n",
        "    # Combining less common titles under the category \"Others\"\n",
        "    dataset['Title'] = dataset['Title'].replace(['Lady', 'Countess','Capt', 'Col',\\\n",
        " \t'Don', 'Dr', 'Major', 'Rev', 'Sir', 'Jonkheer', 'Dona'], 'Others')\n",
        "\n",
        "    # Replacing misspelled words\n",
        "    dataset['Title'] = dataset['Title'].replace('Mlle', 'Miss')\n",
        "    dataset['Title'] = dataset['Title'].replace('Ms', 'Miss')\n",
        "    dataset['Title'] = dataset['Title'].replace('Mme', 'Mrs')"
      ],
      "execution_count": 30,
      "outputs": []
    },
    {
      "cell_type": "code",
      "metadata": {
        "id": "hiDaS5vBlKTd",
        "colab": {
          "base_uri": "https://localhost:8080/",
          "height": 204
        },
        "outputId": "aaa006eb-bfa9-4310-a630-1391f533baf3"
      },
      "source": [
        "df_train[['Title', 'Survived']].groupby(['Title'], as_index=False).mean()"
      ],
      "execution_count": 31,
      "outputs": [
        {
          "output_type": "execute_result",
          "data": {
            "text/html": [
              "<div>\n",
              "<style scoped>\n",
              "    .dataframe tbody tr th:only-of-type {\n",
              "        vertical-align: middle;\n",
              "    }\n",
              "\n",
              "    .dataframe tbody tr th {\n",
              "        vertical-align: top;\n",
              "    }\n",
              "\n",
              "    .dataframe thead th {\n",
              "        text-align: right;\n",
              "    }\n",
              "</style>\n",
              "<table border=\"1\" class=\"dataframe\">\n",
              "  <thead>\n",
              "    <tr style=\"text-align: right;\">\n",
              "      <th></th>\n",
              "      <th>Title</th>\n",
              "      <th>Survived</th>\n",
              "    </tr>\n",
              "  </thead>\n",
              "  <tbody>\n",
              "    <tr>\n",
              "      <th>0</th>\n",
              "      <td>Master</td>\n",
              "      <td>0.575000</td>\n",
              "    </tr>\n",
              "    <tr>\n",
              "      <th>1</th>\n",
              "      <td>Miss</td>\n",
              "      <td>0.702703</td>\n",
              "    </tr>\n",
              "    <tr>\n",
              "      <th>2</th>\n",
              "      <td>Mr</td>\n",
              "      <td>0.156673</td>\n",
              "    </tr>\n",
              "    <tr>\n",
              "      <th>3</th>\n",
              "      <td>Mrs</td>\n",
              "      <td>0.793651</td>\n",
              "    </tr>\n",
              "    <tr>\n",
              "      <th>4</th>\n",
              "      <td>Others</td>\n",
              "      <td>0.347826</td>\n",
              "    </tr>\n",
              "  </tbody>\n",
              "</table>\n",
              "</div>"
            ],
            "text/plain": [
              "    Title  Survived\n",
              "0  Master  0.575000\n",
              "1    Miss  0.702703\n",
              "2      Mr  0.156673\n",
              "3     Mrs  0.793651\n",
              "4  Others  0.347826"
            ]
          },
          "metadata": {
            "tags": []
          },
          "execution_count": 31
        }
      ]
    },
    {
      "cell_type": "code",
      "metadata": {
        "colab": {
          "base_uri": "https://localhost:8080/",
          "height": 173
        },
        "id": "nNNp-byLXHVD",
        "outputId": "d031e39c-4ff7-4d44-ac02-d2579b34814d"
      },
      "source": [
        "df_train.head(3)"
      ],
      "execution_count": 32,
      "outputs": [
        {
          "output_type": "execute_result",
          "data": {
            "text/html": [
              "<div>\n",
              "<style scoped>\n",
              "    .dataframe tbody tr th:only-of-type {\n",
              "        vertical-align: middle;\n",
              "    }\n",
              "\n",
              "    .dataframe tbody tr th {\n",
              "        vertical-align: top;\n",
              "    }\n",
              "\n",
              "    .dataframe thead th {\n",
              "        text-align: right;\n",
              "    }\n",
              "</style>\n",
              "<table border=\"1\" class=\"dataframe\">\n",
              "  <thead>\n",
              "    <tr style=\"text-align: right;\">\n",
              "      <th></th>\n",
              "      <th>Survived</th>\n",
              "      <th>Pclass</th>\n",
              "      <th>Name</th>\n",
              "      <th>Sex</th>\n",
              "      <th>Age</th>\n",
              "      <th>SibSp</th>\n",
              "      <th>Parch</th>\n",
              "      <th>Ticket</th>\n",
              "      <th>Fare</th>\n",
              "      <th>Cabin</th>\n",
              "      <th>Embarked</th>\n",
              "      <th>CabinMissing</th>\n",
              "      <th>Title</th>\n",
              "    </tr>\n",
              "    <tr>\n",
              "      <th>PassengerId</th>\n",
              "      <th></th>\n",
              "      <th></th>\n",
              "      <th></th>\n",
              "      <th></th>\n",
              "      <th></th>\n",
              "      <th></th>\n",
              "      <th></th>\n",
              "      <th></th>\n",
              "      <th></th>\n",
              "      <th></th>\n",
              "      <th></th>\n",
              "      <th></th>\n",
              "      <th></th>\n",
              "    </tr>\n",
              "  </thead>\n",
              "  <tbody>\n",
              "    <tr>\n",
              "      <th>1</th>\n",
              "      <td>0</td>\n",
              "      <td>3</td>\n",
              "      <td>Braund, Mr. Owen Harris</td>\n",
              "      <td>male</td>\n",
              "      <td>22.0</td>\n",
              "      <td>1</td>\n",
              "      <td>0</td>\n",
              "      <td>A/5 21171</td>\n",
              "      <td>7.2500</td>\n",
              "      <td>NaN</td>\n",
              "      <td>S</td>\n",
              "      <td>1</td>\n",
              "      <td>Mr</td>\n",
              "    </tr>\n",
              "    <tr>\n",
              "      <th>2</th>\n",
              "      <td>1</td>\n",
              "      <td>1</td>\n",
              "      <td>Cumings, Mrs. John Bradley (Florence Briggs Th...</td>\n",
              "      <td>female</td>\n",
              "      <td>38.0</td>\n",
              "      <td>1</td>\n",
              "      <td>0</td>\n",
              "      <td>PC 17599</td>\n",
              "      <td>71.2833</td>\n",
              "      <td>C85</td>\n",
              "      <td>C</td>\n",
              "      <td>0</td>\n",
              "      <td>Mrs</td>\n",
              "    </tr>\n",
              "    <tr>\n",
              "      <th>3</th>\n",
              "      <td>1</td>\n",
              "      <td>3</td>\n",
              "      <td>Heikkinen, Miss. Laina</td>\n",
              "      <td>female</td>\n",
              "      <td>26.0</td>\n",
              "      <td>0</td>\n",
              "      <td>0</td>\n",
              "      <td>STON/O2. 3101282</td>\n",
              "      <td>7.9250</td>\n",
              "      <td>NaN</td>\n",
              "      <td>S</td>\n",
              "      <td>1</td>\n",
              "      <td>Miss</td>\n",
              "    </tr>\n",
              "  </tbody>\n",
              "</table>\n",
              "</div>"
            ],
            "text/plain": [
              "             Survived  Pclass  ... CabinMissing Title\n",
              "PassengerId                    ...                   \n",
              "1                   0       3  ...            1    Mr\n",
              "2                   1       1  ...            0   Mrs\n",
              "3                   1       3  ...            1  Miss\n",
              "\n",
              "[3 rows x 13 columns]"
            ]
          },
          "metadata": {
            "tags": []
          },
          "execution_count": 32
        }
      ]
    },
    {
      "cell_type": "code",
      "metadata": {
        "id": "WbkjY3gKl3ub"
      },
      "source": [
        "# Mapping the titles into numeric values\n",
        "title_dict_map = {\"Mr\": 1, \"Miss\": 2, \"Mrs\": 3, \"Master\": 4, \"Others\": 5}\n",
        "for dataset in combined_datasets:\n",
        "    dataset['Title'] = dataset['Title'].map(title_dict_map)\n",
        "    dataset['Title'] = dataset['Title'].fillna(0)"
      ],
      "execution_count": 33,
      "outputs": []
    },
    {
      "cell_type": "markdown",
      "metadata": {
        "id": "KclSMmHhnvvP"
      },
      "source": [
        "###Fare Column Manipulation"
      ]
    },
    {
      "cell_type": "code",
      "metadata": {
        "colab": {
          "base_uri": "https://localhost:8080/"
        },
        "id": "0qslepiCYAo_",
        "outputId": "76b76d6d-5a20-43b0-dafa-aa8cdbbe783a"
      },
      "source": [
        "print(df_train.shape)\n",
        "print(df_train[\"Fare\"].unique().shape)"
      ],
      "execution_count": 34,
      "outputs": [
        {
          "output_type": "stream",
          "text": [
            "(891, 13)\n",
            "(248,)\n"
          ],
          "name": "stdout"
        }
      ]
    },
    {
      "cell_type": "code",
      "metadata": {
        "id": "lquFYn7YdhG4"
      },
      "source": [
        "# Filling missing values with 0\n",
        "df_train['Fare'].fillna(0, inplace=True)\n",
        "df_test['Fare'].fillna(0, inplace=True)"
      ],
      "execution_count": 35,
      "outputs": []
    },
    {
      "cell_type": "code",
      "metadata": {
        "colab": {
          "base_uri": "https://localhost:8080/",
          "height": 80
        },
        "id": "B5Ecf2F88hsn",
        "outputId": "a2bc3351-3b87-453a-9025-99a82189bb0d"
      },
      "source": [
        "df_test[df_test['Fare'].isna()]"
      ],
      "execution_count": 36,
      "outputs": [
        {
          "output_type": "execute_result",
          "data": {
            "text/html": [
              "<div>\n",
              "<style scoped>\n",
              "    .dataframe tbody tr th:only-of-type {\n",
              "        vertical-align: middle;\n",
              "    }\n",
              "\n",
              "    .dataframe tbody tr th {\n",
              "        vertical-align: top;\n",
              "    }\n",
              "\n",
              "    .dataframe thead th {\n",
              "        text-align: right;\n",
              "    }\n",
              "</style>\n",
              "<table border=\"1\" class=\"dataframe\">\n",
              "  <thead>\n",
              "    <tr style=\"text-align: right;\">\n",
              "      <th></th>\n",
              "      <th>Pclass</th>\n",
              "      <th>Name</th>\n",
              "      <th>Sex</th>\n",
              "      <th>Age</th>\n",
              "      <th>SibSp</th>\n",
              "      <th>Parch</th>\n",
              "      <th>Ticket</th>\n",
              "      <th>Fare</th>\n",
              "      <th>Cabin</th>\n",
              "      <th>Embarked</th>\n",
              "      <th>CabinMissing</th>\n",
              "      <th>Title</th>\n",
              "    </tr>\n",
              "    <tr>\n",
              "      <th>PassengerId</th>\n",
              "      <th></th>\n",
              "      <th></th>\n",
              "      <th></th>\n",
              "      <th></th>\n",
              "      <th></th>\n",
              "      <th></th>\n",
              "      <th></th>\n",
              "      <th></th>\n",
              "      <th></th>\n",
              "      <th></th>\n",
              "      <th></th>\n",
              "      <th></th>\n",
              "    </tr>\n",
              "  </thead>\n",
              "  <tbody>\n",
              "  </tbody>\n",
              "</table>\n",
              "</div>"
            ],
            "text/plain": [
              "Empty DataFrame\n",
              "Columns: [Pclass, Name, Sex, Age, SibSp, Parch, Ticket, Fare, Cabin, Embarked, CabinMissing, Title]\n",
              "Index: []"
            ]
          },
          "metadata": {
            "tags": []
          },
          "execution_count": 36
        }
      ]
    },
    {
      "cell_type": "code",
      "metadata": {
        "colab": {
          "base_uri": "https://localhost:8080/"
        },
        "id": "PNu6D7DW4-cE",
        "outputId": "7465d7da-3dab-418b-cad5-f9fa690f45ee"
      },
      "source": [
        "df_train['Fare'].describe()"
      ],
      "execution_count": 37,
      "outputs": [
        {
          "output_type": "execute_result",
          "data": {
            "text/plain": [
              "count    891.000000\n",
              "mean      32.204208\n",
              "std       49.693429\n",
              "min        0.000000\n",
              "25%        7.910400\n",
              "50%       14.454200\n",
              "75%       31.000000\n",
              "max      512.329200\n",
              "Name: Fare, dtype: float64"
            ]
          },
          "metadata": {
            "tags": []
          },
          "execution_count": 37
        }
      ]
    },
    {
      "cell_type": "code",
      "metadata": {
        "colab": {
          "base_uri": "https://localhost:8080/"
        },
        "id": "VTEQZ4654cHs",
        "outputId": "ee9edb23-2239-42c7-95ca-533e1aea4ec8"
      },
      "source": [
        "df_train['Fare'].value_counts()"
      ],
      "execution_count": 38,
      "outputs": [
        {
          "output_type": "execute_result",
          "data": {
            "text/plain": [
              "8.0500     43\n",
              "13.0000    42\n",
              "7.8958     38\n",
              "7.7500     34\n",
              "26.0000    31\n",
              "           ..\n",
              "8.4583      1\n",
              "9.8375      1\n",
              "8.3625      1\n",
              "14.1083     1\n",
              "17.4000     1\n",
              "Name: Fare, Length: 248, dtype: int64"
            ]
          },
          "metadata": {
            "tags": []
          },
          "execution_count": 38
        }
      ]
    },
    {
      "cell_type": "code",
      "metadata": {
        "id": "MVTQvnfyoBCU",
        "colab": {
          "base_uri": "https://localhost:8080/",
          "height": 285
        },
        "outputId": "c7ba0194-eb32-4e41-d8bb-1e4abf218b47"
      },
      "source": [
        "sns.histplot(df_test['Fare'].value_counts());"
      ],
      "execution_count": 39,
      "outputs": [
        {
          "output_type": "display_data",
          "data": {
            "image/png": "[encoded data removed]",
            "text/plain": [
              "<Figure size 432x288 with 1 Axes>"
            ]
          },
          "metadata": {
            "tags": [],
            "needs_background": "light"
          }
        }
      ]
    },
    {
      "cell_type": "code",
      "metadata": {
        "id": "hB1-ICf5ofnn",
        "colab": {
          "base_uri": "https://localhost:8080/",
          "height": 369
        },
        "outputId": "d65314a0-b592-47e0-9ba5-d6547fcecdd9"
      },
      "source": [
        "sns.displot(df_train['Fare']);"
      ],
      "execution_count": 40,
      "outputs": [
        {
          "output_type": "display_data",
          "data": {
            "image/png": "[encoded data removed]",
            "text/plain": [
              "<Figure size 360x360 with 1 Axes>"
            ]
          },
          "metadata": {
            "tags": [],
            "needs_background": "light"
          }
        }
      ]
    },
    {
      "cell_type": "markdown",
      "metadata": {
        "id": "zPKt0jTzoqM0"
      },
      "source": [
        "###Embarked Column"
      ]
    },
    {
      "cell_type": "code",
      "metadata": {
        "id": "Ez9cxm-mosI_",
        "colab": {
          "base_uri": "https://localhost:8080/",
          "height": 142
        },
        "outputId": "469c72d4-d8b6-4216-baae-8250587ae430"
      },
      "source": [
        "# Checking the rows that have null values in the Embarked column\n",
        "df_train[df_train['Embarked'].isnull()]"
      ],
      "execution_count": 41,
      "outputs": [
        {
          "output_type": "execute_result",
          "data": {
            "text/html": [
              "<div>\n",
              "<style scoped>\n",
              "    .dataframe tbody tr th:only-of-type {\n",
              "        vertical-align: middle;\n",
              "    }\n",
              "\n",
              "    .dataframe tbody tr th {\n",
              "        vertical-align: top;\n",
              "    }\n",
              "\n",
              "    .dataframe thead th {\n",
              "        text-align: right;\n",
              "    }\n",
              "</style>\n",
              "<table border=\"1\" class=\"dataframe\">\n",
              "  <thead>\n",
              "    <tr style=\"text-align: right;\">\n",
              "      <th></th>\n",
              "      <th>Survived</th>\n",
              "      <th>Pclass</th>\n",
              "      <th>Name</th>\n",
              "      <th>Sex</th>\n",
              "      <th>Age</th>\n",
              "      <th>SibSp</th>\n",
              "      <th>Parch</th>\n",
              "      <th>Ticket</th>\n",
              "      <th>Fare</th>\n",
              "      <th>Cabin</th>\n",
              "      <th>Embarked</th>\n",
              "      <th>CabinMissing</th>\n",
              "      <th>Title</th>\n",
              "    </tr>\n",
              "    <tr>\n",
              "      <th>PassengerId</th>\n",
              "      <th></th>\n",
              "      <th></th>\n",
              "      <th></th>\n",
              "      <th></th>\n",
              "      <th></th>\n",
              "      <th></th>\n",
              "      <th></th>\n",
              "      <th></th>\n",
              "      <th></th>\n",
              "      <th></th>\n",
              "      <th></th>\n",
              "      <th></th>\n",
              "      <th></th>\n",
              "    </tr>\n",
              "  </thead>\n",
              "  <tbody>\n",
              "    <tr>\n",
              "      <th>62</th>\n",
              "      <td>1</td>\n",
              "      <td>1</td>\n",
              "      <td>Icard, Miss. Amelie</td>\n",
              "      <td>female</td>\n",
              "      <td>38.0</td>\n",
              "      <td>0</td>\n",
              "      <td>0</td>\n",
              "      <td>113572</td>\n",
              "      <td>80.0</td>\n",
              "      <td>B28</td>\n",
              "      <td>NaN</td>\n",
              "      <td>0</td>\n",
              "      <td>2</td>\n",
              "    </tr>\n",
              "    <tr>\n",
              "      <th>830</th>\n",
              "      <td>1</td>\n",
              "      <td>1</td>\n",
              "      <td>Stone, Mrs. George Nelson (Martha Evelyn)</td>\n",
              "      <td>female</td>\n",
              "      <td>62.0</td>\n",
              "      <td>0</td>\n",
              "      <td>0</td>\n",
              "      <td>113572</td>\n",
              "      <td>80.0</td>\n",
              "      <td>B28</td>\n",
              "      <td>NaN</td>\n",
              "      <td>0</td>\n",
              "      <td>3</td>\n",
              "    </tr>\n",
              "  </tbody>\n",
              "</table>\n",
              "</div>"
            ],
            "text/plain": [
              "             Survived  Pclass  ... CabinMissing Title\n",
              "PassengerId                    ...                   \n",
              "62                  1       1  ...            0     2\n",
              "830                 1       1  ...            0     3\n",
              "\n",
              "[2 rows x 13 columns]"
            ]
          },
          "metadata": {
            "tags": []
          },
          "execution_count": 41
        }
      ]
    },
    {
      "cell_type": "code",
      "metadata": {
        "id": "3eH7bHt5pDLM"
      },
      "source": [
        "# This will be filled with the mode (the most common value)\n",
        "freq_embarked_port = df_train.Embarked.dropna().mode()[0]\n",
        "\n",
        "for dataset in combined_datasets:\n",
        "    dataset['Embarked'] = dataset['Embarked'].fillna(freq_embarked_port)"
      ],
      "execution_count": 42,
      "outputs": []
    },
    {
      "cell_type": "code",
      "metadata": {
        "id": "BjS1lv8PpvcU",
        "colab": {
          "base_uri": "https://localhost:8080/",
          "height": 142
        },
        "outputId": "e97bd030-3a05-434e-c064-06ad7531b0a6"
      },
      "source": [
        "df_train[['Embarked', 'Survived']].groupby(['Embarked'], as_index=False).mean().sort_values(by='Survived', ascending=False)"
      ],
      "execution_count": 43,
      "outputs": [
        {
          "output_type": "execute_result",
          "data": {
            "text/html": [
              "<div>\n",
              "<style scoped>\n",
              "    .dataframe tbody tr th:only-of-type {\n",
              "        vertical-align: middle;\n",
              "    }\n",
              "\n",
              "    .dataframe tbody tr th {\n",
              "        vertical-align: top;\n",
              "    }\n",
              "\n",
              "    .dataframe thead th {\n",
              "        text-align: right;\n",
              "    }\n",
              "</style>\n",
              "<table border=\"1\" class=\"dataframe\">\n",
              "  <thead>\n",
              "    <tr style=\"text-align: right;\">\n",
              "      <th></th>\n",
              "      <th>Embarked</th>\n",
              "      <th>Survived</th>\n",
              "    </tr>\n",
              "  </thead>\n",
              "  <tbody>\n",
              "    <tr>\n",
              "      <th>0</th>\n",
              "      <td>C</td>\n",
              "      <td>0.553571</td>\n",
              "    </tr>\n",
              "    <tr>\n",
              "      <th>1</th>\n",
              "      <td>Q</td>\n",
              "      <td>0.389610</td>\n",
              "    </tr>\n",
              "    <tr>\n",
              "      <th>2</th>\n",
              "      <td>S</td>\n",
              "      <td>0.339009</td>\n",
              "    </tr>\n",
              "  </tbody>\n",
              "</table>\n",
              "</div>"
            ],
            "text/plain": [
              "  Embarked  Survived\n",
              "0        C  0.553571\n",
              "1        Q  0.389610\n",
              "2        S  0.339009"
            ]
          },
          "metadata": {
            "tags": []
          },
          "execution_count": 43
        }
      ]
    },
    {
      "cell_type": "code",
      "metadata": {
        "id": "yH0_4oG8qKNQ"
      },
      "source": [
        "# As it seems that there's a correlation, this column will be kept. Converting to numeric:\n",
        "\n",
        "for dataset in combined_datasets:\n",
        "    dataset['Embarked'] = dataset['Embarked'].map( {'S': 0, 'C': 1, 'Q': 2} ).astype(int)"
      ],
      "execution_count": 44,
      "outputs": []
    },
    {
      "cell_type": "code",
      "metadata": {
        "id": "SaLu7Zz6-qDJ",
        "colab": {
          "base_uri": "https://localhost:8080/",
          "height": 142
        },
        "outputId": "ce4fe754-5d0d-4b56-8a1d-ae822c4073fd"
      },
      "source": [
        "df_train.head(2)"
      ],
      "execution_count": 45,
      "outputs": [
        {
          "output_type": "execute_result",
          "data": {
            "text/html": [
              "<div>\n",
              "<style scoped>\n",
              "    .dataframe tbody tr th:only-of-type {\n",
              "        vertical-align: middle;\n",
              "    }\n",
              "\n",
              "    .dataframe tbody tr th {\n",
              "        vertical-align: top;\n",
              "    }\n",
              "\n",
              "    .dataframe thead th {\n",
              "        text-align: right;\n",
              "    }\n",
              "</style>\n",
              "<table border=\"1\" class=\"dataframe\">\n",
              "  <thead>\n",
              "    <tr style=\"text-align: right;\">\n",
              "      <th></th>\n",
              "      <th>Survived</th>\n",
              "      <th>Pclass</th>\n",
              "      <th>Name</th>\n",
              "      <th>Sex</th>\n",
              "      <th>Age</th>\n",
              "      <th>SibSp</th>\n",
              "      <th>Parch</th>\n",
              "      <th>Ticket</th>\n",
              "      <th>Fare</th>\n",
              "      <th>Cabin</th>\n",
              "      <th>Embarked</th>\n",
              "      <th>CabinMissing</th>\n",
              "      <th>Title</th>\n",
              "    </tr>\n",
              "    <tr>\n",
              "      <th>PassengerId</th>\n",
              "      <th></th>\n",
              "      <th></th>\n",
              "      <th></th>\n",
              "      <th></th>\n",
              "      <th></th>\n",
              "      <th></th>\n",
              "      <th></th>\n",
              "      <th></th>\n",
              "      <th></th>\n",
              "      <th></th>\n",
              "      <th></th>\n",
              "      <th></th>\n",
              "      <th></th>\n",
              "    </tr>\n",
              "  </thead>\n",
              "  <tbody>\n",
              "    <tr>\n",
              "      <th>1</th>\n",
              "      <td>0</td>\n",
              "      <td>3</td>\n",
              "      <td>Braund, Mr. Owen Harris</td>\n",
              "      <td>male</td>\n",
              "      <td>22.0</td>\n",
              "      <td>1</td>\n",
              "      <td>0</td>\n",
              "      <td>A/5 21171</td>\n",
              "      <td>7.2500</td>\n",
              "      <td>NaN</td>\n",
              "      <td>0</td>\n",
              "      <td>1</td>\n",
              "      <td>1</td>\n",
              "    </tr>\n",
              "    <tr>\n",
              "      <th>2</th>\n",
              "      <td>1</td>\n",
              "      <td>1</td>\n",
              "      <td>Cumings, Mrs. John Bradley (Florence Briggs Th...</td>\n",
              "      <td>female</td>\n",
              "      <td>38.0</td>\n",
              "      <td>1</td>\n",
              "      <td>0</td>\n",
              "      <td>PC 17599</td>\n",
              "      <td>71.2833</td>\n",
              "      <td>C85</td>\n",
              "      <td>1</td>\n",
              "      <td>0</td>\n",
              "      <td>3</td>\n",
              "    </tr>\n",
              "  </tbody>\n",
              "</table>\n",
              "</div>"
            ],
            "text/plain": [
              "             Survived  Pclass  ... CabinMissing Title\n",
              "PassengerId                    ...                   \n",
              "1                   0       3  ...            1     1\n",
              "2                   1       1  ...            0     3\n",
              "\n",
              "[2 rows x 13 columns]"
            ]
          },
          "metadata": {
            "tags": []
          },
          "execution_count": 45
        }
      ]
    },
    {
      "cell_type": "code",
      "metadata": {
        "id": "DrX0ajl8-sS3",
        "colab": {
          "base_uri": "https://localhost:8080/",
          "height": 142
        },
        "outputId": "30233d2b-a5b3-4476-a4fd-5563c1ab9329"
      },
      "source": [
        "df_test.head(2)"
      ],
      "execution_count": 46,
      "outputs": [
        {
          "output_type": "execute_result",
          "data": {
            "text/html": [
              "<div>\n",
              "<style scoped>\n",
              "    .dataframe tbody tr th:only-of-type {\n",
              "        vertical-align: middle;\n",
              "    }\n",
              "\n",
              "    .dataframe tbody tr th {\n",
              "        vertical-align: top;\n",
              "    }\n",
              "\n",
              "    .dataframe thead th {\n",
              "        text-align: right;\n",
              "    }\n",
              "</style>\n",
              "<table border=\"1\" class=\"dataframe\">\n",
              "  <thead>\n",
              "    <tr style=\"text-align: right;\">\n",
              "      <th></th>\n",
              "      <th>Pclass</th>\n",
              "      <th>Name</th>\n",
              "      <th>Sex</th>\n",
              "      <th>Age</th>\n",
              "      <th>SibSp</th>\n",
              "      <th>Parch</th>\n",
              "      <th>Ticket</th>\n",
              "      <th>Fare</th>\n",
              "      <th>Cabin</th>\n",
              "      <th>Embarked</th>\n",
              "      <th>CabinMissing</th>\n",
              "      <th>Title</th>\n",
              "    </tr>\n",
              "    <tr>\n",
              "      <th>PassengerId</th>\n",
              "      <th></th>\n",
              "      <th></th>\n",
              "      <th></th>\n",
              "      <th></th>\n",
              "      <th></th>\n",
              "      <th></th>\n",
              "      <th></th>\n",
              "      <th></th>\n",
              "      <th></th>\n",
              "      <th></th>\n",
              "      <th></th>\n",
              "      <th></th>\n",
              "    </tr>\n",
              "  </thead>\n",
              "  <tbody>\n",
              "    <tr>\n",
              "      <th>892</th>\n",
              "      <td>3</td>\n",
              "      <td>Kelly, Mr. James</td>\n",
              "      <td>male</td>\n",
              "      <td>34.5</td>\n",
              "      <td>0</td>\n",
              "      <td>0</td>\n",
              "      <td>330911</td>\n",
              "      <td>7.8292</td>\n",
              "      <td>NaN</td>\n",
              "      <td>2</td>\n",
              "      <td>1</td>\n",
              "      <td>1</td>\n",
              "    </tr>\n",
              "    <tr>\n",
              "      <th>893</th>\n",
              "      <td>3</td>\n",
              "      <td>Wilkes, Mrs. James (Ellen Needs)</td>\n",
              "      <td>female</td>\n",
              "      <td>47.0</td>\n",
              "      <td>1</td>\n",
              "      <td>0</td>\n",
              "      <td>363272</td>\n",
              "      <td>7.0000</td>\n",
              "      <td>NaN</td>\n",
              "      <td>0</td>\n",
              "      <td>1</td>\n",
              "      <td>3</td>\n",
              "    </tr>\n",
              "  </tbody>\n",
              "</table>\n",
              "</div>"
            ],
            "text/plain": [
              "             Pclass                              Name  ... CabinMissing  Title\n",
              "PassengerId                                            ...                    \n",
              "892               3                  Kelly, Mr. James  ...            1      1\n",
              "893               3  Wilkes, Mrs. James (Ellen Needs)  ...            1      3\n",
              "\n",
              "[2 rows x 12 columns]"
            ]
          },
          "metadata": {
            "tags": []
          },
          "execution_count": 46
        }
      ]
    },
    {
      "cell_type": "markdown",
      "metadata": {
        "id": "O0AQdK6FqmnK"
      },
      "source": [
        "###Parch and SibSp columns"
      ]
    },
    {
      "cell_type": "code",
      "metadata": {
        "id": "upqBBVsMqo-5"
      },
      "source": [
        "# I'll create a new column (FamilyMembers) to see who is alone and how that correlates to the survival rate\n",
        "for dataset in combined_datasets:\n",
        "    dataset['FamilyMembers'] = dataset['SibSp'] + dataset['Parch'] + 1"
      ],
      "execution_count": 47,
      "outputs": []
    },
    {
      "cell_type": "code",
      "metadata": {
        "id": "JQ4tpCTooLi1",
        "colab": {
          "base_uri": "https://localhost:8080/",
          "height": 328
        },
        "outputId": "5bca679d-d635-4c37-a5aa-dee87108dc6a"
      },
      "source": [
        "df_train[['FamilyMembers', 'Survived']].groupby(['FamilyMembers'], as_index=False).mean().sort_values(by='Survived', ascending=False)"
      ],
      "execution_count": 48,
      "outputs": [
        {
          "output_type": "execute_result",
          "data": {
            "text/html": [
              "<div>\n",
              "<style scoped>\n",
              "    .dataframe tbody tr th:only-of-type {\n",
              "        vertical-align: middle;\n",
              "    }\n",
              "\n",
              "    .dataframe tbody tr th {\n",
              "        vertical-align: top;\n",
              "    }\n",
              "\n",
              "    .dataframe thead th {\n",
              "        text-align: right;\n",
              "    }\n",
              "</style>\n",
              "<table border=\"1\" class=\"dataframe\">\n",
              "  <thead>\n",
              "    <tr style=\"text-align: right;\">\n",
              "      <th></th>\n",
              "      <th>FamilyMembers</th>\n",
              "      <th>Survived</th>\n",
              "    </tr>\n",
              "  </thead>\n",
              "  <tbody>\n",
              "    <tr>\n",
              "      <th>3</th>\n",
              "      <td>4</td>\n",
              "      <td>0.724138</td>\n",
              "    </tr>\n",
              "    <tr>\n",
              "      <th>2</th>\n",
              "      <td>3</td>\n",
              "      <td>0.578431</td>\n",
              "    </tr>\n",
              "    <tr>\n",
              "      <th>1</th>\n",
              "      <td>2</td>\n",
              "      <td>0.552795</td>\n",
              "    </tr>\n",
              "    <tr>\n",
              "      <th>6</th>\n",
              "      <td>7</td>\n",
              "      <td>0.333333</td>\n",
              "    </tr>\n",
              "    <tr>\n",
              "      <th>0</th>\n",
              "      <td>1</td>\n",
              "      <td>0.303538</td>\n",
              "    </tr>\n",
              "    <tr>\n",
              "      <th>4</th>\n",
              "      <td>5</td>\n",
              "      <td>0.200000</td>\n",
              "    </tr>\n",
              "    <tr>\n",
              "      <th>5</th>\n",
              "      <td>6</td>\n",
              "      <td>0.136364</td>\n",
              "    </tr>\n",
              "    <tr>\n",
              "      <th>7</th>\n",
              "      <td>8</td>\n",
              "      <td>0.000000</td>\n",
              "    </tr>\n",
              "    <tr>\n",
              "      <th>8</th>\n",
              "      <td>11</td>\n",
              "      <td>0.000000</td>\n",
              "    </tr>\n",
              "  </tbody>\n",
              "</table>\n",
              "</div>"
            ],
            "text/plain": [
              "   FamilyMembers  Survived\n",
              "3              4  0.724138\n",
              "2              3  0.578431\n",
              "1              2  0.552795\n",
              "6              7  0.333333\n",
              "0              1  0.303538\n",
              "4              5  0.200000\n",
              "5              6  0.136364\n",
              "7              8  0.000000\n",
              "8             11  0.000000"
            ]
          },
          "metadata": {
            "tags": []
          },
          "execution_count": 48
        }
      ]
    },
    {
      "cell_type": "code",
      "metadata": {
        "id": "_t0k8X6WoWAM"
      },
      "source": [
        "# Simplifying it creating a column \"IsAlone\"for dataset in combine:\n",
        "for dataset in combined_datasets:\n",
        "    dataset['IsAlone'] = 0\n",
        "    dataset.loc[dataset['FamilyMembers'] == 1, 'IsAlone'] = 1"
      ],
      "execution_count": 49,
      "outputs": []
    },
    {
      "cell_type": "code",
      "metadata": {
        "id": "k_Ce_kazolRf",
        "colab": {
          "base_uri": "https://localhost:8080/",
          "height": 111
        },
        "outputId": "5781bf7e-5108-4cb1-b96b-7b4a2a0a7d2c"
      },
      "source": [
        "df_train[['IsAlone', 'Survived']].groupby(['IsAlone'], as_index=False).mean()"
      ],
      "execution_count": 50,
      "outputs": [
        {
          "output_type": "execute_result",
          "data": {
            "text/html": [
              "<div>\n",
              "<style scoped>\n",
              "    .dataframe tbody tr th:only-of-type {\n",
              "        vertical-align: middle;\n",
              "    }\n",
              "\n",
              "    .dataframe tbody tr th {\n",
              "        vertical-align: top;\n",
              "    }\n",
              "\n",
              "    .dataframe thead th {\n",
              "        text-align: right;\n",
              "    }\n",
              "</style>\n",
              "<table border=\"1\" class=\"dataframe\">\n",
              "  <thead>\n",
              "    <tr style=\"text-align: right;\">\n",
              "      <th></th>\n",
              "      <th>IsAlone</th>\n",
              "      <th>Survived</th>\n",
              "    </tr>\n",
              "  </thead>\n",
              "  <tbody>\n",
              "    <tr>\n",
              "      <th>0</th>\n",
              "      <td>0</td>\n",
              "      <td>0.505650</td>\n",
              "    </tr>\n",
              "    <tr>\n",
              "      <th>1</th>\n",
              "      <td>1</td>\n",
              "      <td>0.303538</td>\n",
              "    </tr>\n",
              "  </tbody>\n",
              "</table>\n",
              "</div>"
            ],
            "text/plain": [
              "   IsAlone  Survived\n",
              "0        0  0.505650\n",
              "1        1  0.303538"
            ]
          },
          "metadata": {
            "tags": []
          },
          "execution_count": 50
        }
      ]
    },
    {
      "cell_type": "markdown",
      "metadata": {
        "id": "nuNMphdTpP9i"
      },
      "source": [
        "###Sex Column"
      ]
    },
    {
      "cell_type": "code",
      "metadata": {
        "id": "jN-CrYBcpRUr",
        "colab": {
          "base_uri": "https://localhost:8080/",
          "height": 111
        },
        "outputId": "463d5f3b-980f-43fa-86cf-c45b06cebeee"
      },
      "source": [
        "df_train[['Sex', 'Survived']].groupby(['Sex'], as_index=False).mean()"
      ],
      "execution_count": 51,
      "outputs": [
        {
          "output_type": "execute_result",
          "data": {
            "text/html": [
              "<div>\n",
              "<style scoped>\n",
              "    .dataframe tbody tr th:only-of-type {\n",
              "        vertical-align: middle;\n",
              "    }\n",
              "\n",
              "    .dataframe tbody tr th {\n",
              "        vertical-align: top;\n",
              "    }\n",
              "\n",
              "    .dataframe thead th {\n",
              "        text-align: right;\n",
              "    }\n",
              "</style>\n",
              "<table border=\"1\" class=\"dataframe\">\n",
              "  <thead>\n",
              "    <tr style=\"text-align: right;\">\n",
              "      <th></th>\n",
              "      <th>Sex</th>\n",
              "      <th>Survived</th>\n",
              "    </tr>\n",
              "  </thead>\n",
              "  <tbody>\n",
              "    <tr>\n",
              "      <th>0</th>\n",
              "      <td>female</td>\n",
              "      <td>0.742038</td>\n",
              "    </tr>\n",
              "    <tr>\n",
              "      <th>1</th>\n",
              "      <td>male</td>\n",
              "      <td>0.188908</td>\n",
              "    </tr>\n",
              "  </tbody>\n",
              "</table>\n",
              "</div>"
            ],
            "text/plain": [
              "      Sex  Survived\n",
              "0  female  0.742038\n",
              "1    male  0.188908"
            ]
          },
          "metadata": {
            "tags": []
          },
          "execution_count": 51
        }
      ]
    },
    {
      "cell_type": "code",
      "metadata": {
        "id": "Pi_cOnx1pXzX"
      },
      "source": [
        "#The correlation is strong. So I'll map into numeric values to use it in the ML algorithm\n",
        "for dataset in combined_datasets:\n",
        "    dataset['Sex'] = dataset['Sex'].map( {'female': 1, 'male': 0} ).astype(int)"
      ],
      "execution_count": 52,
      "outputs": []
    },
    {
      "cell_type": "code",
      "metadata": {
        "id": "4HSPorAFpii5",
        "colab": {
          "base_uri": "https://localhost:8080/",
          "height": 142
        },
        "outputId": "54bf6f3c-ef99-49bd-cac6-24b4a36c28ef"
      },
      "source": [
        "df_train.head(2)"
      ],
      "execution_count": 53,
      "outputs": [
        {
          "output_type": "execute_result",
          "data": {
            "text/html": [
              "<div>\n",
              "<style scoped>\n",
              "    .dataframe tbody tr th:only-of-type {\n",
              "        vertical-align: middle;\n",
              "    }\n",
              "\n",
              "    .dataframe tbody tr th {\n",
              "        vertical-align: top;\n",
              "    }\n",
              "\n",
              "    .dataframe thead th {\n",
              "        text-align: right;\n",
              "    }\n",
              "</style>\n",
              "<table border=\"1\" class=\"dataframe\">\n",
              "  <thead>\n",
              "    <tr style=\"text-align: right;\">\n",
              "      <th></th>\n",
              "      <th>Survived</th>\n",
              "      <th>Pclass</th>\n",
              "      <th>Name</th>\n",
              "      <th>Sex</th>\n",
              "      <th>Age</th>\n",
              "      <th>SibSp</th>\n",
              "      <th>Parch</th>\n",
              "      <th>Ticket</th>\n",
              "      <th>Fare</th>\n",
              "      <th>Cabin</th>\n",
              "      <th>Embarked</th>\n",
              "      <th>CabinMissing</th>\n",
              "      <th>Title</th>\n",
              "      <th>FamilyMembers</th>\n",
              "      <th>IsAlone</th>\n",
              "    </tr>\n",
              "    <tr>\n",
              "      <th>PassengerId</th>\n",
              "      <th></th>\n",
              "      <th></th>\n",
              "      <th></th>\n",
              "      <th></th>\n",
              "      <th></th>\n",
              "      <th></th>\n",
              "      <th></th>\n",
              "      <th></th>\n",
              "      <th></th>\n",
              "      <th></th>\n",
              "      <th></th>\n",
              "      <th></th>\n",
              "      <th></th>\n",
              "      <th></th>\n",
              "      <th></th>\n",
              "    </tr>\n",
              "  </thead>\n",
              "  <tbody>\n",
              "    <tr>\n",
              "      <th>1</th>\n",
              "      <td>0</td>\n",
              "      <td>3</td>\n",
              "      <td>Braund, Mr. Owen Harris</td>\n",
              "      <td>0</td>\n",
              "      <td>22.0</td>\n",
              "      <td>1</td>\n",
              "      <td>0</td>\n",
              "      <td>A/5 21171</td>\n",
              "      <td>7.2500</td>\n",
              "      <td>NaN</td>\n",
              "      <td>0</td>\n",
              "      <td>1</td>\n",
              "      <td>1</td>\n",
              "      <td>2</td>\n",
              "      <td>0</td>\n",
              "    </tr>\n",
              "    <tr>\n",
              "      <th>2</th>\n",
              "      <td>1</td>\n",
              "      <td>1</td>\n",
              "      <td>Cumings, Mrs. John Bradley (Florence Briggs Th...</td>\n",
              "      <td>1</td>\n",
              "      <td>38.0</td>\n",
              "      <td>1</td>\n",
              "      <td>0</td>\n",
              "      <td>PC 17599</td>\n",
              "      <td>71.2833</td>\n",
              "      <td>C85</td>\n",
              "      <td>1</td>\n",
              "      <td>0</td>\n",
              "      <td>3</td>\n",
              "      <td>2</td>\n",
              "      <td>0</td>\n",
              "    </tr>\n",
              "  </tbody>\n",
              "</table>\n",
              "</div>"
            ],
            "text/plain": [
              "             Survived  Pclass  ... FamilyMembers  IsAlone\n",
              "PassengerId                    ...                       \n",
              "1                   0       3  ...             2        0\n",
              "2                   1       1  ...             2        0\n",
              "\n",
              "[2 rows x 15 columns]"
            ]
          },
          "metadata": {
            "tags": []
          },
          "execution_count": 53
        }
      ]
    },
    {
      "cell_type": "code",
      "metadata": {
        "id": "uySGt3tFpkBy",
        "colab": {
          "base_uri": "https://localhost:8080/",
          "height": 142
        },
        "outputId": "e4f4c007-cf5b-4753-eb50-91230c54fe9f"
      },
      "source": [
        "df_test.head(2)"
      ],
      "execution_count": 54,
      "outputs": [
        {
          "output_type": "execute_result",
          "data": {
            "text/html": [
              "<div>\n",
              "<style scoped>\n",
              "    .dataframe tbody tr th:only-of-type {\n",
              "        vertical-align: middle;\n",
              "    }\n",
              "\n",
              "    .dataframe tbody tr th {\n",
              "        vertical-align: top;\n",
              "    }\n",
              "\n",
              "    .dataframe thead th {\n",
              "        text-align: right;\n",
              "    }\n",
              "</style>\n",
              "<table border=\"1\" class=\"dataframe\">\n",
              "  <thead>\n",
              "    <tr style=\"text-align: right;\">\n",
              "      <th></th>\n",
              "      <th>Pclass</th>\n",
              "      <th>Name</th>\n",
              "      <th>Sex</th>\n",
              "      <th>Age</th>\n",
              "      <th>SibSp</th>\n",
              "      <th>Parch</th>\n",
              "      <th>Ticket</th>\n",
              "      <th>Fare</th>\n",
              "      <th>Cabin</th>\n",
              "      <th>Embarked</th>\n",
              "      <th>CabinMissing</th>\n",
              "      <th>Title</th>\n",
              "      <th>FamilyMembers</th>\n",
              "      <th>IsAlone</th>\n",
              "    </tr>\n",
              "    <tr>\n",
              "      <th>PassengerId</th>\n",
              "      <th></th>\n",
              "      <th></th>\n",
              "      <th></th>\n",
              "      <th></th>\n",
              "      <th></th>\n",
              "      <th></th>\n",
              "      <th></th>\n",
              "      <th></th>\n",
              "      <th></th>\n",
              "      <th></th>\n",
              "      <th></th>\n",
              "      <th></th>\n",
              "      <th></th>\n",
              "      <th></th>\n",
              "    </tr>\n",
              "  </thead>\n",
              "  <tbody>\n",
              "    <tr>\n",
              "      <th>892</th>\n",
              "      <td>3</td>\n",
              "      <td>Kelly, Mr. James</td>\n",
              "      <td>0</td>\n",
              "      <td>34.5</td>\n",
              "      <td>0</td>\n",
              "      <td>0</td>\n",
              "      <td>330911</td>\n",
              "      <td>7.8292</td>\n",
              "      <td>NaN</td>\n",
              "      <td>2</td>\n",
              "      <td>1</td>\n",
              "      <td>1</td>\n",
              "      <td>1</td>\n",
              "      <td>1</td>\n",
              "    </tr>\n",
              "    <tr>\n",
              "      <th>893</th>\n",
              "      <td>3</td>\n",
              "      <td>Wilkes, Mrs. James (Ellen Needs)</td>\n",
              "      <td>1</td>\n",
              "      <td>47.0</td>\n",
              "      <td>1</td>\n",
              "      <td>0</td>\n",
              "      <td>363272</td>\n",
              "      <td>7.0000</td>\n",
              "      <td>NaN</td>\n",
              "      <td>0</td>\n",
              "      <td>1</td>\n",
              "      <td>3</td>\n",
              "      <td>2</td>\n",
              "      <td>0</td>\n",
              "    </tr>\n",
              "  </tbody>\n",
              "</table>\n",
              "</div>"
            ],
            "text/plain": [
              "             Pclass                              Name  ...  FamilyMembers  IsAlone\n",
              "PassengerId                                            ...                        \n",
              "892               3                  Kelly, Mr. James  ...              1        1\n",
              "893               3  Wilkes, Mrs. James (Ellen Needs)  ...              2        0\n",
              "\n",
              "[2 rows x 14 columns]"
            ]
          },
          "metadata": {
            "tags": []
          },
          "execution_count": 54
        }
      ]
    },
    {
      "cell_type": "markdown",
      "metadata": {
        "id": "_cJwf_nc3QEH"
      },
      "source": [
        "###Filling Missing Values in Age Column"
      ]
    },
    {
      "cell_type": "code",
      "metadata": {
        "id": "1gXEF_-Pp2Dk",
        "colab": {
          "base_uri": "https://localhost:8080/",
          "height": 369
        },
        "outputId": "e75aacba-5cae-4b28-8ff6-16a97372daee"
      },
      "source": [
        "sns.displot(df_train['Age']);"
      ],
      "execution_count": 55,
      "outputs": [
        {
          "output_type": "display_data",
          "data": {
            "image/png": "[encoded data removed]",
            "text/plain": [
              "<Figure size 360x360 with 1 Axes>"
            ]
          },
          "metadata": {
            "tags": [],
            "needs_background": "light"
          }
        }
      ]
    },
    {
      "cell_type": "code",
      "metadata": {
        "id": "RshkAVnl4sK9"
      },
      "source": [
        "df_train['Age'].fillna(-1, inplace=True)\n",
        "df_test['Age'].fillna(-1, inplace=True)"
      ],
      "execution_count": 56,
      "outputs": []
    },
    {
      "cell_type": "code",
      "metadata": {
        "colab": {
          "base_uri": "https://localhost:8080/",
          "height": 369
        },
        "id": "_t9h-iQ49Gco",
        "outputId": "9fd2cfe1-23fb-4722-8dfb-e772fa87e769"
      },
      "source": [
        "sns.displot(df_train['Age']);"
      ],
      "execution_count": 57,
      "outputs": [
        {
          "output_type": "display_data",
          "data": {
            "image/png": "[encoded data removed]",
            "text/plain": [
              "<Figure size 360x360 with 1 Axes>"
            ]
          },
          "metadata": {
            "tags": [],
            "needs_background": "light"
          }
        }
      ]
    },
    {
      "cell_type": "code",
      "metadata": {
        "id": "UogKYGaVsHHI",
        "colab": {
          "base_uri": "https://localhost:8080/"
        },
        "outputId": "61343d4d-2e41-4e7d-bc6e-5925b5950260"
      },
      "source": [
        "df_train.isnull().sum().sort_values(ascending=False)"
      ],
      "execution_count": 58,
      "outputs": [
        {
          "output_type": "execute_result",
          "data": {
            "text/plain": [
              "Cabin            687\n",
              "IsAlone            0\n",
              "FamilyMembers      0\n",
              "Title              0\n",
              "CabinMissing       0\n",
              "Embarked           0\n",
              "Fare               0\n",
              "Ticket             0\n",
              "Parch              0\n",
              "SibSp              0\n",
              "Age                0\n",
              "Sex                0\n",
              "Name               0\n",
              "Pclass             0\n",
              "Survived           0\n",
              "dtype: int64"
            ]
          },
          "metadata": {
            "tags": []
          },
          "execution_count": 58
        }
      ]
    },
    {
      "cell_type": "code",
      "metadata": {
        "id": "WHURQvinsBxI",
        "colab": {
          "base_uri": "https://localhost:8080/"
        },
        "outputId": "79500097-5837-472e-e37a-378972774652"
      },
      "source": [
        "df_test.isnull().sum().sort_values(ascending=False)"
      ],
      "execution_count": 59,
      "outputs": [
        {
          "output_type": "execute_result",
          "data": {
            "text/plain": [
              "Cabin            327\n",
              "IsAlone            0\n",
              "FamilyMembers      0\n",
              "Title              0\n",
              "CabinMissing       0\n",
              "Embarked           0\n",
              "Fare               0\n",
              "Ticket             0\n",
              "Parch              0\n",
              "SibSp              0\n",
              "Age                0\n",
              "Sex                0\n",
              "Name               0\n",
              "Pclass             0\n",
              "dtype: int64"
            ]
          },
          "metadata": {
            "tags": []
          },
          "execution_count": 59
        }
      ]
    },
    {
      "cell_type": "markdown",
      "metadata": {
        "id": "35BvMZzxi1O5"
      },
      "source": [
        "###Analysing Correlation"
      ]
    },
    {
      "cell_type": "code",
      "metadata": {
        "id": "7g37bY1AsWNQ",
        "colab": {
          "base_uri": "https://localhost:8080/",
          "height": 947
        },
        "outputId": "286b4683-6063-49a1-f019-b5ef1dfc2772"
      },
      "source": [
        "#Analysing the correlation of features again\n",
        "\n",
        "mat2 = df_train.corr()\n",
        "fig, ax = plt.subplots(figsize = (15,15))\n",
        "sns.heatmap(mat2, annot = True, annot_kws={'size': 12});"
      ],
      "execution_count": 60,
      "outputs": [
        {
          "output_type": "display_data",
          "data": {
            "image/png": "[encoded data removed]",
            "text/plain": [
              "<Figure size 1080x1080 with 2 Axes>"
            ]
          },
          "metadata": {
            "tags": [],
            "needs_background": "light"
          }
        }
      ]
    },
    {
      "cell_type": "markdown",
      "metadata": {
        "id": "PLvDhzykAJz5"
      },
      "source": [
        "* -1: Missing\r\n",
        "* 1: Child (0-12 years)\r\n",
        "* 2: Adolescence (13-18 years)\r\n",
        "* 3: Adult (19-59 years)\r\n",
        "* 4: Senior Adult (60 years and above)"
      ]
    },
    {
      "cell_type": "code",
      "metadata": {
        "id": "PaBXiFat-3Z3"
      },
      "source": [
        "def age_group(value):\r\n",
        "    if value == -1:\r\n",
        "        return -1   # missing value\r\n",
        "    if value >= 0 and value <= 12:\r\n",
        "        return 1    # child \r\n",
        "    if value > 12 and value <= 18:\r\n",
        "        return 2    # adolescent\r\n",
        "    if value > 18 and value <= 59:\r\n",
        "        return 3    # adult\r\n",
        "    if value > 59:\r\n",
        "        return 4    # senior"
      ],
      "execution_count": 61,
      "outputs": []
    },
    {
      "cell_type": "code",
      "metadata": {
        "id": "dRNsGfJWCLgn"
      },
      "source": [
        "df_train['Age Group'] = df_train['Age'].map(age_group)\r\n",
        "df_test['Age Group'] = df_test['Age'].map(age_group)"
      ],
      "execution_count": 62,
      "outputs": []
    },
    {
      "cell_type": "code",
      "metadata": {
        "colab": {
          "base_uri": "https://localhost:8080/",
          "height": 142
        },
        "id": "0iQCEDSfCapC",
        "outputId": "c641e1df-4543-481b-aed5-2074d64ec435"
      },
      "source": [
        "df_train.head(2)"
      ],
      "execution_count": 63,
      "outputs": [
        {
          "output_type": "execute_result",
          "data": {
            "text/html": [
              "<div>\n",
              "<style scoped>\n",
              "    .dataframe tbody tr th:only-of-type {\n",
              "        vertical-align: middle;\n",
              "    }\n",
              "\n",
              "    .dataframe tbody tr th {\n",
              "        vertical-align: top;\n",
              "    }\n",
              "\n",
              "    .dataframe thead th {\n",
              "        text-align: right;\n",
              "    }\n",
              "</style>\n",
              "<table border=\"1\" class=\"dataframe\">\n",
              "  <thead>\n",
              "    <tr style=\"text-align: right;\">\n",
              "      <th></th>\n",
              "      <th>Survived</th>\n",
              "      <th>Pclass</th>\n",
              "      <th>Name</th>\n",
              "      <th>Sex</th>\n",
              "      <th>Age</th>\n",
              "      <th>SibSp</th>\n",
              "      <th>Parch</th>\n",
              "      <th>Ticket</th>\n",
              "      <th>Fare</th>\n",
              "      <th>Cabin</th>\n",
              "      <th>Embarked</th>\n",
              "      <th>CabinMissing</th>\n",
              "      <th>Title</th>\n",
              "      <th>FamilyMembers</th>\n",
              "      <th>IsAlone</th>\n",
              "      <th>Age Group</th>\n",
              "    </tr>\n",
              "    <tr>\n",
              "      <th>PassengerId</th>\n",
              "      <th></th>\n",
              "      <th></th>\n",
              "      <th></th>\n",
              "      <th></th>\n",
              "      <th></th>\n",
              "      <th></th>\n",
              "      <th></th>\n",
              "      <th></th>\n",
              "      <th></th>\n",
              "      <th></th>\n",
              "      <th></th>\n",
              "      <th></th>\n",
              "      <th></th>\n",
              "      <th></th>\n",
              "      <th></th>\n",
              "      <th></th>\n",
              "    </tr>\n",
              "  </thead>\n",
              "  <tbody>\n",
              "    <tr>\n",
              "      <th>1</th>\n",
              "      <td>0</td>\n",
              "      <td>3</td>\n",
              "      <td>Braund, Mr. Owen Harris</td>\n",
              "      <td>0</td>\n",
              "      <td>22.0</td>\n",
              "      <td>1</td>\n",
              "      <td>0</td>\n",
              "      <td>A/5 21171</td>\n",
              "      <td>7.2500</td>\n",
              "      <td>NaN</td>\n",
              "      <td>0</td>\n",
              "      <td>1</td>\n",
              "      <td>1</td>\n",
              "      <td>2</td>\n",
              "      <td>0</td>\n",
              "      <td>3</td>\n",
              "    </tr>\n",
              "    <tr>\n",
              "      <th>2</th>\n",
              "      <td>1</td>\n",
              "      <td>1</td>\n",
              "      <td>Cumings, Mrs. John Bradley (Florence Briggs Th...</td>\n",
              "      <td>1</td>\n",
              "      <td>38.0</td>\n",
              "      <td>1</td>\n",
              "      <td>0</td>\n",
              "      <td>PC 17599</td>\n",
              "      <td>71.2833</td>\n",
              "      <td>C85</td>\n",
              "      <td>1</td>\n",
              "      <td>0</td>\n",
              "      <td>3</td>\n",
              "      <td>2</td>\n",
              "      <td>0</td>\n",
              "      <td>3</td>\n",
              "    </tr>\n",
              "  </tbody>\n",
              "</table>\n",
              "</div>"
            ],
            "text/plain": [
              "             Survived  Pclass  ... IsAlone  Age Group\n",
              "PassengerId                    ...                   \n",
              "1                   0       3  ...       0          3\n",
              "2                   1       1  ...       0          3\n",
              "\n",
              "[2 rows x 16 columns]"
            ]
          },
          "metadata": {
            "tags": []
          },
          "execution_count": 63
        }
      ]
    },
    {
      "cell_type": "code",
      "metadata": {
        "colab": {
          "base_uri": "https://localhost:8080/",
          "height": 947
        },
        "id": "f4PO35PTCaQ4",
        "outputId": "1690e093-e864-4b65-dc2d-b87b69edf4ed"
      },
      "source": [
        "#Analysing the correlation of features again\r\n",
        "\r\n",
        "mat2 = df_train.corr()\r\n",
        "fig, ax = plt.subplots(figsize = (15,15))\r\n",
        "sns.heatmap(mat2, annot = True, annot_kws={'size': 12});"
      ],
      "execution_count": 64,
      "outputs": [
        {
          "output_type": "display_data",
          "data": {
            "image/png": "[encoded data removed]",
            "text/plain": [
              "<Figure size 1080x1080 with 2 Axes>"
            ]
          },
          "metadata": {
            "tags": [],
            "needs_background": "light"
          }
        }
      ]
    },
    {
      "cell_type": "markdown",
      "metadata": {
        "id": "CfbBVJo9sMBH"
      },
      "source": [
        "###Dropping columns"
      ]
    },
    {
      "cell_type": "code",
      "metadata": {
        "id": "zJllcfTRsLLk"
      },
      "source": [
        "columns_to_drop = ['FamilyMembers', 'Ticket', 'Parch', 'SibSp', 'Name', 'Cabin']"
      ],
      "execution_count": 65,
      "outputs": []
    },
    {
      "cell_type": "code",
      "metadata": {
        "id": "AI-0yAR_s8Vf"
      },
      "source": [
        "for dataset in combined_datasets:\n",
        "    dataset.drop(columns=columns_to_drop, inplace=True)"
      ],
      "execution_count": 66,
      "outputs": []
    },
    {
      "cell_type": "code",
      "metadata": {
        "id": "xrKeablAtFVP",
        "colab": {
          "base_uri": "https://localhost:8080/",
          "height": 142
        },
        "outputId": "333736ac-9fce-45e8-fe4c-8875425cf7c1"
      },
      "source": [
        "df_train.head(2)"
      ],
      "execution_count": 67,
      "outputs": [
        {
          "output_type": "execute_result",
          "data": {
            "text/html": [
              "<div>\n",
              "<style scoped>\n",
              "    .dataframe tbody tr th:only-of-type {\n",
              "        vertical-align: middle;\n",
              "    }\n",
              "\n",
              "    .dataframe tbody tr th {\n",
              "        vertical-align: top;\n",
              "    }\n",
              "\n",
              "    .dataframe thead th {\n",
              "        text-align: right;\n",
              "    }\n",
              "</style>\n",
              "<table border=\"1\" class=\"dataframe\">\n",
              "  <thead>\n",
              "    <tr style=\"text-align: right;\">\n",
              "      <th></th>\n",
              "      <th>Survived</th>\n",
              "      <th>Pclass</th>\n",
              "      <th>Sex</th>\n",
              "      <th>Age</th>\n",
              "      <th>Fare</th>\n",
              "      <th>Embarked</th>\n",
              "      <th>CabinMissing</th>\n",
              "      <th>Title</th>\n",
              "      <th>IsAlone</th>\n",
              "      <th>Age Group</th>\n",
              "    </tr>\n",
              "    <tr>\n",
              "      <th>PassengerId</th>\n",
              "      <th></th>\n",
              "      <th></th>\n",
              "      <th></th>\n",
              "      <th></th>\n",
              "      <th></th>\n",
              "      <th></th>\n",
              "      <th></th>\n",
              "      <th></th>\n",
              "      <th></th>\n",
              "      <th></th>\n",
              "    </tr>\n",
              "  </thead>\n",
              "  <tbody>\n",
              "    <tr>\n",
              "      <th>1</th>\n",
              "      <td>0</td>\n",
              "      <td>3</td>\n",
              "      <td>0</td>\n",
              "      <td>22.0</td>\n",
              "      <td>7.2500</td>\n",
              "      <td>0</td>\n",
              "      <td>1</td>\n",
              "      <td>1</td>\n",
              "      <td>0</td>\n",
              "      <td>3</td>\n",
              "    </tr>\n",
              "    <tr>\n",
              "      <th>2</th>\n",
              "      <td>1</td>\n",
              "      <td>1</td>\n",
              "      <td>1</td>\n",
              "      <td>38.0</td>\n",
              "      <td>71.2833</td>\n",
              "      <td>1</td>\n",
              "      <td>0</td>\n",
              "      <td>3</td>\n",
              "      <td>0</td>\n",
              "      <td>3</td>\n",
              "    </tr>\n",
              "  </tbody>\n",
              "</table>\n",
              "</div>"
            ],
            "text/plain": [
              "             Survived  Pclass  Sex  ...  Title  IsAlone  Age Group\n",
              "PassengerId                         ...                           \n",
              "1                   0       3    0  ...      1        0          3\n",
              "2                   1       1    1  ...      3        0          3\n",
              "\n",
              "[2 rows x 10 columns]"
            ]
          },
          "metadata": {
            "tags": []
          },
          "execution_count": 67
        }
      ]
    },
    {
      "cell_type": "code",
      "metadata": {
        "id": "K84Ib5hytGvP",
        "colab": {
          "base_uri": "https://localhost:8080/",
          "height": 142
        },
        "outputId": "00cdcdf8-8e18-4d47-a457-66f5b8d7dad6"
      },
      "source": [
        "df_test.head(2)"
      ],
      "execution_count": 68,
      "outputs": [
        {
          "output_type": "execute_result",
          "data": {
            "text/html": [
              "<div>\n",
              "<style scoped>\n",
              "    .dataframe tbody tr th:only-of-type {\n",
              "        vertical-align: middle;\n",
              "    }\n",
              "\n",
              "    .dataframe tbody tr th {\n",
              "        vertical-align: top;\n",
              "    }\n",
              "\n",
              "    .dataframe thead th {\n",
              "        text-align: right;\n",
              "    }\n",
              "</style>\n",
              "<table border=\"1\" class=\"dataframe\">\n",
              "  <thead>\n",
              "    <tr style=\"text-align: right;\">\n",
              "      <th></th>\n",
              "      <th>Pclass</th>\n",
              "      <th>Sex</th>\n",
              "      <th>Age</th>\n",
              "      <th>Fare</th>\n",
              "      <th>Embarked</th>\n",
              "      <th>CabinMissing</th>\n",
              "      <th>Title</th>\n",
              "      <th>IsAlone</th>\n",
              "      <th>Age Group</th>\n",
              "    </tr>\n",
              "    <tr>\n",
              "      <th>PassengerId</th>\n",
              "      <th></th>\n",
              "      <th></th>\n",
              "      <th></th>\n",
              "      <th></th>\n",
              "      <th></th>\n",
              "      <th></th>\n",
              "      <th></th>\n",
              "      <th></th>\n",
              "      <th></th>\n",
              "    </tr>\n",
              "  </thead>\n",
              "  <tbody>\n",
              "    <tr>\n",
              "      <th>892</th>\n",
              "      <td>3</td>\n",
              "      <td>0</td>\n",
              "      <td>34.5</td>\n",
              "      <td>7.8292</td>\n",
              "      <td>2</td>\n",
              "      <td>1</td>\n",
              "      <td>1</td>\n",
              "      <td>1</td>\n",
              "      <td>3</td>\n",
              "    </tr>\n",
              "    <tr>\n",
              "      <th>893</th>\n",
              "      <td>3</td>\n",
              "      <td>1</td>\n",
              "      <td>47.0</td>\n",
              "      <td>7.0000</td>\n",
              "      <td>0</td>\n",
              "      <td>1</td>\n",
              "      <td>3</td>\n",
              "      <td>0</td>\n",
              "      <td>3</td>\n",
              "    </tr>\n",
              "  </tbody>\n",
              "</table>\n",
              "</div>"
            ],
            "text/plain": [
              "             Pclass  Sex   Age    Fare  ...  CabinMissing  Title  IsAlone  Age Group\n",
              "PassengerId                             ...                                         \n",
              "892               3    0  34.5  7.8292  ...             1      1        1          3\n",
              "893               3    1  47.0  7.0000  ...             1      3        0          3\n",
              "\n",
              "[2 rows x 9 columns]"
            ]
          },
          "metadata": {
            "tags": []
          },
          "execution_count": 68
        }
      ]
    },
    {
      "cell_type": "markdown",
      "metadata": {
        "id": "LS0Leca_E-oR"
      },
      "source": [
        "###Creating dataframes with normalized values"
      ]
    },
    {
      "cell_type": "code",
      "metadata": {
        "id": "r4vrxFNjE-SQ"
      },
      "source": [
        "def normalize_df(df_train, df_test):\r\n",
        "    df_train_norm = df_train.copy()\r\n",
        "    df_test_norm = df_test.copy()\r\n",
        "    \r\n",
        "    for feature_name in df_train.columns:\r\n",
        "        if feature_name == 'Survived':\r\n",
        "            continue\r\n",
        "        \r\n",
        "        mean = df_train[feature_name].mean()\r\n",
        "        std = df_train[feature_name].std()\r\n",
        "\r\n",
        "        df_train_norm[feature_name] = (df_train[feature_name] - mean) / (df_train[feature_name] - std)\r\n",
        "        df_test_norm[feature_name] = (df_test[feature_name] - mean) / (df_test[feature_name] - std)\r\n",
        "\r\n",
        "    return df_train_norm, df_test_norm"
      ],
      "execution_count": 69,
      "outputs": []
    },
    {
      "cell_type": "code",
      "metadata": {
        "id": "G4xcsbbeGQWk"
      },
      "source": [
        "df_train_norm, df_test_norm = normalize_df(df_train, df_test)"
      ],
      "execution_count": 70,
      "outputs": []
    },
    {
      "cell_type": "code",
      "metadata": {
        "colab": {
          "base_uri": "https://localhost:8080/",
          "height": 142
        },
        "id": "E-AzpcudGW6G",
        "outputId": "9f75566c-fa7d-4535-cdef-12cf9e9a4d42"
      },
      "source": [
        "df_train_norm.head(2)"
      ],
      "execution_count": 71,
      "outputs": [
        {
          "output_type": "execute_result",
          "data": {
            "text/html": [
              "<div>\n",
              "<style scoped>\n",
              "    .dataframe tbody tr th:only-of-type {\n",
              "        vertical-align: middle;\n",
              "    }\n",
              "\n",
              "    .dataframe tbody tr th {\n",
              "        vertical-align: top;\n",
              "    }\n",
              "\n",
              "    .dataframe thead th {\n",
              "        text-align: right;\n",
              "    }\n",
              "</style>\n",
              "<table border=\"1\" class=\"dataframe\">\n",
              "  <thead>\n",
              "    <tr style=\"text-align: right;\">\n",
              "      <th></th>\n",
              "      <th>Survived</th>\n",
              "      <th>Pclass</th>\n",
              "      <th>Sex</th>\n",
              "      <th>Age</th>\n",
              "      <th>Fare</th>\n",
              "      <th>Embarked</th>\n",
              "      <th>CabinMissing</th>\n",
              "      <th>Title</th>\n",
              "      <th>IsAlone</th>\n",
              "      <th>Age Group</th>\n",
              "    </tr>\n",
              "    <tr>\n",
              "      <th>PassengerId</th>\n",
              "      <th></th>\n",
              "      <th></th>\n",
              "      <th></th>\n",
              "      <th></th>\n",
              "      <th></th>\n",
              "      <th></th>\n",
              "      <th></th>\n",
              "      <th></th>\n",
              "      <th></th>\n",
              "      <th></th>\n",
              "    </tr>\n",
              "  </thead>\n",
              "  <tbody>\n",
              "    <tr>\n",
              "      <th>1</th>\n",
              "      <td>0</td>\n",
              "      <td>0.319492</td>\n",
              "      <td>0.737281</td>\n",
              "      <td>-0.387329</td>\n",
              "      <td>0.587940</td>\n",
              "      <td>0.568518</td>\n",
              "      <td>0.395022</td>\n",
              "      <td>24.248708</td>\n",
              "      <td>1.230954</td>\n",
              "      <td>0.720067</td>\n",
              "    </tr>\n",
              "    <tr>\n",
              "      <th>2</th>\n",
              "      <td>1</td>\n",
              "      <td>-7.982992</td>\n",
              "      <td>1.240564</td>\n",
              "      <td>0.715229</td>\n",
              "      <td>1.810066</td>\n",
              "      <td>1.752846</td>\n",
              "      <td>1.834085</td>\n",
              "      <td>0.645497</td>\n",
              "      <td>1.230954</td>\n",
              "      <td>0.720067</td>\n",
              "    </tr>\n",
              "  </tbody>\n",
              "</table>\n",
              "</div>"
            ],
            "text/plain": [
              "             Survived    Pclass       Sex  ...      Title   IsAlone  Age Group\n",
              "PassengerId                                ...                                \n",
              "1                   0  0.319492  0.737281  ...  24.248708  1.230954   0.720067\n",
              "2                   1 -7.982992  1.240564  ...   0.645497  1.230954   0.720067\n",
              "\n",
              "[2 rows x 10 columns]"
            ]
          },
          "metadata": {
            "tags": []
          },
          "execution_count": 71
        }
      ]
    },
    {
      "cell_type": "code",
      "metadata": {
        "colab": {
          "base_uri": "https://localhost:8080/",
          "height": 142
        },
        "id": "yaTVc_9aGYsh",
        "outputId": "c7832c13-dbc3-443a-8968-9b75582442df"
      },
      "source": [
        "df_test_norm.head(2)"
      ],
      "execution_count": 72,
      "outputs": [
        {
          "output_type": "execute_result",
          "data": {
            "text/html": [
              "<div>\n",
              "<style scoped>\n",
              "    .dataframe tbody tr th:only-of-type {\n",
              "        vertical-align: middle;\n",
              "    }\n",
              "\n",
              "    .dataframe tbody tr th {\n",
              "        vertical-align: top;\n",
              "    }\n",
              "\n",
              "    .dataframe thead th {\n",
              "        text-align: right;\n",
              "    }\n",
              "</style>\n",
              "<table border=\"1\" class=\"dataframe\">\n",
              "  <thead>\n",
              "    <tr style=\"text-align: right;\">\n",
              "      <th></th>\n",
              "      <th>Pclass</th>\n",
              "      <th>Sex</th>\n",
              "      <th>Age</th>\n",
              "      <th>Fare</th>\n",
              "      <th>Embarked</th>\n",
              "      <th>CabinMissing</th>\n",
              "      <th>Title</th>\n",
              "      <th>IsAlone</th>\n",
              "      <th>Age Group</th>\n",
              "    </tr>\n",
              "    <tr>\n",
              "      <th>PassengerId</th>\n",
              "      <th></th>\n",
              "      <th></th>\n",
              "      <th></th>\n",
              "      <th></th>\n",
              "      <th></th>\n",
              "      <th></th>\n",
              "      <th></th>\n",
              "      <th></th>\n",
              "      <th></th>\n",
              "    </tr>\n",
              "  </thead>\n",
              "  <tbody>\n",
              "    <tr>\n",
              "      <th>892</th>\n",
              "      <td>0.319492</td>\n",
              "      <td>0.737281</td>\n",
              "      <td>0.655305</td>\n",
              "      <td>0.582240</td>\n",
              "      <td>1.201038</td>\n",
              "      <td>0.395022</td>\n",
              "      <td>24.248708</td>\n",
              "      <td>0.778445</td>\n",
              "      <td>0.720067</td>\n",
              "    </tr>\n",
              "    <tr>\n",
              "      <th>893</th>\n",
              "      <td>0.319492</td>\n",
              "      <td>1.240564</td>\n",
              "      <td>0.803205</td>\n",
              "      <td>0.590353</td>\n",
              "      <td>0.568518</td>\n",
              "      <td>0.395022</td>\n",
              "      <td>0.645497</td>\n",
              "      <td>1.230954</td>\n",
              "      <td>0.720067</td>\n",
              "    </tr>\n",
              "  </tbody>\n",
              "</table>\n",
              "</div>"
            ],
            "text/plain": [
              "               Pclass       Sex       Age  ...      Title   IsAlone  Age Group\n",
              "PassengerId                                ...                                \n",
              "892          0.319492  0.737281  0.655305  ...  24.248708  0.778445   0.720067\n",
              "893          0.319492  1.240564  0.803205  ...   0.645497  1.230954   0.720067\n",
              "\n",
              "[2 rows x 9 columns]"
            ]
          },
          "metadata": {
            "tags": []
          },
          "execution_count": 72
        }
      ]
    },
    {
      "cell_type": "code",
      "metadata": {
        "colab": {
          "base_uri": "https://localhost:8080/",
          "height": 142
        },
        "id": "8_DmLDGNGY-c",
        "outputId": "b67c1005-27ce-48bc-fee7-0752e9ac6689"
      },
      "source": [
        "df_train.head(2)"
      ],
      "execution_count": 73,
      "outputs": [
        {
          "output_type": "execute_result",
          "data": {
            "text/html": [
              "<div>\n",
              "<style scoped>\n",
              "    .dataframe tbody tr th:only-of-type {\n",
              "        vertical-align: middle;\n",
              "    }\n",
              "\n",
              "    .dataframe tbody tr th {\n",
              "        vertical-align: top;\n",
              "    }\n",
              "\n",
              "    .dataframe thead th {\n",
              "        text-align: right;\n",
              "    }\n",
              "</style>\n",
              "<table border=\"1\" class=\"dataframe\">\n",
              "  <thead>\n",
              "    <tr style=\"text-align: right;\">\n",
              "      <th></th>\n",
              "      <th>Survived</th>\n",
              "      <th>Pclass</th>\n",
              "      <th>Sex</th>\n",
              "      <th>Age</th>\n",
              "      <th>Fare</th>\n",
              "      <th>Embarked</th>\n",
              "      <th>CabinMissing</th>\n",
              "      <th>Title</th>\n",
              "      <th>IsAlone</th>\n",
              "      <th>Age Group</th>\n",
              "    </tr>\n",
              "    <tr>\n",
              "      <th>PassengerId</th>\n",
              "      <th></th>\n",
              "      <th></th>\n",
              "      <th></th>\n",
              "      <th></th>\n",
              "      <th></th>\n",
              "      <th></th>\n",
              "      <th></th>\n",
              "      <th></th>\n",
              "      <th></th>\n",
              "      <th></th>\n",
              "    </tr>\n",
              "  </thead>\n",
              "  <tbody>\n",
              "    <tr>\n",
              "      <th>1</th>\n",
              "      <td>0</td>\n",
              "      <td>3</td>\n",
              "      <td>0</td>\n",
              "      <td>22.0</td>\n",
              "      <td>7.2500</td>\n",
              "      <td>0</td>\n",
              "      <td>1</td>\n",
              "      <td>1</td>\n",
              "      <td>0</td>\n",
              "      <td>3</td>\n",
              "    </tr>\n",
              "    <tr>\n",
              "      <th>2</th>\n",
              "      <td>1</td>\n",
              "      <td>1</td>\n",
              "      <td>1</td>\n",
              "      <td>38.0</td>\n",
              "      <td>71.2833</td>\n",
              "      <td>1</td>\n",
              "      <td>0</td>\n",
              "      <td>3</td>\n",
              "      <td>0</td>\n",
              "      <td>3</td>\n",
              "    </tr>\n",
              "  </tbody>\n",
              "</table>\n",
              "</div>"
            ],
            "text/plain": [
              "             Survived  Pclass  Sex  ...  Title  IsAlone  Age Group\n",
              "PassengerId                         ...                           \n",
              "1                   0       3    0  ...      1        0          3\n",
              "2                   1       1    1  ...      3        0          3\n",
              "\n",
              "[2 rows x 10 columns]"
            ]
          },
          "metadata": {
            "tags": []
          },
          "execution_count": 73
        }
      ]
    },
    {
      "cell_type": "code",
      "metadata": {
        "colab": {
          "base_uri": "https://localhost:8080/",
          "height": 142
        },
        "id": "q7Qemc46GZZ6",
        "outputId": "9dffe4a9-386e-487a-e0f3-d179bfd32dde"
      },
      "source": [
        "df_test.head(2)"
      ],
      "execution_count": 74,
      "outputs": [
        {
          "output_type": "execute_result",
          "data": {
            "text/html": [
              "<div>\n",
              "<style scoped>\n",
              "    .dataframe tbody tr th:only-of-type {\n",
              "        vertical-align: middle;\n",
              "    }\n",
              "\n",
              "    .dataframe tbody tr th {\n",
              "        vertical-align: top;\n",
              "    }\n",
              "\n",
              "    .dataframe thead th {\n",
              "        text-align: right;\n",
              "    }\n",
              "</style>\n",
              "<table border=\"1\" class=\"dataframe\">\n",
              "  <thead>\n",
              "    <tr style=\"text-align: right;\">\n",
              "      <th></th>\n",
              "      <th>Pclass</th>\n",
              "      <th>Sex</th>\n",
              "      <th>Age</th>\n",
              "      <th>Fare</th>\n",
              "      <th>Embarked</th>\n",
              "      <th>CabinMissing</th>\n",
              "      <th>Title</th>\n",
              "      <th>IsAlone</th>\n",
              "      <th>Age Group</th>\n",
              "    </tr>\n",
              "    <tr>\n",
              "      <th>PassengerId</th>\n",
              "      <th></th>\n",
              "      <th></th>\n",
              "      <th></th>\n",
              "      <th></th>\n",
              "      <th></th>\n",
              "      <th></th>\n",
              "      <th></th>\n",
              "      <th></th>\n",
              "      <th></th>\n",
              "    </tr>\n",
              "  </thead>\n",
              "  <tbody>\n",
              "    <tr>\n",
              "      <th>892</th>\n",
              "      <td>3</td>\n",
              "      <td>0</td>\n",
              "      <td>34.5</td>\n",
              "      <td>7.8292</td>\n",
              "      <td>2</td>\n",
              "      <td>1</td>\n",
              "      <td>1</td>\n",
              "      <td>1</td>\n",
              "      <td>3</td>\n",
              "    </tr>\n",
              "    <tr>\n",
              "      <th>893</th>\n",
              "      <td>3</td>\n",
              "      <td>1</td>\n",
              "      <td>47.0</td>\n",
              "      <td>7.0000</td>\n",
              "      <td>0</td>\n",
              "      <td>1</td>\n",
              "      <td>3</td>\n",
              "      <td>0</td>\n",
              "      <td>3</td>\n",
              "    </tr>\n",
              "  </tbody>\n",
              "</table>\n",
              "</div>"
            ],
            "text/plain": [
              "             Pclass  Sex   Age    Fare  ...  CabinMissing  Title  IsAlone  Age Group\n",
              "PassengerId                             ...                                         \n",
              "892               3    0  34.5  7.8292  ...             1      1        1          3\n",
              "893               3    1  47.0  7.0000  ...             1      3        0          3\n",
              "\n",
              "[2 rows x 9 columns]"
            ]
          },
          "metadata": {
            "tags": []
          },
          "execution_count": 74
        }
      ]
    },
    {
      "cell_type": "markdown",
      "metadata": {
        "id": "zG-uwcPYtyXp"
      },
      "source": [
        "###Splitting the data"
      ]
    },
    {
      "cell_type": "code",
      "metadata": {
        "id": "7eai0SIHt39H"
      },
      "source": [
        "# Creating the ndarrays from the training dataset\n",
        "y = df_train['Survived'].to_numpy()\n",
        "X = df_train.drop('Survived', axis=1).to_numpy()\n",
        "\n",
        "X_norm = df_train_norm.drop('Survived', axis=1).to_numpy()"
      ],
      "execution_count": 75,
      "outputs": []
    },
    {
      "cell_type": "code",
      "metadata": {
        "id": "q4yn_157uL5I"
      },
      "source": [
        "# Creating the train and validation datasets\n",
        "(X_train, X_validation, \n",
        " y_train, y_validation) = train_test_split(X, y, test_size = 0.2, random_state=0)\n",
        "\n",
        "(X_train_norm, X_validation_norm, \n",
        " y_train_norm, y_validation_norm) = train_test_split(X_norm, y, test_size = 0.2, random_state=0)"
      ],
      "execution_count": 76,
      "outputs": []
    },
    {
      "cell_type": "code",
      "metadata": {
        "colab": {
          "base_uri": "https://localhost:8080/"
        },
        "id": "9KyLcZ5KDuAh",
        "outputId": "e835884e-36e7-4096-be1f-2be1d1f46353"
      },
      "source": [
        "print('Non normalized datasets')\r\n",
        "print(X_train.shape)\r\n",
        "print(y_train.shape)\r\n",
        "print(X_validation.shape)\r\n",
        "print(y_validation.shape)\r\n",
        "print()\r\n",
        "print('Normalized datasets')\r\n",
        "print('Train', X_train_norm.shape)\r\n",
        "print('Validation', X_validation_norm.shape)"
      ],
      "execution_count": 77,
      "outputs": [
        {
          "output_type": "stream",
          "text": [
            "Non normalized datasets\n",
            "(712, 9)\n",
            "(712,)\n",
            "(179, 9)\n",
            "(179,)\n",
            "\n",
            "Normalized datasets\n",
            "Train (712, 9)\n",
            "Validation (179, 9)\n"
          ],
          "name": "stdout"
        }
      ]
    },
    {
      "cell_type": "markdown",
      "metadata": {
        "id": "B8VJIJfLD7kf"
      },
      "source": [
        "## Creating Models\r\n",
        "(with the non-normalized dataset)"
      ]
    },
    {
      "cell_type": "code",
      "metadata": {
        "id": "KxkztJS4CAzm"
      },
      "source": [
        "# 5 layers with dropout and regularization (both L1 and L2)\r\n",
        "def create_model():\r\n",
        "    model = tf.keras.models.Sequential([tf.keras.layers.Dense(128, activation=tf.nn.relu),\r\n",
        "\r\n",
        "                                        tf.keras.layers.Dense(64, activation=tf.nn.relu),\r\n",
        "\r\n",
        "                                        tf.keras.layers.Dense(32, activation=tf.nn.relu),\r\n",
        "                                        \r\n",
        "                                        tf.keras.layers.Dense(1, activation=tf.nn.sigmoid)])\r\n",
        "    model.compile(optimizer = tf.optimizers.Adam(),\r\n",
        "              loss = 'binary_crossentropy',\r\n",
        "              metrics=['accuracy'])\r\n",
        "    \r\n",
        "    return model"
      ],
      "execution_count": 78,
      "outputs": []
    },
    {
      "cell_type": "code",
      "metadata": {
        "id": "bYMttrgA-ihC"
      },
      "source": [
        "# Function that creates and trains all models. It will make it easier to train twice (with non-normalized and normalized data)\r\n",
        "\r\n",
        "def train_models(X_train, y_train, print_acc=False):\r\n",
        "\r\n",
        "    dict_acc = {}\r\n",
        "\r\n",
        "    ### Dummy Classifier\r\n",
        "    dummy = DummyClassifier(strategy='prior')\r\n",
        "    \r\n",
        "    scores = cross_val_score(dummy, X_train, y_train, cv=kfold, scoring='accuracy')\r\n",
        "    acc_dummy_train = scores.mean()\r\n",
        "    dummy.fit(X_train, y_train)\r\n",
        "    acc_dummy_val = dummy.score(X_validation, y_validation)\r\n",
        "\r\n",
        "    dict_acc['Dummy Classifier'] = [acc_dummy_train, acc_dummy_val]\r\n",
        "\r\n",
        "\r\n",
        "    ### Bernoulli Naive Bayes\r\n",
        "    bernoulli = BernoulliNB(alpha=15)\r\n",
        "\r\n",
        "    scores = cross_val_score(bernoulli, X_train, y_train, cv=kfold, scoring='accuracy')\r\n",
        "    acc_bernoulli_train = scores.mean()\r\n",
        "    bernoulli.fit(X_train, y_train)\r\n",
        "    acc_bernoulli_val = bernoulli.score(X_validation, y_validation)\r\n",
        "\r\n",
        "    dict_acc['Bernoulli NB'] = [acc_bernoulli_train, acc_bernoulli_val]\r\n",
        "\r\n",
        "\r\n",
        "    ### K-Nearest Neighbors\r\n",
        "    knn = KNeighborsClassifier(metric='manhattan', n_neighbors = 5, weights='uniform')\r\n",
        "\r\n",
        "\r\n",
        "    scores = cross_val_score(knn, X_train, y_train, cv=kfold, scoring='accuracy')\r\n",
        "    acc_knn_train = scores.mean()\r\n",
        "    knn.fit(X_train, y_train)\r\n",
        "    acc_knn_val = knn.score(X_validation, y_validation)\r\n",
        "\r\n",
        "    dict_acc['KNN'] = [acc_knn_train, acc_knn_val]\r\n",
        "\r\n",
        "\r\n",
        "    ### SGD Classifier\r\n",
        "    sgd = SGDClassifier(alpha=0.01, epsilon = 0.1, loss='hinge', max_iter=5000, penalty='l1')\r\n",
        "\r\n",
        "    scores = cross_val_score(sgd, X_train, y_train, cv=kfold, scoring='accuracy')\r\n",
        "    acc_sgd_train = scores.mean()\r\n",
        "    sgd.fit(X_train, y_train)\r\n",
        "    acc_sgd_val = sgd.score(X_validation, y_validation)\r\n",
        "\r\n",
        "    dict_acc['SGD'] = [acc_sgd_train, acc_sgd_val]\r\n",
        "\r\n",
        "\r\n",
        "    ### Logistic Regression\r\n",
        "    logreg = LogisticRegression(C=0.5, max_iter = 2000, solver='liblinear')\r\n",
        "\r\n",
        "    scores = cross_val_score(logreg, X_train, y_train, cv=kfold, scoring='accuracy')\r\n",
        "    acc_logreg_train = scores.mean()\r\n",
        "    logreg.fit(X_train, y_train)\r\n",
        "    acc_logreg_val = logreg.score(X_validation, y_validation)\r\n",
        "\r\n",
        "    dict_acc['Logistic Regression'] = [acc_logreg_train, acc_logreg_val]\r\n",
        "\r\n",
        "\r\n",
        "    ### Ridge Classifier\r\n",
        "    ridge = RidgeClassifier(alpha=5)\r\n",
        "\r\n",
        "    scores = cross_val_score(ridge, X_train, y_train, cv=kfold, scoring='accuracy')\r\n",
        "    acc_ridge_train = scores.mean()\r\n",
        "    ridge.fit(X_train, y_train)\r\n",
        "    acc_ridge_val = ridge.score(X_validation, y_validation)\r\n",
        "    \r\n",
        "    dict_acc['Ridge Classifier'] = [acc_ridge_train, acc_ridge_val]\r\n",
        "\r\n",
        "\r\n",
        "    ### Support Vector Classifier\r\n",
        "    svc = SVC(kernel='linear', C=0.5)\r\n",
        "\r\n",
        "    scores = cross_val_score(svc, X_train, y_train, cv=kfold, scoring='accuracy')\r\n",
        "    acc_svc_train = scores.mean()\r\n",
        "    svc.fit(X_train, y_train)\r\n",
        "    acc_svc_val = svc.score(X_validation, y_validation)\r\n",
        "\r\n",
        "    dict_acc['SVC'] = [acc_svc_train, acc_svc_val]\r\n",
        "\r\n",
        "\r\n",
        "    ### Decision Tree\r\n",
        "    tree = DecisionTreeClassifier(min_samples_leaf=5, min_samples_split=2)\r\n",
        "\r\n",
        "    scores = cross_val_score(tree, X_train, y_train, cv=kfold, scoring='accuracy')\r\n",
        "    acc_tree_train = scores.mean()\r\n",
        "    tree.fit(X_train, y_train)\r\n",
        "    acc_tree_val = tree.score(X_validation, y_validation)\r\n",
        "\r\n",
        "    dict_acc['Decision Tree'] = [acc_tree_train, acc_tree_val]\r\n",
        "\r\n",
        "\r\n",
        "    ### Random Forest\r\n",
        "    rf = RandomForestClassifier(n_estimators=300, criterion='gini', min_samples_leaf=3, min_samples_split=2)\r\n",
        "\r\n",
        "    scores = cross_val_score(rf, X_train, y_train, cv=kfold, scoring='accuracy')\r\n",
        "    acc_rf_train = scores.mean()\r\n",
        "    rf.fit(X_train, y_train)\r\n",
        "    acc_rf_val = rf.score(X_validation, y_validation)\r\n",
        "\r\n",
        "    dict_acc['Random Forest'] = [acc_rf_train, acc_rf_val]\r\n",
        "\r\n",
        "\r\n",
        "    ### XGBoost Classifier\r\n",
        "    xgboost = XGBClassifier(eta=0.1, max_depth=4)\r\n",
        "\r\n",
        "    scores = cross_val_score(xgboost, X_train, y_train, cv=kfold, scoring='accuracy')\r\n",
        "    acc_xgboost_train = scores.mean()\r\n",
        "    xgboost.fit(X_train, y_train)\r\n",
        "    acc_xgboost_val = xgboost.score(X_validation, y_validation)\r\n",
        "\r\n",
        "    dict_acc['XGBoost'] = [acc_xgboost_train, acc_xgboost_val]\r\n",
        "\r\n",
        "\r\n",
        "    ### Neural Network (Keras)\r\n",
        "    model_keras = KerasClassifier(build_fn=create_model, epochs=150, batch_size=10, verbose=0)\r\n",
        "\r\n",
        "    results = cross_val_score(model_keras, X_train, y_train, cv=kfold)\r\n",
        "    acc_train = results.mean()\r\n",
        "    model_keras.fit(X_train, y_train)\r\n",
        "    acc_keras = model_keras.score(X_validation, y_validation)\r\n",
        "\r\n",
        "    dict_acc['DNN'] = [acc_train, acc_keras] \r\n",
        "\r\n",
        "    # Printing the values\r\n",
        "    if print_acc:\r\n",
        "        for key, values in dict_acc.items():\r\n",
        "            print(\"{} Accuracy on Training Data (CV): {}\".format(key, values[0]))\r\n",
        "            print(\"{} Accuracy on Validation Data: {}\".format(key, values[1]))\r\n",
        "            print()\r\n",
        "    \r\n",
        "    return dict_acc"
      ],
      "execution_count": 81,
      "outputs": []
    },
    {
      "cell_type": "markdown",
      "metadata": {
        "id": "tR-4j8b7CVog"
      },
      "source": [
        "## Grid Search"
      ]
    },
    {
      "cell_type": "code",
      "metadata": {
        "id": "j2syL4-PLyD2"
      },
      "source": [
        "if grid:\r\n",
        "    ###Naive Bayes (Bernoulli)\r\n",
        "    parameter = [{'alpha':[1.0, 5, 10, 15, 20]}]\r\n",
        "    classifier = GridSearchCV(BernoulliNB(), parameter, scoring='accuracy')\r\n",
        "    classifier.fit(X_train, y_train)\r\n",
        "    print(\"Bernoulli\")\r\n",
        "    print(classifier.best_params_)\r\n",
        "    print(classifier.best_score_)\r\n",
        "\r\n",
        "    ###KNN\r\n",
        "    parameter = [{'n_neighbors':[2, 3, 5, 7, 10],\r\n",
        "                'weights':['uniform', 'distance'],\r\n",
        "                'metric':['minkowski', 'manhattan']}]\r\n",
        "\r\n",
        "    classifier = GridSearchCV(KNeighborsClassifier(), parameter, scoring='accuracy')\r\n",
        "    classifier.fit(X_train, y_train)\r\n",
        "    print(\"KNN\")\r\n",
        "    print(classifier.best_params_)\r\n",
        "    print(classifier.best_score_)\r\n",
        "\r\n",
        "    ###SGD\r\n",
        "    parameter = [{'loss':['hinge', 'modified_huber', 'perceptron', 'huber', 'epsilon_insensitive'],\r\n",
        "                'penalty':['l1', 'l2'],\r\n",
        "                'alpha':[0.001, 0.01, 0.1],\r\n",
        "                'epsilon':[0.01, 0.1, 0.3, 0.5],\r\n",
        "                'max_iter':[5000]}]\r\n",
        "\r\n",
        "    classifier = GridSearchCV(SGDClassifier(), parameter, scoring='accuracy')\r\n",
        "    classifier.fit(X_train, y_train)\r\n",
        "    print(\"SGD\")\r\n",
        "    print(classifier.best_params_)\r\n",
        "    print(classifier.best_score_)\r\n",
        "\r\n",
        "    ###Logistic Regression\r\n",
        "    parameter = [{'penalty':['l1', 'l2'],\r\n",
        "                'C':[1.0, 0.5, 1.5, 2, 3, 5],\r\n",
        "                'solver':['lbfgs', 'liblinear', 'sag', 'saga'],\r\n",
        "                'max_iter':[2000]}]\r\n",
        "\r\n",
        "    classifier = GridSearchCV(LogisticRegression(), parameter, scoring='accuracy')\r\n",
        "    classifier.fit(X_train, y_train)\r\n",
        "    print(\"Logistic Regression\")\r\n",
        "    print(classifier.best_params_)\r\n",
        "    print(classifier.best_score_)\r\n",
        "    #{'C': 0.5, 'max_iter': 2000, 'penalty': 'l2', 'solver': 'liblinear'}\r\n",
        "\r\n",
        "\r\n",
        "    ###Ridge Classifier\r\n",
        "    parameter = [{'alpha':[1.0, 0.5, 3, 5, 7, 10],\r\n",
        "                'solver':['auto', 'sag', 'saga', 'svd']}]\r\n",
        "\r\n",
        "    classifier = GridSearchCV(RidgeClassifier(), parameter, scoring='accuracy')\r\n",
        "    classifier.fit(X_train, y_train)\r\n",
        "    print(\"Ridge Classifier\")\r\n",
        "    print(classifier.best_params_)\r\n",
        "    print(classifier.best_score_)\r\n",
        "\r\n",
        "\r\n",
        "    ###SVC\r\n",
        "    parameter = [{'C':[0.5, 1.0, 3, 5],\r\n",
        "                'kernel':['linear', 'rbf']}]\r\n",
        "\r\n",
        "    classifier = GridSearchCV(SVC(), parameter, scoring='accuracy')\r\n",
        "    classifier.fit(X_train, y_train)\r\n",
        "    print(\"SVC\")\r\n",
        "    print(classifier.best_params_)\r\n",
        "    print(classifier.best_score_)\r\n",
        "\r\n",
        "    ###Decision Tree\r\n",
        "    parameter = [{'criterion':['gini', 'entropy'],\r\n",
        "                'min_samples_split':[2, 3, 4, 5],\r\n",
        "                'min_samples_leaf':[1, 4, 5]}]\r\n",
        "\r\n",
        "    classifier = GridSearchCV(DecisionTreeClassifier(), parameter, scoring='accuracy')\r\n",
        "    classifier.fit(X_train, y_train)\r\n",
        "    print(\"Decision Tree\")\r\n",
        "    print(classifier.best_params_)\r\n",
        "    print(classifier.best_score_)\r\n",
        "\r\n",
        "    ###Random Forest\r\n",
        "    parameter = [{'criterion':['gini', 'entropy'],\r\n",
        "              'n_estimators':[100, 300],\r\n",
        "              'min_samples_split':[3, 4, 5],\r\n",
        "              'min_samples_leaf':[3, 5, 10]}]\r\n",
        "\r\n",
        "    classifier = GridSearchCV(RandomForestClassifier(), parameter, scoring='accuracy')\r\n",
        "    classifier.fit(X_train, y_train)\r\n",
        "    print(\"Random Forest\")\r\n",
        "    print(classifier.best_params_)\r\n",
        "    print(classifier.best_score_)\r\n",
        "\r\n",
        "    ###XGBoost\r\n",
        "    parameter = [{'eta':[0.1, 0.3, 0.5, 1],\r\n",
        "                'max_depth':[4, 6, 8, 10]}]\r\n",
        "\r\n",
        "    classifier = GridSearchCV(XGBClassifier(), parameter, scoring='accuracy')\r\n",
        "    classifier.fit(X_train, y_train)\r\n",
        "    print(\"XGBoost\")\r\n",
        "    print(classifier.best_params_)\r\n",
        "    print(classifier.best_score_)"
      ],
      "execution_count": null,
      "outputs": []
    },
    {
      "cell_type": "markdown",
      "metadata": {
        "id": "CPWA3gUzIqu6"
      },
      "source": [
        "##Plotting"
      ]
    },
    {
      "cell_type": "code",
      "metadata": {
        "id": "DcVbP8HaIqib"
      },
      "source": [
        ""
      ],
      "execution_count": null,
      "outputs": []
    },
    {
      "cell_type": "code",
      "metadata": {
        "colab": {
          "base_uri": "https://localhost:8080/"
        },
        "id": "nNemcEzPKi4T",
        "outputId": "d82e0071-549e-4cf3-e312-e8b9444f8802"
      },
      "source": [
        "dict_models = train_models(X_train, y_train, print_acc=True)"
      ],
      "execution_count": null,
      "outputs": [
        {
          "output_type": "stream",
          "text": [
            "Dummy Classifier Accuracy on Training Data (CV): 0.6165763813651137\n",
            "Dummy Classifier Accuracy on Validation Data: 0.6145251396648045\n",
            "\n",
            "Bernoulli NB Accuracy on Training Data (CV): 0.7725499852260416\n",
            "Bernoulli NB Accuracy on Validation Data: 0.7988826815642458\n",
            "\n",
            "KNN Accuracy on Training Data (CV): 0.7415542204274599\n",
            "KNN Accuracy on Validation Data: 0.7653631284916201\n",
            "\n",
            "SGD Accuracy on Training Data (CV): 0.7795725401359205\n",
            "SGD Accuracy on Validation Data: 0.7932960893854749\n",
            "\n",
            "Logistic Regression Accuracy on Training Data (CV): 0.7964247020585049\n",
            "Logistic Regression Accuracy on Validation Data: 0.8100558659217877\n",
            "\n",
            "Ridge Classifier Accuracy on Training Data (CV): 0.8006599034768049\n",
            "Ridge Classifier Accuracy on Validation Data: 0.770949720670391\n",
            "\n",
            "SVC Accuracy on Training Data (CV): 0.7795922387471683\n",
            "SVC Accuracy on Validation Data: 0.7877094972067039\n",
            "\n",
            "Decision Tree Accuracy on Training Data (CV): 0.8020388062641584\n",
            "Decision Tree Accuracy on Validation Data: 0.8324022346368715\n",
            "\n",
            "Random Forest Accuracy on Training Data (CV): 0.8202895695853443\n",
            "Random Forest Accuracy on Validation Data: 0.8324022346368715\n",
            "\n",
            "XGBoost Accuracy on Training Data (CV): 0.8174628188712696\n",
            "XGBoost Accuracy on Validation Data: 0.8603351955307262\n",
            "\n",
            "DNN Accuracy on Training Data (CV): 0.8104501128196716\n",
            "DNN Accuracy on Validation Data: 0.8212290406227112\n",
            "\n"
          ],
          "name": "stdout"
        }
      ]
    },
    {
      "cell_type": "code",
      "metadata": {
        "id": "__OL152jK8a5",
        "colab": {
          "base_uri": "https://localhost:8080/",
          "height": 390
        },
        "outputId": "d544f182-df47-48ed-8b0d-851473d39d24"
      },
      "source": [
        "df_acc = pd.DataFrame.from_dict(dict_models)\r\n",
        "df_acc = df_acc.transpose()\r\n",
        "df_acc.columns = ['Acc Training (CV)', 'Acc Validation']\r\n",
        "df_acc"
      ],
      "execution_count": 84,
      "outputs": [
        {
          "output_type": "execute_result",
          "data": {
            "text/html": [
              "<div>\n",
              "<style scoped>\n",
              "    .dataframe tbody tr th:only-of-type {\n",
              "        vertical-align: middle;\n",
              "    }\n",
              "\n",
              "    .dataframe tbody tr th {\n",
              "        vertical-align: top;\n",
              "    }\n",
              "\n",
              "    .dataframe thead th {\n",
              "        text-align: right;\n",
              "    }\n",
              "</style>\n",
              "<table border=\"1\" class=\"dataframe\">\n",
              "  <thead>\n",
              "    <tr style=\"text-align: right;\">\n",
              "      <th></th>\n",
              "      <th>Acc Training (CV)</th>\n",
              "      <th>Acc Validation</th>\n",
              "    </tr>\n",
              "  </thead>\n",
              "  <tbody>\n",
              "    <tr>\n",
              "      <th>Dummy Classifier</th>\n",
              "      <td>0.616576</td>\n",
              "      <td>0.614525</td>\n",
              "    </tr>\n",
              "    <tr>\n",
              "      <th>Bernoulli NB</th>\n",
              "      <td>0.772550</td>\n",
              "      <td>0.798883</td>\n",
              "    </tr>\n",
              "    <tr>\n",
              "      <th>KNN</th>\n",
              "      <td>0.741554</td>\n",
              "      <td>0.765363</td>\n",
              "    </tr>\n",
              "    <tr>\n",
              "      <th>SGD</th>\n",
              "      <td>0.779573</td>\n",
              "      <td>0.793296</td>\n",
              "    </tr>\n",
              "    <tr>\n",
              "      <th>Logistic Regression</th>\n",
              "      <td>0.796425</td>\n",
              "      <td>0.810056</td>\n",
              "    </tr>\n",
              "    <tr>\n",
              "      <th>Ridge Classifier</th>\n",
              "      <td>0.800660</td>\n",
              "      <td>0.770950</td>\n",
              "    </tr>\n",
              "    <tr>\n",
              "      <th>SVC</th>\n",
              "      <td>0.779592</td>\n",
              "      <td>0.787709</td>\n",
              "    </tr>\n",
              "    <tr>\n",
              "      <th>Decision Tree</th>\n",
              "      <td>0.802039</td>\n",
              "      <td>0.832402</td>\n",
              "    </tr>\n",
              "    <tr>\n",
              "      <th>Random Forest</th>\n",
              "      <td>0.820290</td>\n",
              "      <td>0.832402</td>\n",
              "    </tr>\n",
              "    <tr>\n",
              "      <th>XGBoost</th>\n",
              "      <td>0.817463</td>\n",
              "      <td>0.860335</td>\n",
              "    </tr>\n",
              "    <tr>\n",
              "      <th>DNN</th>\n",
              "      <td>0.810450</td>\n",
              "      <td>0.821229</td>\n",
              "    </tr>\n",
              "  </tbody>\n",
              "</table>\n",
              "</div>"
            ],
            "text/plain": [
              "                     Acc Training (CV)  Acc Validation\n",
              "Dummy Classifier              0.616576        0.614525\n",
              "Bernoulli NB                  0.772550        0.798883\n",
              "KNN                           0.741554        0.765363\n",
              "SGD                           0.779573        0.793296\n",
              "Logistic Regression           0.796425        0.810056\n",
              "Ridge Classifier              0.800660        0.770950\n",
              "SVC                           0.779592        0.787709\n",
              "Decision Tree                 0.802039        0.832402\n",
              "Random Forest                 0.820290        0.832402\n",
              "XGBoost                       0.817463        0.860335\n",
              "DNN                           0.810450        0.821229"
            ]
          },
          "metadata": {
            "tags": []
          },
          "execution_count": 84
        }
      ]
    },
    {
      "cell_type": "code",
      "metadata": {
        "colab": {
          "base_uri": "https://localhost:8080/",
          "height": 700
        },
        "id": "ko9scBP5O_Q-",
        "outputId": "e72fd873-4437-422e-b47e-4624de280608"
      },
      "source": [
        "fig = plt.figure(figsize=(20,10))   # changes the size of the image\r\n",
        "fig.patch.set_facecolor('#eaeaf2')  # set the background color of the plot to match the seaborn theme\r\n",
        "\r\n",
        "ax = plt.gca()\r\n",
        "width = 0.40\r\n",
        "\r\n",
        "rects1 = ax.bar(df_acc.index, df_acc['Acc Training (CV)'], width,align='edge', color = '#40699c', label='CV Accuracy Score')\r\n",
        "rects2 = ax.bar(df_acc.index, df_acc['Acc Validation'], -width, align='edge', color = '#ba3c3c', label='Validation Accuracy')\r\n",
        "\r\n",
        "for r1, r2 in zip(rects1.patches, rects2.patches):\r\n",
        "    h1 = r1.get_height()\r\n",
        "    h2 = r2.get_height()\r\n",
        "\r\n",
        "    percent1 = h1*100\r\n",
        "    percent2 = h2*100\r\n",
        "\r\n",
        "    ax.annotate('{:.1f}%'.format(percent1),\r\n",
        "                    xy=(r1.get_x() + r1.get_width() / 2, h1),\r\n",
        "                    xytext=(0, 3),  # 3 points vertical offset\r\n",
        "                    textcoords=\"offset points\",\r\n",
        "                    ha='center', va='bottom')\r\n",
        "    ax.annotate('{:.1f}%'.format(percent2),\r\n",
        "                    xy=(r2.get_x() + r2.get_width() / 2, h2),\r\n",
        "                    xytext=(0, 3),  # 3 points vertical offset\r\n",
        "                    textcoords=\"offset points\",\r\n",
        "                    ha='center', va='bottom')\r\n",
        "\r\n",
        "# Rotate the X labels (models' names)\r\n",
        "\r\n",
        "plt.box(False)  # disable the box around the plot\r\n",
        "ax.grid(False)  # disable the grid\r\n",
        "ax.set_yticks([])   # disable the y ticks\r\n",
        "plt.xticks(rotation=30, rotation_mode=\"anchor\", ha='right')\r\n",
        "\r\n",
        "# creating a title\r\n",
        "plt.title('Comparison of Accuracy in Cross Validation (Training Data) and Validation Data\\n Non-Normalized Data',\r\n",
        "          size=20, alpha=0.8, y=1.02)\r\n",
        "\r\n",
        "# add the legend (to display the horizontal lines' labels)\r\n",
        "plt.legend(frameon=False, loc='upper center', ncol=2)\r\n",
        "\r\n",
        "# saves the plot\r\n",
        "plt.savefig(\"accuracy-comparison.png\", bbox_inches='tight', dpi=300)\r\n",
        "# displays the plot\r\n",
        "plt.show();"
      ],
      "execution_count": 93,
      "outputs": [
        {
          "output_type": "display_data",
          "data": {
            "image/png": "[encoded data removed]",
            "text/plain": [
              "<Figure size 1440x720 with 1 Axes>"
            ]
          },
          "metadata": {
            "tags": []
          }
        }
      ]
    }
  ]
}