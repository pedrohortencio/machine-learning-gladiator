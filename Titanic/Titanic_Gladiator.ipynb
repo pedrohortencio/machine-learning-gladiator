{
  "nbformat": 4,
  "nbformat_minor": 0,
  "metadata": {
    "colab": {
      "name": "Titanic - Gladiator.ipynb",
      "provenance": [],
      "collapsed_sections": [
        "1wQ1cZ01mnnx",
        "tR-4j8b7CVog"
      ],
      "authorship_tag": "ABX9TyPYFwJvhGEGXR2+mYX71A+B",
      "include_colab_link": true
    },
    "kernelspec": {
      "name": "python3",
      "display_name": "Python 3"
    }
  },
  "cells": [
    {
      "cell_type": "markdown",
      "metadata": {
        "id": "view-in-github",
        "colab_type": "text"
      },
      "source": [
        "<a href=\"https://colab.research.google.com/github/pedrohortencio/machine-learning-gladiator/blob/main/Titanic/Titanic_Gladiator.ipynb\" target=\"_parent\"><img src=\"https://colab.research.google.com/assets/colab-badge.svg\" alt=\"Open In Colab\"/></a>"
      ]
    },
    {
      "cell_type": "markdown",
      "metadata": {
        "id": "6x8gluEXtGKL"
      },
      "source": [
        "###Importing packages"
      ]
    },
    {
      "cell_type": "code",
      "metadata": {
        "id": "gYWIFxBatbS5"
      },
      "source": [
        "import numpy as np                  \n",
        "import pandas as pd                 \n",
        "import matplotlib.pyplot as plt     \n",
        "import seaborn as sns\n",
        "\n",
        "from sklearn.model_selection import train_test_split\n",
        "from sklearn.metrics import accuracy_score\n",
        "from sklearn.model_selection import GridSearchCV\n",
        "from sklearn.model_selection import StratifiedKFold\n",
        "from sklearn.model_selection import cross_val_score\n",
        "\n",
        "import tensorflow as tf\n",
        "from tensorflow import keras\n",
        "\n",
        "from keras.wrappers.scikit_learn import KerasClassifier\n",
        "\n",
        "from sklearn.neighbors import KNeighborsClassifier\n",
        "from sklearn.naive_bayes import BernoulliNB\n",
        "from sklearn.linear_model import SGDClassifier, LogisticRegression, RidgeClassifier\n",
        "from sklearn.svm import SVC\n",
        "from sklearn.tree import DecisionTreeClassifier\n",
        "from sklearn.dummy import DummyClassifier\n",
        "from sklearn.ensemble import RandomForestClassifier\n",
        "\n",
        "from xgboost import XGBClassifier\n",
        "\n",
        "\n",
        "grid = False\n",
        "\n",
        "seed = 7\n",
        "kfold = StratifiedKFold(n_splits=5, shuffle=True, random_state=seed)\n",
        "\n",
        "sns.set_theme()\n",
        "%matplotlib inline"
      ],
      "execution_count": 81,
      "outputs": []
    },
    {
      "cell_type": "markdown",
      "metadata": {
        "id": "Y1ANuVQ3tPUy"
      },
      "source": [
        "###Downloading the competition data"
      ]
    },
    {
      "cell_type": "code",
      "metadata": {
        "id": "qw1IMUWmuGwO",
        "colab": {
          "base_uri": "https://localhost:8080/"
        },
        "outputId": "b1f1c56b-8863-4c7c-e20d-2913baa03593"
      },
      "source": [
        "# Changing the directory of kaggle.json token\n",
        "!mkdir -p ~/.kaggle\n",
        "!cp kaggle.json ~/.kaggle/\n",
        "!ls ~/.kaggle\n",
        "!chmod 600 /root/.kaggle/kaggle.json\n",
        "\n",
        "#Downloading the dataset\n",
        "!kaggle competitions download -c titanic"
      ],
      "execution_count": 82,
      "outputs": [
        {
          "output_type": "stream",
          "text": [
            "kaggle.json\n",
            "Warning: Looks like you're using an outdated API Version, please consider updating (server 1.5.10 / client 1.5.4)\n",
            "test.csv: Skipping, found more recently modified local copy (use --force to force download)\n",
            "gender_submission.csv: Skipping, found more recently modified local copy (use --force to force download)\n",
            "train.csv: Skipping, found more recently modified local copy (use --force to force download)\n"
          ],
          "name": "stdout"
        }
      ]
    },
    {
      "cell_type": "markdown",
      "metadata": {
        "id": "zE39hSQEtZpt"
      },
      "source": [
        "###Creating dataframes"
      ]
    },
    {
      "cell_type": "code",
      "metadata": {
        "id": "aziednIDuGnV"
      },
      "source": [
        "df_train = pd.read_csv('/content/train.csv', header=0, sep=',', \n",
        "                       quotechar='\"',index_col=\"PassengerId\")\n",
        "df_test = pd.read_csv('/content/test.csv', header=0, sep=',',\n",
        "                      quotechar='\"', index_col=\"PassengerId\")"
      ],
      "execution_count": 83,
      "outputs": []
    },
    {
      "cell_type": "code",
      "metadata": {
        "id": "USN_u23fvru2",
        "colab": {
          "base_uri": "https://localhost:8080/",
          "height": 142
        },
        "outputId": "1324701c-9cca-4a82-b054-21eccceaf35b"
      },
      "source": [
        "df_train.head(2)"
      ],
      "execution_count": 84,
      "outputs": [
        {
          "output_type": "execute_result",
          "data": {
            "text/html": [
              "<div>\n",
              "<style scoped>\n",
              "    .dataframe tbody tr th:only-of-type {\n",
              "        vertical-align: middle;\n",
              "    }\n",
              "\n",
              "    .dataframe tbody tr th {\n",
              "        vertical-align: top;\n",
              "    }\n",
              "\n",
              "    .dataframe thead th {\n",
              "        text-align: right;\n",
              "    }\n",
              "</style>\n",
              "<table border=\"1\" class=\"dataframe\">\n",
              "  <thead>\n",
              "    <tr style=\"text-align: right;\">\n",
              "      <th></th>\n",
              "      <th>Survived</th>\n",
              "      <th>Pclass</th>\n",
              "      <th>Name</th>\n",
              "      <th>Sex</th>\n",
              "      <th>Age</th>\n",
              "      <th>SibSp</th>\n",
              "      <th>Parch</th>\n",
              "      <th>Ticket</th>\n",
              "      <th>Fare</th>\n",
              "      <th>Cabin</th>\n",
              "      <th>Embarked</th>\n",
              "    </tr>\n",
              "    <tr>\n",
              "      <th>PassengerId</th>\n",
              "      <th></th>\n",
              "      <th></th>\n",
              "      <th></th>\n",
              "      <th></th>\n",
              "      <th></th>\n",
              "      <th></th>\n",
              "      <th></th>\n",
              "      <th></th>\n",
              "      <th></th>\n",
              "      <th></th>\n",
              "      <th></th>\n",
              "    </tr>\n",
              "  </thead>\n",
              "  <tbody>\n",
              "    <tr>\n",
              "      <th>1</th>\n",
              "      <td>0</td>\n",
              "      <td>3</td>\n",
              "      <td>Braund, Mr. Owen Harris</td>\n",
              "      <td>male</td>\n",
              "      <td>22.0</td>\n",
              "      <td>1</td>\n",
              "      <td>0</td>\n",
              "      <td>A/5 21171</td>\n",
              "      <td>7.2500</td>\n",
              "      <td>NaN</td>\n",
              "      <td>S</td>\n",
              "    </tr>\n",
              "    <tr>\n",
              "      <th>2</th>\n",
              "      <td>1</td>\n",
              "      <td>1</td>\n",
              "      <td>Cumings, Mrs. John Bradley (Florence Briggs Th...</td>\n",
              "      <td>female</td>\n",
              "      <td>38.0</td>\n",
              "      <td>1</td>\n",
              "      <td>0</td>\n",
              "      <td>PC 17599</td>\n",
              "      <td>71.2833</td>\n",
              "      <td>C85</td>\n",
              "      <td>C</td>\n",
              "    </tr>\n",
              "  </tbody>\n",
              "</table>\n",
              "</div>"
            ],
            "text/plain": [
              "             Survived  Pclass  ... Cabin Embarked\n",
              "PassengerId                    ...               \n",
              "1                   0       3  ...   NaN        S\n",
              "2                   1       1  ...   C85        C\n",
              "\n",
              "[2 rows x 11 columns]"
            ]
          },
          "metadata": {
            "tags": []
          },
          "execution_count": 84
        }
      ]
    },
    {
      "cell_type": "code",
      "metadata": {
        "id": "b4VBW5nJvtnc",
        "colab": {
          "base_uri": "https://localhost:8080/",
          "height": 142
        },
        "outputId": "e9fe04e0-c75d-4717-ddcf-a40303e935bb"
      },
      "source": [
        "df_test.head(2)"
      ],
      "execution_count": 85,
      "outputs": [
        {
          "output_type": "execute_result",
          "data": {
            "text/html": [
              "<div>\n",
              "<style scoped>\n",
              "    .dataframe tbody tr th:only-of-type {\n",
              "        vertical-align: middle;\n",
              "    }\n",
              "\n",
              "    .dataframe tbody tr th {\n",
              "        vertical-align: top;\n",
              "    }\n",
              "\n",
              "    .dataframe thead th {\n",
              "        text-align: right;\n",
              "    }\n",
              "</style>\n",
              "<table border=\"1\" class=\"dataframe\">\n",
              "  <thead>\n",
              "    <tr style=\"text-align: right;\">\n",
              "      <th></th>\n",
              "      <th>Pclass</th>\n",
              "      <th>Name</th>\n",
              "      <th>Sex</th>\n",
              "      <th>Age</th>\n",
              "      <th>SibSp</th>\n",
              "      <th>Parch</th>\n",
              "      <th>Ticket</th>\n",
              "      <th>Fare</th>\n",
              "      <th>Cabin</th>\n",
              "      <th>Embarked</th>\n",
              "    </tr>\n",
              "    <tr>\n",
              "      <th>PassengerId</th>\n",
              "      <th></th>\n",
              "      <th></th>\n",
              "      <th></th>\n",
              "      <th></th>\n",
              "      <th></th>\n",
              "      <th></th>\n",
              "      <th></th>\n",
              "      <th></th>\n",
              "      <th></th>\n",
              "      <th></th>\n",
              "    </tr>\n",
              "  </thead>\n",
              "  <tbody>\n",
              "    <tr>\n",
              "      <th>892</th>\n",
              "      <td>3</td>\n",
              "      <td>Kelly, Mr. James</td>\n",
              "      <td>male</td>\n",
              "      <td>34.5</td>\n",
              "      <td>0</td>\n",
              "      <td>0</td>\n",
              "      <td>330911</td>\n",
              "      <td>7.8292</td>\n",
              "      <td>NaN</td>\n",
              "      <td>Q</td>\n",
              "    </tr>\n",
              "    <tr>\n",
              "      <th>893</th>\n",
              "      <td>3</td>\n",
              "      <td>Wilkes, Mrs. James (Ellen Needs)</td>\n",
              "      <td>female</td>\n",
              "      <td>47.0</td>\n",
              "      <td>1</td>\n",
              "      <td>0</td>\n",
              "      <td>363272</td>\n",
              "      <td>7.0000</td>\n",
              "      <td>NaN</td>\n",
              "      <td>S</td>\n",
              "    </tr>\n",
              "  </tbody>\n",
              "</table>\n",
              "</div>"
            ],
            "text/plain": [
              "             Pclass                              Name  ... Cabin  Embarked\n",
              "PassengerId                                            ...                \n",
              "892               3                  Kelly, Mr. James  ...   NaN         Q\n",
              "893               3  Wilkes, Mrs. James (Ellen Needs)  ...   NaN         S\n",
              "\n",
              "[2 rows x 10 columns]"
            ]
          },
          "metadata": {
            "tags": []
          },
          "execution_count": 85
        }
      ]
    },
    {
      "cell_type": "code",
      "metadata": {
        "id": "u-nXGk96vrr9",
        "colab": {
          "base_uri": "https://localhost:8080/"
        },
        "outputId": "f7dade73-79a9-41d6-b610-5e8e759d5e03"
      },
      "source": [
        "print(\"Train dataset shape:\", df_train.shape)\n",
        "print(\"Test dataset shape:\", df_test.shape)"
      ],
      "execution_count": 86,
      "outputs": [
        {
          "output_type": "stream",
          "text": [
            "Train dataset shape: (891, 11)\n",
            "Test dataset shape: (418, 10)\n"
          ],
          "name": "stdout"
        }
      ]
    },
    {
      "cell_type": "markdown",
      "metadata": {
        "id": "-tV7aC5DdsGX"
      },
      "source": [
        "## Exploratory Data Analysis"
      ]
    },
    {
      "cell_type": "markdown",
      "metadata": {
        "id": "uuukwLlpfKjm"
      },
      "source": [
        "### Searching for Missing Values"
      ]
    },
    {
      "cell_type": "code",
      "metadata": {
        "id": "y278OvVJcc_d",
        "colab": {
          "base_uri": "https://localhost:8080/"
        },
        "outputId": "f37f98d8-138f-42c9-e94b-1b0064a10bff"
      },
      "source": [
        "# Distribution in the train dataset\n",
        "print(\"Train Dataset\\n\")\n",
        "print(df_train.Pclass.value_counts(dropna=False))  \n",
        "print(\"--\"*15)\n",
        "print(df_train.Embarked.value_counts(dropna=False))\n",
        "print(\"--\"*15)\n",
        "print(df_train.SibSp.value_counts(dropna=False))\n",
        "print(\"--\"*15)\n",
        "print(df_train.Parch.value_counts(dropna=False))\n",
        "print(\"--\"*15)"
      ],
      "execution_count": 87,
      "outputs": [
        {
          "output_type": "stream",
          "text": [
            "Train Dataset\n",
            "\n",
            "3    491\n",
            "1    216\n",
            "2    184\n",
            "Name: Pclass, dtype: int64\n",
            "------------------------------\n",
            "S      644\n",
            "C      168\n",
            "Q       77\n",
            "NaN      2\n",
            "Name: Embarked, dtype: int64\n",
            "------------------------------\n",
            "0    608\n",
            "1    209\n",
            "2     28\n",
            "4     18\n",
            "3     16\n",
            "8      7\n",
            "5      5\n",
            "Name: SibSp, dtype: int64\n",
            "------------------------------\n",
            "0    678\n",
            "1    118\n",
            "2     80\n",
            "5      5\n",
            "3      5\n",
            "4      4\n",
            "6      1\n",
            "Name: Parch, dtype: int64\n",
            "------------------------------\n"
          ],
          "name": "stdout"
        }
      ]
    },
    {
      "cell_type": "code",
      "metadata": {
        "id": "E8GLJy5ldlj6",
        "colab": {
          "base_uri": "https://localhost:8080/"
        },
        "outputId": "bdb7804e-7ac1-4a5d-f19a-6e04f6838c46"
      },
      "source": [
        "# Distribution in the test dataset\n",
        "print(\"Test Dataset\\n\")\n",
        "print(df_test.Pclass.value_counts(dropna=False))  \n",
        "print(\"--\"*15)\n",
        "print(df_test.Embarked.value_counts(dropna=False))\n",
        "print(\"--\"*15)\n",
        "print(df_test.SibSp.value_counts(dropna=False))\n",
        "print(\"--\"*15)\n",
        "print(df_test.Parch.value_counts(dropna=False))\n",
        "print(\"--\"*15)"
      ],
      "execution_count": 88,
      "outputs": [
        {
          "output_type": "stream",
          "text": [
            "Test Dataset\n",
            "\n",
            "3    218\n",
            "1    107\n",
            "2     93\n",
            "Name: Pclass, dtype: int64\n",
            "------------------------------\n",
            "S    270\n",
            "C    102\n",
            "Q     46\n",
            "Name: Embarked, dtype: int64\n",
            "------------------------------\n",
            "0    283\n",
            "1    110\n",
            "2     14\n",
            "4      4\n",
            "3      4\n",
            "8      2\n",
            "5      1\n",
            "Name: SibSp, dtype: int64\n",
            "------------------------------\n",
            "0    324\n",
            "1     52\n",
            "2     33\n",
            "3      3\n",
            "9      2\n",
            "4      2\n",
            "6      1\n",
            "5      1\n",
            "Name: Parch, dtype: int64\n",
            "------------------------------\n"
          ],
          "name": "stdout"
        }
      ]
    },
    {
      "cell_type": "code",
      "metadata": {
        "id": "p10DHGqFcNN2",
        "colab": {
          "base_uri": "https://localhost:8080/"
        },
        "outputId": "f39f87a3-ff1d-400b-9a91-788f14c95b0e"
      },
      "source": [
        "# NaN values in train dataset\n",
        "df_train.isnull().sum().sort_values(ascending=False)"
      ],
      "execution_count": 89,
      "outputs": [
        {
          "output_type": "execute_result",
          "data": {
            "text/plain": [
              "Cabin       687\n",
              "Age         177\n",
              "Embarked      2\n",
              "Fare          0\n",
              "Ticket        0\n",
              "Parch         0\n",
              "SibSp         0\n",
              "Sex           0\n",
              "Name          0\n",
              "Pclass        0\n",
              "Survived      0\n",
              "dtype: int64"
            ]
          },
          "metadata": {
            "tags": []
          },
          "execution_count": 89
        }
      ]
    },
    {
      "cell_type": "code",
      "metadata": {
        "id": "sGfmdk9fcJy6",
        "colab": {
          "base_uri": "https://localhost:8080/"
        },
        "outputId": "113e6605-cb3a-4e29-c35f-c158fa0b8b15"
      },
      "source": [
        "# NaN values in test dataset\n",
        "df_test.isnull().sum().sort_values(ascending=False)"
      ],
      "execution_count": 90,
      "outputs": [
        {
          "output_type": "execute_result",
          "data": {
            "text/plain": [
              "Cabin       327\n",
              "Age          86\n",
              "Fare          1\n",
              "Embarked      0\n",
              "Ticket        0\n",
              "Parch         0\n",
              "SibSp         0\n",
              "Sex           0\n",
              "Name          0\n",
              "Pclass        0\n",
              "dtype: int64"
            ]
          },
          "metadata": {
            "tags": []
          },
          "execution_count": 90
        }
      ]
    },
    {
      "cell_type": "code",
      "metadata": {
        "id": "5onrshukbbBJ",
        "colab": {
          "base_uri": "https://localhost:8080/",
          "height": 598
        },
        "outputId": "55bb7ce3-4887-4b05-aac9-36b7cc17b5f4"
      },
      "source": [
        "#Analysing the correlation of features \n",
        "\n",
        "mat = df_train.corr()\n",
        "fig, ax = plt.subplots(figsize = (10,10))\n",
        "sns.heatmap(mat, annot = True, annot_kws={'size': 12});"
      ],
      "execution_count": 91,
      "outputs": [
        {
          "output_type": "display_data",
          "data": {
            "image/png": "[encoded data removed]",
            "text/plain": [
              "<Figure size 720x720 with 2 Axes>"
            ]
          },
          "metadata": {
            "tags": [],
            "needs_background": "light"
          }
        }
      ]
    },
    {
      "cell_type": "markdown",
      "metadata": {
        "id": "i8pIKALhujtL"
      },
      "source": [
        "The above plot give us some information about the correlation between the variables, some are expected and some aren't:\n",
        "\n",
        "* High fares and ages are correlated with a higher ticket class (1st, for instance)\n",
        "\n",
        "* High ages are correlated with lower number of of siblings / spouses aboard the Titanic\n",
        "\n",
        "* Number of parents / children aboard the Titanic and ticket class share a weak correlation\n",
        "\n",
        "* Age and Fare share a weak correlation\n",
        "\n",
        "* Number of siblings / spouses aboard the Titanic and ticket class share a weak correlation\n",
        "\n",
        "* Survival rates are more correlated with ticket class and fare"
      ]
    },
    {
      "cell_type": "markdown",
      "metadata": {
        "id": "1wQ1cZ01mnnx"
      },
      "source": [
        "### Cabin column manipulation"
      ]
    },
    {
      "cell_type": "code",
      "metadata": {
        "id": "MypUSiGBz1Be",
        "colab": {
          "base_uri": "https://localhost:8080/"
        },
        "outputId": "503e2e0b-b94e-4e74-db99-b8da3d084996"
      },
      "source": [
        "# Survival distribution where the Cabin value is NaN\n",
        "df_train[df_train['Cabin'].isnull()]['Survived'].value_counts()"
      ],
      "execution_count": 92,
      "outputs": [
        {
          "output_type": "execute_result",
          "data": {
            "text/plain": [
              "0    481\n",
              "1    206\n",
              "Name: Survived, dtype: int64"
            ]
          },
          "metadata": {
            "tags": []
          },
          "execution_count": 92
        }
      ]
    },
    {
      "cell_type": "code",
      "metadata": {
        "id": "6gK3U2S6y5m6",
        "colab": {
          "base_uri": "https://localhost:8080/",
          "height": 0
        },
        "outputId": "78da6a70-bb19-4b4f-d0b4-038b1ad72898"
      },
      "source": [
        "# Survival distribution where the Cabin value is NaN\n",
        "df_train[df_train['Cabin'].isnull()]['Survived'].hist(grid=False);"
      ],
      "execution_count": 93,
      "outputs": [
        {
          "output_type": "display_data",
          "data": {
            "image/png": "[encoded data removed]",
            "text/plain": [
              "<Figure size 432x288 with 1 Axes>"
            ]
          },
          "metadata": {
            "tags": [],
            "needs_background": "light"
          }
        }
      ]
    },
    {
      "cell_type": "code",
      "metadata": {
        "id": "cW_9xhOKyfqV",
        "colab": {
          "base_uri": "https://localhost:8080/"
        },
        "outputId": "254f129a-992a-44e0-8e7b-f077d71deb4e"
      },
      "source": [
        "# Survival distribution where the Cabin value isn't NaN\n",
        "df_train[np.logical_not(df_train['Cabin'].isnull())]['Survived'].value_counts()"
      ],
      "execution_count": 94,
      "outputs": [
        {
          "output_type": "execute_result",
          "data": {
            "text/plain": [
              "1    136\n",
              "0     68\n",
              "Name: Survived, dtype: int64"
            ]
          },
          "metadata": {
            "tags": []
          },
          "execution_count": 94
        }
      ]
    },
    {
      "cell_type": "code",
      "metadata": {
        "id": "eRZ3LtqQ0Ez9",
        "colab": {
          "base_uri": "https://localhost:8080/",
          "height": 0
        },
        "outputId": "266d6d42-bc76-483d-f55e-bd33591aed27"
      },
      "source": [
        "# Survival distribution where the Cabin value isn't NaN\n",
        "df_train[np.logical_not(df_train['Cabin'].isnull())]['Survived'].hist(grid=False);"
      ],
      "execution_count": 95,
      "outputs": [
        {
          "output_type": "display_data",
          "data": {
            "image/png": "[encoded data removed]",
            "text/plain": [
              "<Figure size 432x288 with 1 Axes>"
            ]
          },
          "metadata": {
            "tags": [],
            "needs_background": "light"
          }
        }
      ]
    },
    {
      "cell_type": "markdown",
      "metadata": {
        "id": "dupEwPtXxWdk"
      },
      "source": [
        ">The plots above tell us that the survival rates are higher when there's a value in the Cabin column."
      ]
    },
    {
      "cell_type": "code",
      "metadata": {
        "id": "zIyQKtT4ALxn"
      },
      "source": [
        "# Creating column \"CabinMissing\" which will have 1 if there's a NaN value in Cabin, and 0 otherwhise \n",
        "df_train['CabinMissing'] = df_train['Cabin'].isnull().astype(int)\n",
        "df_test['CabinMissing'] = df_test['Cabin'].isnull().astype(int)"
      ],
      "execution_count": 96,
      "outputs": []
    },
    {
      "cell_type": "code",
      "metadata": {
        "colab": {
          "base_uri": "https://localhost:8080/",
          "height": 0
        },
        "id": "nss5r4CrO1-j",
        "outputId": "3711474b-13bd-4052-9477-52b79a9ae7bf"
      },
      "source": [
        "df_train.head(2)"
      ],
      "execution_count": 97,
      "outputs": [
        {
          "output_type": "execute_result",
          "data": {
            "text/html": [
              "<div>\n",
              "<style scoped>\n",
              "    .dataframe tbody tr th:only-of-type {\n",
              "        vertical-align: middle;\n",
              "    }\n",
              "\n",
              "    .dataframe tbody tr th {\n",
              "        vertical-align: top;\n",
              "    }\n",
              "\n",
              "    .dataframe thead th {\n",
              "        text-align: right;\n",
              "    }\n",
              "</style>\n",
              "<table border=\"1\" class=\"dataframe\">\n",
              "  <thead>\n",
              "    <tr style=\"text-align: right;\">\n",
              "      <th></th>\n",
              "      <th>Survived</th>\n",
              "      <th>Pclass</th>\n",
              "      <th>Name</th>\n",
              "      <th>Sex</th>\n",
              "      <th>Age</th>\n",
              "      <th>SibSp</th>\n",
              "      <th>Parch</th>\n",
              "      <th>Ticket</th>\n",
              "      <th>Fare</th>\n",
              "      <th>Cabin</th>\n",
              "      <th>Embarked</th>\n",
              "      <th>CabinMissing</th>\n",
              "    </tr>\n",
              "    <tr>\n",
              "      <th>PassengerId</th>\n",
              "      <th></th>\n",
              "      <th></th>\n",
              "      <th></th>\n",
              "      <th></th>\n",
              "      <th></th>\n",
              "      <th></th>\n",
              "      <th></th>\n",
              "      <th></th>\n",
              "      <th></th>\n",
              "      <th></th>\n",
              "      <th></th>\n",
              "      <th></th>\n",
              "    </tr>\n",
              "  </thead>\n",
              "  <tbody>\n",
              "    <tr>\n",
              "      <th>1</th>\n",
              "      <td>0</td>\n",
              "      <td>3</td>\n",
              "      <td>Braund, Mr. Owen Harris</td>\n",
              "      <td>male</td>\n",
              "      <td>22.0</td>\n",
              "      <td>1</td>\n",
              "      <td>0</td>\n",
              "      <td>A/5 21171</td>\n",
              "      <td>7.2500</td>\n",
              "      <td>NaN</td>\n",
              "      <td>S</td>\n",
              "      <td>1</td>\n",
              "    </tr>\n",
              "    <tr>\n",
              "      <th>2</th>\n",
              "      <td>1</td>\n",
              "      <td>1</td>\n",
              "      <td>Cumings, Mrs. John Bradley (Florence Briggs Th...</td>\n",
              "      <td>female</td>\n",
              "      <td>38.0</td>\n",
              "      <td>1</td>\n",
              "      <td>0</td>\n",
              "      <td>PC 17599</td>\n",
              "      <td>71.2833</td>\n",
              "      <td>C85</td>\n",
              "      <td>C</td>\n",
              "      <td>0</td>\n",
              "    </tr>\n",
              "  </tbody>\n",
              "</table>\n",
              "</div>"
            ],
            "text/plain": [
              "             Survived  Pclass  ... Embarked CabinMissing\n",
              "PassengerId                    ...                      \n",
              "1                   0       3  ...        S            1\n",
              "2                   1       1  ...        C            0\n",
              "\n",
              "[2 rows x 12 columns]"
            ]
          },
          "metadata": {
            "tags": []
          },
          "execution_count": 97
        }
      ]
    },
    {
      "cell_type": "markdown",
      "metadata": {
        "id": "gInLDnz5QXRN"
      },
      "source": [
        "### Name Column manipulation"
      ]
    },
    {
      "cell_type": "markdown",
      "metadata": {
        "id": "U4CLqvgaki59"
      },
      "source": [
        "Extracting Title from the Name Column"
      ]
    },
    {
      "cell_type": "code",
      "metadata": {
        "id": "MKSs2BXjkleO"
      },
      "source": [
        "# Combining the two datasets for easier iteration\n",
        "combined_datasets = [df_train, df_test]"
      ],
      "execution_count": 98,
      "outputs": []
    },
    {
      "cell_type": "code",
      "metadata": {
        "id": "_NzJWWyokpV9"
      },
      "source": [
        "# Loop to iterate over the 2 datasets\n",
        "for dataset in combined_datasets:\n",
        "    # Extracting the title\n",
        "    dataset['Title'] = dataset.Name.str.extract(' ([A-Za-z]+)\\.', expand=False)"
      ],
      "execution_count": 99,
      "outputs": []
    },
    {
      "cell_type": "code",
      "metadata": {
        "id": "xga_qGkJkuvg",
        "colab": {
          "base_uri": "https://localhost:8080/",
          "height": 607
        },
        "outputId": "3bb7188c-664c-4abe-eceb-0fa42ef57896"
      },
      "source": [
        "pd.crosstab(df_train['Title'], df_train['Sex'])"
      ],
      "execution_count": 100,
      "outputs": [
        {
          "output_type": "execute_result",
          "data": {
            "text/html": [
              "<div>\n",
              "<style scoped>\n",
              "    .dataframe tbody tr th:only-of-type {\n",
              "        vertical-align: middle;\n",
              "    }\n",
              "\n",
              "    .dataframe tbody tr th {\n",
              "        vertical-align: top;\n",
              "    }\n",
              "\n",
              "    .dataframe thead th {\n",
              "        text-align: right;\n",
              "    }\n",
              "</style>\n",
              "<table border=\"1\" class=\"dataframe\">\n",
              "  <thead>\n",
              "    <tr style=\"text-align: right;\">\n",
              "      <th>Sex</th>\n",
              "      <th>female</th>\n",
              "      <th>male</th>\n",
              "    </tr>\n",
              "    <tr>\n",
              "      <th>Title</th>\n",
              "      <th></th>\n",
              "      <th></th>\n",
              "    </tr>\n",
              "  </thead>\n",
              "  <tbody>\n",
              "    <tr>\n",
              "      <th>Capt</th>\n",
              "      <td>0</td>\n",
              "      <td>1</td>\n",
              "    </tr>\n",
              "    <tr>\n",
              "      <th>Col</th>\n",
              "      <td>0</td>\n",
              "      <td>2</td>\n",
              "    </tr>\n",
              "    <tr>\n",
              "      <th>Countess</th>\n",
              "      <td>1</td>\n",
              "      <td>0</td>\n",
              "    </tr>\n",
              "    <tr>\n",
              "      <th>Don</th>\n",
              "      <td>0</td>\n",
              "      <td>1</td>\n",
              "    </tr>\n",
              "    <tr>\n",
              "      <th>Dr</th>\n",
              "      <td>1</td>\n",
              "      <td>6</td>\n",
              "    </tr>\n",
              "    <tr>\n",
              "      <th>Jonkheer</th>\n",
              "      <td>0</td>\n",
              "      <td>1</td>\n",
              "    </tr>\n",
              "    <tr>\n",
              "      <th>Lady</th>\n",
              "      <td>1</td>\n",
              "      <td>0</td>\n",
              "    </tr>\n",
              "    <tr>\n",
              "      <th>Major</th>\n",
              "      <td>0</td>\n",
              "      <td>2</td>\n",
              "    </tr>\n",
              "    <tr>\n",
              "      <th>Master</th>\n",
              "      <td>0</td>\n",
              "      <td>40</td>\n",
              "    </tr>\n",
              "    <tr>\n",
              "      <th>Miss</th>\n",
              "      <td>182</td>\n",
              "      <td>0</td>\n",
              "    </tr>\n",
              "    <tr>\n",
              "      <th>Mlle</th>\n",
              "      <td>2</td>\n",
              "      <td>0</td>\n",
              "    </tr>\n",
              "    <tr>\n",
              "      <th>Mme</th>\n",
              "      <td>1</td>\n",
              "      <td>0</td>\n",
              "    </tr>\n",
              "    <tr>\n",
              "      <th>Mr</th>\n",
              "      <td>0</td>\n",
              "      <td>517</td>\n",
              "    </tr>\n",
              "    <tr>\n",
              "      <th>Mrs</th>\n",
              "      <td>125</td>\n",
              "      <td>0</td>\n",
              "    </tr>\n",
              "    <tr>\n",
              "      <th>Ms</th>\n",
              "      <td>1</td>\n",
              "      <td>0</td>\n",
              "    </tr>\n",
              "    <tr>\n",
              "      <th>Rev</th>\n",
              "      <td>0</td>\n",
              "      <td>6</td>\n",
              "    </tr>\n",
              "    <tr>\n",
              "      <th>Sir</th>\n",
              "      <td>0</td>\n",
              "      <td>1</td>\n",
              "    </tr>\n",
              "  </tbody>\n",
              "</table>\n",
              "</div>"
            ],
            "text/plain": [
              "Sex       female  male\n",
              "Title                 \n",
              "Capt           0     1\n",
              "Col            0     2\n",
              "Countess       1     0\n",
              "Don            0     1\n",
              "Dr             1     6\n",
              "Jonkheer       0     1\n",
              "Lady           1     0\n",
              "Major          0     2\n",
              "Master         0    40\n",
              "Miss         182     0\n",
              "Mlle           2     0\n",
              "Mme            1     0\n",
              "Mr             0   517\n",
              "Mrs          125     0\n",
              "Ms             1     0\n",
              "Rev            0     6\n",
              "Sir            0     1"
            ]
          },
          "metadata": {
            "tags": []
          },
          "execution_count": 100
        }
      ]
    },
    {
      "cell_type": "code",
      "metadata": {
        "id": "-FtCua-Lk8Ks"
      },
      "source": [
        "for dataset in combined_datasets:\n",
        "    # Combining less common titles under the category \"Others\"\n",
        "    dataset['Title'] = dataset['Title'].replace(['Lady', 'Countess','Capt', 'Col',\\\n",
        " \t'Don', 'Dr', 'Major', 'Rev', 'Sir', 'Jonkheer', 'Dona'], 'Others')\n",
        "\n",
        "    # Replacing misspelled words\n",
        "    dataset['Title'] = dataset['Title'].replace('Mlle', 'Miss')\n",
        "    dataset['Title'] = dataset['Title'].replace('Ms', 'Miss')\n",
        "    dataset['Title'] = dataset['Title'].replace('Mme', 'Mrs')"
      ],
      "execution_count": 101,
      "outputs": []
    },
    {
      "cell_type": "code",
      "metadata": {
        "id": "hiDaS5vBlKTd",
        "colab": {
          "base_uri": "https://localhost:8080/",
          "height": 204
        },
        "outputId": "4370fa09-4570-4002-cbd4-5db794ff8ed2"
      },
      "source": [
        "df_train[['Title', 'Survived']].groupby(['Title'], as_index=False).mean()"
      ],
      "execution_count": 102,
      "outputs": [
        {
          "output_type": "execute_result",
          "data": {
            "text/html": [
              "<div>\n",
              "<style scoped>\n",
              "    .dataframe tbody tr th:only-of-type {\n",
              "        vertical-align: middle;\n",
              "    }\n",
              "\n",
              "    .dataframe tbody tr th {\n",
              "        vertical-align: top;\n",
              "    }\n",
              "\n",
              "    .dataframe thead th {\n",
              "        text-align: right;\n",
              "    }\n",
              "</style>\n",
              "<table border=\"1\" class=\"dataframe\">\n",
              "  <thead>\n",
              "    <tr style=\"text-align: right;\">\n",
              "      <th></th>\n",
              "      <th>Title</th>\n",
              "      <th>Survived</th>\n",
              "    </tr>\n",
              "  </thead>\n",
              "  <tbody>\n",
              "    <tr>\n",
              "      <th>0</th>\n",
              "      <td>Master</td>\n",
              "      <td>0.575000</td>\n",
              "    </tr>\n",
              "    <tr>\n",
              "      <th>1</th>\n",
              "      <td>Miss</td>\n",
              "      <td>0.702703</td>\n",
              "    </tr>\n",
              "    <tr>\n",
              "      <th>2</th>\n",
              "      <td>Mr</td>\n",
              "      <td>0.156673</td>\n",
              "    </tr>\n",
              "    <tr>\n",
              "      <th>3</th>\n",
              "      <td>Mrs</td>\n",
              "      <td>0.793651</td>\n",
              "    </tr>\n",
              "    <tr>\n",
              "      <th>4</th>\n",
              "      <td>Others</td>\n",
              "      <td>0.347826</td>\n",
              "    </tr>\n",
              "  </tbody>\n",
              "</table>\n",
              "</div>"
            ],
            "text/plain": [
              "    Title  Survived\n",
              "0  Master  0.575000\n",
              "1    Miss  0.702703\n",
              "2      Mr  0.156673\n",
              "3     Mrs  0.793651\n",
              "4  Others  0.347826"
            ]
          },
          "metadata": {
            "tags": []
          },
          "execution_count": 102
        }
      ]
    },
    {
      "cell_type": "code",
      "metadata": {
        "colab": {
          "base_uri": "https://localhost:8080/",
          "height": 207
        },
        "id": "nNNp-byLXHVD",
        "outputId": "4a8d7413-da81-4ded-e941-22a92e2337cf"
      },
      "source": [
        "df_train.head(3)"
      ],
      "execution_count": 103,
      "outputs": [
        {
          "output_type": "execute_result",
          "data": {
            "text/html": [
              "<div>\n",
              "<style scoped>\n",
              "    .dataframe tbody tr th:only-of-type {\n",
              "        vertical-align: middle;\n",
              "    }\n",
              "\n",
              "    .dataframe tbody tr th {\n",
              "        vertical-align: top;\n",
              "    }\n",
              "\n",
              "    .dataframe thead th {\n",
              "        text-align: right;\n",
              "    }\n",
              "</style>\n",
              "<table border=\"1\" class=\"dataframe\">\n",
              "  <thead>\n",
              "    <tr style=\"text-align: right;\">\n",
              "      <th></th>\n",
              "      <th>Survived</th>\n",
              "      <th>Pclass</th>\n",
              "      <th>Name</th>\n",
              "      <th>Sex</th>\n",
              "      <th>Age</th>\n",
              "      <th>SibSp</th>\n",
              "      <th>Parch</th>\n",
              "      <th>Ticket</th>\n",
              "      <th>Fare</th>\n",
              "      <th>Cabin</th>\n",
              "      <th>Embarked</th>\n",
              "      <th>CabinMissing</th>\n",
              "      <th>Title</th>\n",
              "    </tr>\n",
              "    <tr>\n",
              "      <th>PassengerId</th>\n",
              "      <th></th>\n",
              "      <th></th>\n",
              "      <th></th>\n",
              "      <th></th>\n",
              "      <th></th>\n",
              "      <th></th>\n",
              "      <th></th>\n",
              "      <th></th>\n",
              "      <th></th>\n",
              "      <th></th>\n",
              "      <th></th>\n",
              "      <th></th>\n",
              "      <th></th>\n",
              "    </tr>\n",
              "  </thead>\n",
              "  <tbody>\n",
              "    <tr>\n",
              "      <th>1</th>\n",
              "      <td>0</td>\n",
              "      <td>3</td>\n",
              "      <td>Braund, Mr. Owen Harris</td>\n",
              "      <td>male</td>\n",
              "      <td>22.0</td>\n",
              "      <td>1</td>\n",
              "      <td>0</td>\n",
              "      <td>A/5 21171</td>\n",
              "      <td>7.2500</td>\n",
              "      <td>NaN</td>\n",
              "      <td>S</td>\n",
              "      <td>1</td>\n",
              "      <td>Mr</td>\n",
              "    </tr>\n",
              "    <tr>\n",
              "      <th>2</th>\n",
              "      <td>1</td>\n",
              "      <td>1</td>\n",
              "      <td>Cumings, Mrs. John Bradley (Florence Briggs Th...</td>\n",
              "      <td>female</td>\n",
              "      <td>38.0</td>\n",
              "      <td>1</td>\n",
              "      <td>0</td>\n",
              "      <td>PC 17599</td>\n",
              "      <td>71.2833</td>\n",
              "      <td>C85</td>\n",
              "      <td>C</td>\n",
              "      <td>0</td>\n",
              "      <td>Mrs</td>\n",
              "    </tr>\n",
              "    <tr>\n",
              "      <th>3</th>\n",
              "      <td>1</td>\n",
              "      <td>3</td>\n",
              "      <td>Heikkinen, Miss. Laina</td>\n",
              "      <td>female</td>\n",
              "      <td>26.0</td>\n",
              "      <td>0</td>\n",
              "      <td>0</td>\n",
              "      <td>STON/O2. 3101282</td>\n",
              "      <td>7.9250</td>\n",
              "      <td>NaN</td>\n",
              "      <td>S</td>\n",
              "      <td>1</td>\n",
              "      <td>Miss</td>\n",
              "    </tr>\n",
              "  </tbody>\n",
              "</table>\n",
              "</div>"
            ],
            "text/plain": [
              "             Survived  Pclass  ... CabinMissing Title\n",
              "PassengerId                    ...                   \n",
              "1                   0       3  ...            1    Mr\n",
              "2                   1       1  ...            0   Mrs\n",
              "3                   1       3  ...            1  Miss\n",
              "\n",
              "[3 rows x 13 columns]"
            ]
          },
          "metadata": {
            "tags": []
          },
          "execution_count": 103
        }
      ]
    },
    {
      "cell_type": "code",
      "metadata": {
        "id": "WbkjY3gKl3ub"
      },
      "source": [
        "# Mapping the titles into numeric values\n",
        "title_dict_map = {\"Mr\": 1, \"Miss\": 2, \"Mrs\": 3, \"Master\": 4, \"Others\": 5}\n",
        "for dataset in combined_datasets:\n",
        "    dataset['Title'] = dataset['Title'].map(title_dict_map)\n",
        "    dataset['Title'] = dataset['Title'].fillna(0)"
      ],
      "execution_count": 104,
      "outputs": []
    },
    {
      "cell_type": "markdown",
      "metadata": {
        "id": "KclSMmHhnvvP"
      },
      "source": [
        "###Fare Column Manipulation"
      ]
    },
    {
      "cell_type": "code",
      "metadata": {
        "colab": {
          "base_uri": "https://localhost:8080/"
        },
        "id": "0qslepiCYAo_",
        "outputId": "43f0cf4b-c58b-460b-e8d4-1b460fb02b4e"
      },
      "source": [
        "print(df_train.shape)\n",
        "print(df_train[\"Fare\"].unique().shape)"
      ],
      "execution_count": 105,
      "outputs": [
        {
          "output_type": "stream",
          "text": [
            "(891, 13)\n",
            "(248,)\n"
          ],
          "name": "stdout"
        }
      ]
    },
    {
      "cell_type": "code",
      "metadata": {
        "id": "lquFYn7YdhG4"
      },
      "source": [
        "# Filling missing values with 0\n",
        "df_train['Fare'].fillna(0, inplace=True)\n",
        "df_test['Fare'].fillna(0, inplace=True)"
      ],
      "execution_count": 106,
      "outputs": []
    },
    {
      "cell_type": "code",
      "metadata": {
        "colab": {
          "base_uri": "https://localhost:8080/",
          "height": 80
        },
        "id": "B5Ecf2F88hsn",
        "outputId": "e383334b-e29e-44fa-d45b-dd14a5ba803f"
      },
      "source": [
        "df_test[df_test['Fare'].isna()]"
      ],
      "execution_count": 107,
      "outputs": [
        {
          "output_type": "execute_result",
          "data": {
            "text/html": [
              "<div>\n",
              "<style scoped>\n",
              "    .dataframe tbody tr th:only-of-type {\n",
              "        vertical-align: middle;\n",
              "    }\n",
              "\n",
              "    .dataframe tbody tr th {\n",
              "        vertical-align: top;\n",
              "    }\n",
              "\n",
              "    .dataframe thead th {\n",
              "        text-align: right;\n",
              "    }\n",
              "</style>\n",
              "<table border=\"1\" class=\"dataframe\">\n",
              "  <thead>\n",
              "    <tr style=\"text-align: right;\">\n",
              "      <th></th>\n",
              "      <th>Pclass</th>\n",
              "      <th>Name</th>\n",
              "      <th>Sex</th>\n",
              "      <th>Age</th>\n",
              "      <th>SibSp</th>\n",
              "      <th>Parch</th>\n",
              "      <th>Ticket</th>\n",
              "      <th>Fare</th>\n",
              "      <th>Cabin</th>\n",
              "      <th>Embarked</th>\n",
              "      <th>CabinMissing</th>\n",
              "      <th>Title</th>\n",
              "    </tr>\n",
              "    <tr>\n",
              "      <th>PassengerId</th>\n",
              "      <th></th>\n",
              "      <th></th>\n",
              "      <th></th>\n",
              "      <th></th>\n",
              "      <th></th>\n",
              "      <th></th>\n",
              "      <th></th>\n",
              "      <th></th>\n",
              "      <th></th>\n",
              "      <th></th>\n",
              "      <th></th>\n",
              "      <th></th>\n",
              "    </tr>\n",
              "  </thead>\n",
              "  <tbody>\n",
              "  </tbody>\n",
              "</table>\n",
              "</div>"
            ],
            "text/plain": [
              "Empty DataFrame\n",
              "Columns: [Pclass, Name, Sex, Age, SibSp, Parch, Ticket, Fare, Cabin, Embarked, CabinMissing, Title]\n",
              "Index: []"
            ]
          },
          "metadata": {
            "tags": []
          },
          "execution_count": 107
        }
      ]
    },
    {
      "cell_type": "code",
      "metadata": {
        "colab": {
          "base_uri": "https://localhost:8080/"
        },
        "id": "PNu6D7DW4-cE",
        "outputId": "033974c8-cf65-4ccd-8238-c15d1251fa76"
      },
      "source": [
        "df_train['Fare'].describe()"
      ],
      "execution_count": 108,
      "outputs": [
        {
          "output_type": "execute_result",
          "data": {
            "text/plain": [
              "count    891.000000\n",
              "mean      32.204208\n",
              "std       49.693429\n",
              "min        0.000000\n",
              "25%        7.910400\n",
              "50%       14.454200\n",
              "75%       31.000000\n",
              "max      512.329200\n",
              "Name: Fare, dtype: float64"
            ]
          },
          "metadata": {
            "tags": []
          },
          "execution_count": 108
        }
      ]
    },
    {
      "cell_type": "code",
      "metadata": {
        "colab": {
          "base_uri": "https://localhost:8080/"
        },
        "id": "VTEQZ4654cHs",
        "outputId": "e83bedc1-3959-409a-8f2c-0d81aecf9c2a"
      },
      "source": [
        "df_train['Fare'].value_counts()"
      ],
      "execution_count": 109,
      "outputs": [
        {
          "output_type": "execute_result",
          "data": {
            "text/plain": [
              "8.0500     43\n",
              "13.0000    42\n",
              "7.8958     38\n",
              "7.7500     34\n",
              "26.0000    31\n",
              "           ..\n",
              "8.4583      1\n",
              "9.8375      1\n",
              "8.3625      1\n",
              "14.1083     1\n",
              "17.4000     1\n",
              "Name: Fare, Length: 248, dtype: int64"
            ]
          },
          "metadata": {
            "tags": []
          },
          "execution_count": 109
        }
      ]
    },
    {
      "cell_type": "code",
      "metadata": {
        "id": "MVTQvnfyoBCU",
        "colab": {
          "base_uri": "https://localhost:8080/",
          "height": 285
        },
        "outputId": "bb66d68f-f207-49c5-a13e-642bd341134f"
      },
      "source": [
        "sns.histplot(df_test['Fare'].value_counts());"
      ],
      "execution_count": 110,
      "outputs": [
        {
          "output_type": "display_data",
          "data": {
            "image/png": "[encoded data removed]",
            "text/plain": [
              "<Figure size 432x288 with 1 Axes>"
            ]
          },
          "metadata": {
            "tags": [],
            "needs_background": "light"
          }
        }
      ]
    },
    {
      "cell_type": "code",
      "metadata": {
        "id": "hB1-ICf5ofnn",
        "colab": {
          "base_uri": "https://localhost:8080/",
          "height": 369
        },
        "outputId": "5729311e-1bba-4d25-d23e-df0bde12519f"
      },
      "source": [
        "sns.displot(df_train['Fare']);"
      ],
      "execution_count": 111,
      "outputs": [
        {
          "output_type": "display_data",
          "data": {
            "image/png": "[encoded data removed]",
            "text/plain": [
              "<Figure size 360x360 with 1 Axes>"
            ]
          },
          "metadata": {
            "tags": [],
            "needs_background": "light"
          }
        }
      ]
    },
    {
      "cell_type": "markdown",
      "metadata": {
        "id": "zPKt0jTzoqM0"
      },
      "source": [
        "###Embarked Column"
      ]
    },
    {
      "cell_type": "code",
      "metadata": {
        "id": "Ez9cxm-mosI_",
        "colab": {
          "base_uri": "https://localhost:8080/",
          "height": 142
        },
        "outputId": "63ac57e3-85ce-491c-9e9a-1dbaad9a2244"
      },
      "source": [
        "# Checking the rows that have null values in the Embarked column\n",
        "df_train[df_train['Embarked'].isnull()]"
      ],
      "execution_count": 112,
      "outputs": [
        {
          "output_type": "execute_result",
          "data": {
            "text/html": [
              "<div>\n",
              "<style scoped>\n",
              "    .dataframe tbody tr th:only-of-type {\n",
              "        vertical-align: middle;\n",
              "    }\n",
              "\n",
              "    .dataframe tbody tr th {\n",
              "        vertical-align: top;\n",
              "    }\n",
              "\n",
              "    .dataframe thead th {\n",
              "        text-align: right;\n",
              "    }\n",
              "</style>\n",
              "<table border=\"1\" class=\"dataframe\">\n",
              "  <thead>\n",
              "    <tr style=\"text-align: right;\">\n",
              "      <th></th>\n",
              "      <th>Survived</th>\n",
              "      <th>Pclass</th>\n",
              "      <th>Name</th>\n",
              "      <th>Sex</th>\n",
              "      <th>Age</th>\n",
              "      <th>SibSp</th>\n",
              "      <th>Parch</th>\n",
              "      <th>Ticket</th>\n",
              "      <th>Fare</th>\n",
              "      <th>Cabin</th>\n",
              "      <th>Embarked</th>\n",
              "      <th>CabinMissing</th>\n",
              "      <th>Title</th>\n",
              "    </tr>\n",
              "    <tr>\n",
              "      <th>PassengerId</th>\n",
              "      <th></th>\n",
              "      <th></th>\n",
              "      <th></th>\n",
              "      <th></th>\n",
              "      <th></th>\n",
              "      <th></th>\n",
              "      <th></th>\n",
              "      <th></th>\n",
              "      <th></th>\n",
              "      <th></th>\n",
              "      <th></th>\n",
              "      <th></th>\n",
              "      <th></th>\n",
              "    </tr>\n",
              "  </thead>\n",
              "  <tbody>\n",
              "    <tr>\n",
              "      <th>62</th>\n",
              "      <td>1</td>\n",
              "      <td>1</td>\n",
              "      <td>Icard, Miss. Amelie</td>\n",
              "      <td>female</td>\n",
              "      <td>38.0</td>\n",
              "      <td>0</td>\n",
              "      <td>0</td>\n",
              "      <td>113572</td>\n",
              "      <td>80.0</td>\n",
              "      <td>B28</td>\n",
              "      <td>NaN</td>\n",
              "      <td>0</td>\n",
              "      <td>2</td>\n",
              "    </tr>\n",
              "    <tr>\n",
              "      <th>830</th>\n",
              "      <td>1</td>\n",
              "      <td>1</td>\n",
              "      <td>Stone, Mrs. George Nelson (Martha Evelyn)</td>\n",
              "      <td>female</td>\n",
              "      <td>62.0</td>\n",
              "      <td>0</td>\n",
              "      <td>0</td>\n",
              "      <td>113572</td>\n",
              "      <td>80.0</td>\n",
              "      <td>B28</td>\n",
              "      <td>NaN</td>\n",
              "      <td>0</td>\n",
              "      <td>3</td>\n",
              "    </tr>\n",
              "  </tbody>\n",
              "</table>\n",
              "</div>"
            ],
            "text/plain": [
              "             Survived  Pclass  ... CabinMissing Title\n",
              "PassengerId                    ...                   \n",
              "62                  1       1  ...            0     2\n",
              "830                 1       1  ...            0     3\n",
              "\n",
              "[2 rows x 13 columns]"
            ]
          },
          "metadata": {
            "tags": []
          },
          "execution_count": 112
        }
      ]
    },
    {
      "cell_type": "code",
      "metadata": {
        "id": "3eH7bHt5pDLM"
      },
      "source": [
        "# This will be filled with the mode (the most common value)\n",
        "freq_embarked_port = df_train.Embarked.dropna().mode()[0]\n",
        "\n",
        "for dataset in combined_datasets:\n",
        "    dataset['Embarked'] = dataset['Embarked'].fillna(freq_embarked_port)"
      ],
      "execution_count": 113,
      "outputs": []
    },
    {
      "cell_type": "code",
      "metadata": {
        "id": "BjS1lv8PpvcU",
        "colab": {
          "base_uri": "https://localhost:8080/",
          "height": 142
        },
        "outputId": "f7ecafd0-2f94-49bb-bef0-091f8eaf3591"
      },
      "source": [
        "df_train[['Embarked', 'Survived']].groupby(['Embarked'], as_index=False).mean().sort_values(by='Survived', ascending=False)"
      ],
      "execution_count": 114,
      "outputs": [
        {
          "output_type": "execute_result",
          "data": {
            "text/html": [
              "<div>\n",
              "<style scoped>\n",
              "    .dataframe tbody tr th:only-of-type {\n",
              "        vertical-align: middle;\n",
              "    }\n",
              "\n",
              "    .dataframe tbody tr th {\n",
              "        vertical-align: top;\n",
              "    }\n",
              "\n",
              "    .dataframe thead th {\n",
              "        text-align: right;\n",
              "    }\n",
              "</style>\n",
              "<table border=\"1\" class=\"dataframe\">\n",
              "  <thead>\n",
              "    <tr style=\"text-align: right;\">\n",
              "      <th></th>\n",
              "      <th>Embarked</th>\n",
              "      <th>Survived</th>\n",
              "    </tr>\n",
              "  </thead>\n",
              "  <tbody>\n",
              "    <tr>\n",
              "      <th>0</th>\n",
              "      <td>C</td>\n",
              "      <td>0.553571</td>\n",
              "    </tr>\n",
              "    <tr>\n",
              "      <th>1</th>\n",
              "      <td>Q</td>\n",
              "      <td>0.389610</td>\n",
              "    </tr>\n",
              "    <tr>\n",
              "      <th>2</th>\n",
              "      <td>S</td>\n",
              "      <td>0.339009</td>\n",
              "    </tr>\n",
              "  </tbody>\n",
              "</table>\n",
              "</div>"
            ],
            "text/plain": [
              "  Embarked  Survived\n",
              "0        C  0.553571\n",
              "1        Q  0.389610\n",
              "2        S  0.339009"
            ]
          },
          "metadata": {
            "tags": []
          },
          "execution_count": 114
        }
      ]
    },
    {
      "cell_type": "code",
      "metadata": {
        "id": "yH0_4oG8qKNQ"
      },
      "source": [
        "# As it seems that there's a correlation, this column will be kept. Converting to numeric:\n",
        "\n",
        "for dataset in combined_datasets:\n",
        "    dataset['Embarked'] = dataset['Embarked'].map( {'S': 0, 'C': 1, 'Q': 2} ).astype(int)"
      ],
      "execution_count": 115,
      "outputs": []
    },
    {
      "cell_type": "code",
      "metadata": {
        "id": "SaLu7Zz6-qDJ",
        "colab": {
          "base_uri": "https://localhost:8080/",
          "height": 142
        },
        "outputId": "65d4b49d-c443-4d18-d6b0-605788986924"
      },
      "source": [
        "df_train.head(2)"
      ],
      "execution_count": 116,
      "outputs": [
        {
          "output_type": "execute_result",
          "data": {
            "text/html": [
              "<div>\n",
              "<style scoped>\n",
              "    .dataframe tbody tr th:only-of-type {\n",
              "        vertical-align: middle;\n",
              "    }\n",
              "\n",
              "    .dataframe tbody tr th {\n",
              "        vertical-align: top;\n",
              "    }\n",
              "\n",
              "    .dataframe thead th {\n",
              "        text-align: right;\n",
              "    }\n",
              "</style>\n",
              "<table border=\"1\" class=\"dataframe\">\n",
              "  <thead>\n",
              "    <tr style=\"text-align: right;\">\n",
              "      <th></th>\n",
              "      <th>Survived</th>\n",
              "      <th>Pclass</th>\n",
              "      <th>Name</th>\n",
              "      <th>Sex</th>\n",
              "      <th>Age</th>\n",
              "      <th>SibSp</th>\n",
              "      <th>Parch</th>\n",
              "      <th>Ticket</th>\n",
              "      <th>Fare</th>\n",
              "      <th>Cabin</th>\n",
              "      <th>Embarked</th>\n",
              "      <th>CabinMissing</th>\n",
              "      <th>Title</th>\n",
              "    </tr>\n",
              "    <tr>\n",
              "      <th>PassengerId</th>\n",
              "      <th></th>\n",
              "      <th></th>\n",
              "      <th></th>\n",
              "      <th></th>\n",
              "      <th></th>\n",
              "      <th></th>\n",
              "      <th></th>\n",
              "      <th></th>\n",
              "      <th></th>\n",
              "      <th></th>\n",
              "      <th></th>\n",
              "      <th></th>\n",
              "      <th></th>\n",
              "    </tr>\n",
              "  </thead>\n",
              "  <tbody>\n",
              "    <tr>\n",
              "      <th>1</th>\n",
              "      <td>0</td>\n",
              "      <td>3</td>\n",
              "      <td>Braund, Mr. Owen Harris</td>\n",
              "      <td>male</td>\n",
              "      <td>22.0</td>\n",
              "      <td>1</td>\n",
              "      <td>0</td>\n",
              "      <td>A/5 21171</td>\n",
              "      <td>7.2500</td>\n",
              "      <td>NaN</td>\n",
              "      <td>0</td>\n",
              "      <td>1</td>\n",
              "      <td>1</td>\n",
              "    </tr>\n",
              "    <tr>\n",
              "      <th>2</th>\n",
              "      <td>1</td>\n",
              "      <td>1</td>\n",
              "      <td>Cumings, Mrs. John Bradley (Florence Briggs Th...</td>\n",
              "      <td>female</td>\n",
              "      <td>38.0</td>\n",
              "      <td>1</td>\n",
              "      <td>0</td>\n",
              "      <td>PC 17599</td>\n",
              "      <td>71.2833</td>\n",
              "      <td>C85</td>\n",
              "      <td>1</td>\n",
              "      <td>0</td>\n",
              "      <td>3</td>\n",
              "    </tr>\n",
              "  </tbody>\n",
              "</table>\n",
              "</div>"
            ],
            "text/plain": [
              "             Survived  Pclass  ... CabinMissing Title\n",
              "PassengerId                    ...                   \n",
              "1                   0       3  ...            1     1\n",
              "2                   1       1  ...            0     3\n",
              "\n",
              "[2 rows x 13 columns]"
            ]
          },
          "metadata": {
            "tags": []
          },
          "execution_count": 116
        }
      ]
    },
    {
      "cell_type": "code",
      "metadata": {
        "id": "DrX0ajl8-sS3",
        "colab": {
          "base_uri": "https://localhost:8080/",
          "height": 142
        },
        "outputId": "2495c6a0-03ba-4fd1-ceb5-2520184cfa6d"
      },
      "source": [
        "df_test.head(2)"
      ],
      "execution_count": 117,
      "outputs": [
        {
          "output_type": "execute_result",
          "data": {
            "text/html": [
              "<div>\n",
              "<style scoped>\n",
              "    .dataframe tbody tr th:only-of-type {\n",
              "        vertical-align: middle;\n",
              "    }\n",
              "\n",
              "    .dataframe tbody tr th {\n",
              "        vertical-align: top;\n",
              "    }\n",
              "\n",
              "    .dataframe thead th {\n",
              "        text-align: right;\n",
              "    }\n",
              "</style>\n",
              "<table border=\"1\" class=\"dataframe\">\n",
              "  <thead>\n",
              "    <tr style=\"text-align: right;\">\n",
              "      <th></th>\n",
              "      <th>Pclass</th>\n",
              "      <th>Name</th>\n",
              "      <th>Sex</th>\n",
              "      <th>Age</th>\n",
              "      <th>SibSp</th>\n",
              "      <th>Parch</th>\n",
              "      <th>Ticket</th>\n",
              "      <th>Fare</th>\n",
              "      <th>Cabin</th>\n",
              "      <th>Embarked</th>\n",
              "      <th>CabinMissing</th>\n",
              "      <th>Title</th>\n",
              "    </tr>\n",
              "    <tr>\n",
              "      <th>PassengerId</th>\n",
              "      <th></th>\n",
              "      <th></th>\n",
              "      <th></th>\n",
              "      <th></th>\n",
              "      <th></th>\n",
              "      <th></th>\n",
              "      <th></th>\n",
              "      <th></th>\n",
              "      <th></th>\n",
              "      <th></th>\n",
              "      <th></th>\n",
              "      <th></th>\n",
              "    </tr>\n",
              "  </thead>\n",
              "  <tbody>\n",
              "    <tr>\n",
              "      <th>892</th>\n",
              "      <td>3</td>\n",
              "      <td>Kelly, Mr. James</td>\n",
              "      <td>male</td>\n",
              "      <td>34.5</td>\n",
              "      <td>0</td>\n",
              "      <td>0</td>\n",
              "      <td>330911</td>\n",
              "      <td>7.8292</td>\n",
              "      <td>NaN</td>\n",
              "      <td>2</td>\n",
              "      <td>1</td>\n",
              "      <td>1</td>\n",
              "    </tr>\n",
              "    <tr>\n",
              "      <th>893</th>\n",
              "      <td>3</td>\n",
              "      <td>Wilkes, Mrs. James (Ellen Needs)</td>\n",
              "      <td>female</td>\n",
              "      <td>47.0</td>\n",
              "      <td>1</td>\n",
              "      <td>0</td>\n",
              "      <td>363272</td>\n",
              "      <td>7.0000</td>\n",
              "      <td>NaN</td>\n",
              "      <td>0</td>\n",
              "      <td>1</td>\n",
              "      <td>3</td>\n",
              "    </tr>\n",
              "  </tbody>\n",
              "</table>\n",
              "</div>"
            ],
            "text/plain": [
              "             Pclass                              Name  ... CabinMissing  Title\n",
              "PassengerId                                            ...                    \n",
              "892               3                  Kelly, Mr. James  ...            1      1\n",
              "893               3  Wilkes, Mrs. James (Ellen Needs)  ...            1      3\n",
              "\n",
              "[2 rows x 12 columns]"
            ]
          },
          "metadata": {
            "tags": []
          },
          "execution_count": 117
        }
      ]
    },
    {
      "cell_type": "markdown",
      "metadata": {
        "id": "O0AQdK6FqmnK"
      },
      "source": [
        "###Parch and SibSp columns"
      ]
    },
    {
      "cell_type": "code",
      "metadata": {
        "id": "upqBBVsMqo-5"
      },
      "source": [
        "# I'll create a new column (FamilyMembers) to see who is alone and how that correlates to the survival rate\n",
        "for dataset in combined_datasets:\n",
        "    dataset['FamilyMembers'] = dataset['SibSp'] + dataset['Parch'] + 1"
      ],
      "execution_count": 118,
      "outputs": []
    },
    {
      "cell_type": "code",
      "metadata": {
        "id": "JQ4tpCTooLi1",
        "colab": {
          "base_uri": "https://localhost:8080/",
          "height": 328
        },
        "outputId": "35a39c29-027e-4274-cee0-8d33bfaa550c"
      },
      "source": [
        "df_train[['FamilyMembers', 'Survived']].groupby(['FamilyMembers'], as_index=False).mean().sort_values(by='Survived', ascending=False)"
      ],
      "execution_count": 119,
      "outputs": [
        {
          "output_type": "execute_result",
          "data": {
            "text/html": [
              "<div>\n",
              "<style scoped>\n",
              "    .dataframe tbody tr th:only-of-type {\n",
              "        vertical-align: middle;\n",
              "    }\n",
              "\n",
              "    .dataframe tbody tr th {\n",
              "        vertical-align: top;\n",
              "    }\n",
              "\n",
              "    .dataframe thead th {\n",
              "        text-align: right;\n",
              "    }\n",
              "</style>\n",
              "<table border=\"1\" class=\"dataframe\">\n",
              "  <thead>\n",
              "    <tr style=\"text-align: right;\">\n",
              "      <th></th>\n",
              "      <th>FamilyMembers</th>\n",
              "      <th>Survived</th>\n",
              "    </tr>\n",
              "  </thead>\n",
              "  <tbody>\n",
              "    <tr>\n",
              "      <th>3</th>\n",
              "      <td>4</td>\n",
              "      <td>0.724138</td>\n",
              "    </tr>\n",
              "    <tr>\n",
              "      <th>2</th>\n",
              "      <td>3</td>\n",
              "      <td>0.578431</td>\n",
              "    </tr>\n",
              "    <tr>\n",
              "      <th>1</th>\n",
              "      <td>2</td>\n",
              "      <td>0.552795</td>\n",
              "    </tr>\n",
              "    <tr>\n",
              "      <th>6</th>\n",
              "      <td>7</td>\n",
              "      <td>0.333333</td>\n",
              "    </tr>\n",
              "    <tr>\n",
              "      <th>0</th>\n",
              "      <td>1</td>\n",
              "      <td>0.303538</td>\n",
              "    </tr>\n",
              "    <tr>\n",
              "      <th>4</th>\n",
              "      <td>5</td>\n",
              "      <td>0.200000</td>\n",
              "    </tr>\n",
              "    <tr>\n",
              "      <th>5</th>\n",
              "      <td>6</td>\n",
              "      <td>0.136364</td>\n",
              "    </tr>\n",
              "    <tr>\n",
              "      <th>7</th>\n",
              "      <td>8</td>\n",
              "      <td>0.000000</td>\n",
              "    </tr>\n",
              "    <tr>\n",
              "      <th>8</th>\n",
              "      <td>11</td>\n",
              "      <td>0.000000</td>\n",
              "    </tr>\n",
              "  </tbody>\n",
              "</table>\n",
              "</div>"
            ],
            "text/plain": [
              "   FamilyMembers  Survived\n",
              "3              4  0.724138\n",
              "2              3  0.578431\n",
              "1              2  0.552795\n",
              "6              7  0.333333\n",
              "0              1  0.303538\n",
              "4              5  0.200000\n",
              "5              6  0.136364\n",
              "7              8  0.000000\n",
              "8             11  0.000000"
            ]
          },
          "metadata": {
            "tags": []
          },
          "execution_count": 119
        }
      ]
    },
    {
      "cell_type": "code",
      "metadata": {
        "id": "_t0k8X6WoWAM"
      },
      "source": [
        "# Simplifying it creating a column \"IsAlone\"for dataset in combine:\n",
        "for dataset in combined_datasets:\n",
        "    dataset['IsAlone'] = 0\n",
        "    dataset.loc[dataset['FamilyMembers'] == 1, 'IsAlone'] = 1"
      ],
      "execution_count": 120,
      "outputs": []
    },
    {
      "cell_type": "code",
      "metadata": {
        "id": "k_Ce_kazolRf",
        "colab": {
          "base_uri": "https://localhost:8080/",
          "height": 111
        },
        "outputId": "36d17439-cd74-462e-ffc0-1913d967e960"
      },
      "source": [
        "df_train[['IsAlone', 'Survived']].groupby(['IsAlone'], as_index=False).mean()"
      ],
      "execution_count": 121,
      "outputs": [
        {
          "output_type": "execute_result",
          "data": {
            "text/html": [
              "<div>\n",
              "<style scoped>\n",
              "    .dataframe tbody tr th:only-of-type {\n",
              "        vertical-align: middle;\n",
              "    }\n",
              "\n",
              "    .dataframe tbody tr th {\n",
              "        vertical-align: top;\n",
              "    }\n",
              "\n",
              "    .dataframe thead th {\n",
              "        text-align: right;\n",
              "    }\n",
              "</style>\n",
              "<table border=\"1\" class=\"dataframe\">\n",
              "  <thead>\n",
              "    <tr style=\"text-align: right;\">\n",
              "      <th></th>\n",
              "      <th>IsAlone</th>\n",
              "      <th>Survived</th>\n",
              "    </tr>\n",
              "  </thead>\n",
              "  <tbody>\n",
              "    <tr>\n",
              "      <th>0</th>\n",
              "      <td>0</td>\n",
              "      <td>0.505650</td>\n",
              "    </tr>\n",
              "    <tr>\n",
              "      <th>1</th>\n",
              "      <td>1</td>\n",
              "      <td>0.303538</td>\n",
              "    </tr>\n",
              "  </tbody>\n",
              "</table>\n",
              "</div>"
            ],
            "text/plain": [
              "   IsAlone  Survived\n",
              "0        0  0.505650\n",
              "1        1  0.303538"
            ]
          },
          "metadata": {
            "tags": []
          },
          "execution_count": 121
        }
      ]
    },
    {
      "cell_type": "markdown",
      "metadata": {
        "id": "nuNMphdTpP9i"
      },
      "source": [
        "###Sex Column"
      ]
    },
    {
      "cell_type": "code",
      "metadata": {
        "id": "jN-CrYBcpRUr",
        "colab": {
          "base_uri": "https://localhost:8080/",
          "height": 111
        },
        "outputId": "ea17f64c-643b-4059-9a5b-60826e3e3ce5"
      },
      "source": [
        "df_train[['Sex', 'Survived']].groupby(['Sex'], as_index=False).mean()"
      ],
      "execution_count": 122,
      "outputs": [
        {
          "output_type": "execute_result",
          "data": {
            "text/html": [
              "<div>\n",
              "<style scoped>\n",
              "    .dataframe tbody tr th:only-of-type {\n",
              "        vertical-align: middle;\n",
              "    }\n",
              "\n",
              "    .dataframe tbody tr th {\n",
              "        vertical-align: top;\n",
              "    }\n",
              "\n",
              "    .dataframe thead th {\n",
              "        text-align: right;\n",
              "    }\n",
              "</style>\n",
              "<table border=\"1\" class=\"dataframe\">\n",
              "  <thead>\n",
              "    <tr style=\"text-align: right;\">\n",
              "      <th></th>\n",
              "      <th>Sex</th>\n",
              "      <th>Survived</th>\n",
              "    </tr>\n",
              "  </thead>\n",
              "  <tbody>\n",
              "    <tr>\n",
              "      <th>0</th>\n",
              "      <td>female</td>\n",
              "      <td>0.742038</td>\n",
              "    </tr>\n",
              "    <tr>\n",
              "      <th>1</th>\n",
              "      <td>male</td>\n",
              "      <td>0.188908</td>\n",
              "    </tr>\n",
              "  </tbody>\n",
              "</table>\n",
              "</div>"
            ],
            "text/plain": [
              "      Sex  Survived\n",
              "0  female  0.742038\n",
              "1    male  0.188908"
            ]
          },
          "metadata": {
            "tags": []
          },
          "execution_count": 122
        }
      ]
    },
    {
      "cell_type": "code",
      "metadata": {
        "id": "Pi_cOnx1pXzX"
      },
      "source": [
        "#The correlation is strong. So I'll map into numeric values to use it in the ML algorithm\n",
        "for dataset in combined_datasets:\n",
        "    dataset['Sex'] = dataset['Sex'].map( {'female': 1, 'male': 0} ).astype(int)"
      ],
      "execution_count": 123,
      "outputs": []
    },
    {
      "cell_type": "code",
      "metadata": {
        "id": "4HSPorAFpii5",
        "colab": {
          "base_uri": "https://localhost:8080/",
          "height": 176
        },
        "outputId": "c27886bc-b171-4cfb-ed1f-2404e3c99f5b"
      },
      "source": [
        "df_train.head(2)"
      ],
      "execution_count": 124,
      "outputs": [
        {
          "output_type": "execute_result",
          "data": {
            "text/html": [
              "<div>\n",
              "<style scoped>\n",
              "    .dataframe tbody tr th:only-of-type {\n",
              "        vertical-align: middle;\n",
              "    }\n",
              "\n",
              "    .dataframe tbody tr th {\n",
              "        vertical-align: top;\n",
              "    }\n",
              "\n",
              "    .dataframe thead th {\n",
              "        text-align: right;\n",
              "    }\n",
              "</style>\n",
              "<table border=\"1\" class=\"dataframe\">\n",
              "  <thead>\n",
              "    <tr style=\"text-align: right;\">\n",
              "      <th></th>\n",
              "      <th>Survived</th>\n",
              "      <th>Pclass</th>\n",
              "      <th>Name</th>\n",
              "      <th>Sex</th>\n",
              "      <th>Age</th>\n",
              "      <th>SibSp</th>\n",
              "      <th>Parch</th>\n",
              "      <th>Ticket</th>\n",
              "      <th>Fare</th>\n",
              "      <th>Cabin</th>\n",
              "      <th>Embarked</th>\n",
              "      <th>CabinMissing</th>\n",
              "      <th>Title</th>\n",
              "      <th>FamilyMembers</th>\n",
              "      <th>IsAlone</th>\n",
              "    </tr>\n",
              "    <tr>\n",
              "      <th>PassengerId</th>\n",
              "      <th></th>\n",
              "      <th></th>\n",
              "      <th></th>\n",
              "      <th></th>\n",
              "      <th></th>\n",
              "      <th></th>\n",
              "      <th></th>\n",
              "      <th></th>\n",
              "      <th></th>\n",
              "      <th></th>\n",
              "      <th></th>\n",
              "      <th></th>\n",
              "      <th></th>\n",
              "      <th></th>\n",
              "      <th></th>\n",
              "    </tr>\n",
              "  </thead>\n",
              "  <tbody>\n",
              "    <tr>\n",
              "      <th>1</th>\n",
              "      <td>0</td>\n",
              "      <td>3</td>\n",
              "      <td>Braund, Mr. Owen Harris</td>\n",
              "      <td>0</td>\n",
              "      <td>22.0</td>\n",
              "      <td>1</td>\n",
              "      <td>0</td>\n",
              "      <td>A/5 21171</td>\n",
              "      <td>7.2500</td>\n",
              "      <td>NaN</td>\n",
              "      <td>0</td>\n",
              "      <td>1</td>\n",
              "      <td>1</td>\n",
              "      <td>2</td>\n",
              "      <td>0</td>\n",
              "    </tr>\n",
              "    <tr>\n",
              "      <th>2</th>\n",
              "      <td>1</td>\n",
              "      <td>1</td>\n",
              "      <td>Cumings, Mrs. John Bradley (Florence Briggs Th...</td>\n",
              "      <td>1</td>\n",
              "      <td>38.0</td>\n",
              "      <td>1</td>\n",
              "      <td>0</td>\n",
              "      <td>PC 17599</td>\n",
              "      <td>71.2833</td>\n",
              "      <td>C85</td>\n",
              "      <td>1</td>\n",
              "      <td>0</td>\n",
              "      <td>3</td>\n",
              "      <td>2</td>\n",
              "      <td>0</td>\n",
              "    </tr>\n",
              "  </tbody>\n",
              "</table>\n",
              "</div>"
            ],
            "text/plain": [
              "             Survived  Pclass  ... FamilyMembers  IsAlone\n",
              "PassengerId                    ...                       \n",
              "1                   0       3  ...             2        0\n",
              "2                   1       1  ...             2        0\n",
              "\n",
              "[2 rows x 15 columns]"
            ]
          },
          "metadata": {
            "tags": []
          },
          "execution_count": 124
        }
      ]
    },
    {
      "cell_type": "code",
      "metadata": {
        "id": "uySGt3tFpkBy",
        "colab": {
          "base_uri": "https://localhost:8080/",
          "height": 142
        },
        "outputId": "f46c2ceb-ff80-43d7-b60a-88b66ad5a401"
      },
      "source": [
        "df_test.head(2)"
      ],
      "execution_count": 125,
      "outputs": [
        {
          "output_type": "execute_result",
          "data": {
            "text/html": [
              "<div>\n",
              "<style scoped>\n",
              "    .dataframe tbody tr th:only-of-type {\n",
              "        vertical-align: middle;\n",
              "    }\n",
              "\n",
              "    .dataframe tbody tr th {\n",
              "        vertical-align: top;\n",
              "    }\n",
              "\n",
              "    .dataframe thead th {\n",
              "        text-align: right;\n",
              "    }\n",
              "</style>\n",
              "<table border=\"1\" class=\"dataframe\">\n",
              "  <thead>\n",
              "    <tr style=\"text-align: right;\">\n",
              "      <th></th>\n",
              "      <th>Pclass</th>\n",
              "      <th>Name</th>\n",
              "      <th>Sex</th>\n",
              "      <th>Age</th>\n",
              "      <th>SibSp</th>\n",
              "      <th>Parch</th>\n",
              "      <th>Ticket</th>\n",
              "      <th>Fare</th>\n",
              "      <th>Cabin</th>\n",
              "      <th>Embarked</th>\n",
              "      <th>CabinMissing</th>\n",
              "      <th>Title</th>\n",
              "      <th>FamilyMembers</th>\n",
              "      <th>IsAlone</th>\n",
              "    </tr>\n",
              "    <tr>\n",
              "      <th>PassengerId</th>\n",
              "      <th></th>\n",
              "      <th></th>\n",
              "      <th></th>\n",
              "      <th></th>\n",
              "      <th></th>\n",
              "      <th></th>\n",
              "      <th></th>\n",
              "      <th></th>\n",
              "      <th></th>\n",
              "      <th></th>\n",
              "      <th></th>\n",
              "      <th></th>\n",
              "      <th></th>\n",
              "      <th></th>\n",
              "    </tr>\n",
              "  </thead>\n",
              "  <tbody>\n",
              "    <tr>\n",
              "      <th>892</th>\n",
              "      <td>3</td>\n",
              "      <td>Kelly, Mr. James</td>\n",
              "      <td>0</td>\n",
              "      <td>34.5</td>\n",
              "      <td>0</td>\n",
              "      <td>0</td>\n",
              "      <td>330911</td>\n",
              "      <td>7.8292</td>\n",
              "      <td>NaN</td>\n",
              "      <td>2</td>\n",
              "      <td>1</td>\n",
              "      <td>1</td>\n",
              "      <td>1</td>\n",
              "      <td>1</td>\n",
              "    </tr>\n",
              "    <tr>\n",
              "      <th>893</th>\n",
              "      <td>3</td>\n",
              "      <td>Wilkes, Mrs. James (Ellen Needs)</td>\n",
              "      <td>1</td>\n",
              "      <td>47.0</td>\n",
              "      <td>1</td>\n",
              "      <td>0</td>\n",
              "      <td>363272</td>\n",
              "      <td>7.0000</td>\n",
              "      <td>NaN</td>\n",
              "      <td>0</td>\n",
              "      <td>1</td>\n",
              "      <td>3</td>\n",
              "      <td>2</td>\n",
              "      <td>0</td>\n",
              "    </tr>\n",
              "  </tbody>\n",
              "</table>\n",
              "</div>"
            ],
            "text/plain": [
              "             Pclass                              Name  ...  FamilyMembers  IsAlone\n",
              "PassengerId                                            ...                        \n",
              "892               3                  Kelly, Mr. James  ...              1        1\n",
              "893               3  Wilkes, Mrs. James (Ellen Needs)  ...              2        0\n",
              "\n",
              "[2 rows x 14 columns]"
            ]
          },
          "metadata": {
            "tags": []
          },
          "execution_count": 125
        }
      ]
    },
    {
      "cell_type": "markdown",
      "metadata": {
        "id": "_cJwf_nc3QEH"
      },
      "source": [
        "###Filling Missing Values in Age Column"
      ]
    },
    {
      "cell_type": "code",
      "metadata": {
        "id": "1gXEF_-Pp2Dk",
        "colab": {
          "base_uri": "https://localhost:8080/",
          "height": 369
        },
        "outputId": "d710080a-0deb-49ec-b31f-1e52335c88f3"
      },
      "source": [
        "sns.displot(df_train['Age']);"
      ],
      "execution_count": 126,
      "outputs": [
        {
          "output_type": "display_data",
          "data": {
            "image/png": "[encoded data removed]",
            "text/plain": [
              "<Figure size 360x360 with 1 Axes>"
            ]
          },
          "metadata": {
            "tags": [],
            "needs_background": "light"
          }
        }
      ]
    },
    {
      "cell_type": "code",
      "metadata": {
        "id": "RshkAVnl4sK9"
      },
      "source": [
        "df_train['Age'].fillna(-1, inplace=True)\n",
        "df_test['Age'].fillna(-1, inplace=True)"
      ],
      "execution_count": 127,
      "outputs": []
    },
    {
      "cell_type": "code",
      "metadata": {
        "colab": {
          "base_uri": "https://localhost:8080/",
          "height": 369
        },
        "id": "_t9h-iQ49Gco",
        "outputId": "8ae9845f-ec3a-4b3d-92bc-23cf90cba273"
      },
      "source": [
        "sns.displot(df_train['Age']);"
      ],
      "execution_count": 128,
      "outputs": [
        {
          "output_type": "display_data",
          "data": {
            "image/png": "[encoded data removed]",
            "text/plain": [
              "<Figure size 360x360 with 1 Axes>"
            ]
          },
          "metadata": {
            "tags": [],
            "needs_background": "light"
          }
        }
      ]
    },
    {
      "cell_type": "code",
      "metadata": {
        "id": "UogKYGaVsHHI",
        "colab": {
          "base_uri": "https://localhost:8080/"
        },
        "outputId": "f35a7551-eb07-4207-e99e-a74ea170414b"
      },
      "source": [
        "df_train.isnull().sum().sort_values(ascending=False)"
      ],
      "execution_count": 129,
      "outputs": [
        {
          "output_type": "execute_result",
          "data": {
            "text/plain": [
              "Cabin            687\n",
              "IsAlone            0\n",
              "FamilyMembers      0\n",
              "Title              0\n",
              "CabinMissing       0\n",
              "Embarked           0\n",
              "Fare               0\n",
              "Ticket             0\n",
              "Parch              0\n",
              "SibSp              0\n",
              "Age                0\n",
              "Sex                0\n",
              "Name               0\n",
              "Pclass             0\n",
              "Survived           0\n",
              "dtype: int64"
            ]
          },
          "metadata": {
            "tags": []
          },
          "execution_count": 129
        }
      ]
    },
    {
      "cell_type": "code",
      "metadata": {
        "id": "WHURQvinsBxI",
        "colab": {
          "base_uri": "https://localhost:8080/"
        },
        "outputId": "97889230-348e-4fc2-b335-06d3b738a603"
      },
      "source": [
        "df_test.isnull().sum().sort_values(ascending=False)"
      ],
      "execution_count": 130,
      "outputs": [
        {
          "output_type": "execute_result",
          "data": {
            "text/plain": [
              "Cabin            327\n",
              "IsAlone            0\n",
              "FamilyMembers      0\n",
              "Title              0\n",
              "CabinMissing       0\n",
              "Embarked           0\n",
              "Fare               0\n",
              "Ticket             0\n",
              "Parch              0\n",
              "SibSp              0\n",
              "Age                0\n",
              "Sex                0\n",
              "Name               0\n",
              "Pclass             0\n",
              "dtype: int64"
            ]
          },
          "metadata": {
            "tags": []
          },
          "execution_count": 130
        }
      ]
    },
    {
      "cell_type": "markdown",
      "metadata": {
        "id": "35BvMZzxi1O5"
      },
      "source": [
        "###Analysing Correlation"
      ]
    },
    {
      "cell_type": "code",
      "metadata": {
        "id": "7g37bY1AsWNQ",
        "colab": {
          "base_uri": "https://localhost:8080/",
          "height": 947
        },
        "outputId": "51153a5d-f757-409e-af21-e5e4c0f72a78"
      },
      "source": [
        "#Analysing the correlation of features again\n",
        "\n",
        "mat2 = df_train.corr()\n",
        "fig, ax = plt.subplots(figsize = (15,15))\n",
        "sns.heatmap(mat2, annot = True, annot_kws={'size': 12});"
      ],
      "execution_count": 131,
      "outputs": [
        {
          "output_type": "display_data",
          "data": {
            "image/png": "[encoded data removed]",
            "text/plain": [
              "<Figure size 1080x1080 with 2 Axes>"
            ]
          },
          "metadata": {
            "tags": [],
            "needs_background": "light"
          }
        }
      ]
    },
    {
      "cell_type": "markdown",
      "metadata": {
        "id": "PLvDhzykAJz5"
      },
      "source": [
        "* -1: Missing\r\n",
        "* 1: Child (0-12 years)\r\n",
        "* 2: Adolescence (13-18 years)\r\n",
        "* 3: Adult (19-59 years)\r\n",
        "* 4: Senior Adult (60 years and above)"
      ]
    },
    {
      "cell_type": "code",
      "metadata": {
        "id": "PaBXiFat-3Z3"
      },
      "source": [
        "def age_group(value):\r\n",
        "    if value == -1:\r\n",
        "        return -1   # missing value\r\n",
        "    if value >= 0 and value <= 12:\r\n",
        "        return 1    # child \r\n",
        "    if value > 12 and value <= 18:\r\n",
        "        return 2    # adolescent\r\n",
        "    if value > 18 and value <= 59:\r\n",
        "        return 3    # adult\r\n",
        "    if value > 59:\r\n",
        "        return 4    # senior"
      ],
      "execution_count": 132,
      "outputs": []
    },
    {
      "cell_type": "code",
      "metadata": {
        "id": "dRNsGfJWCLgn"
      },
      "source": [
        "df_train['Age Group'] = df_train['Age'].map(age_group)\r\n",
        "df_test['Age Group'] = df_test['Age'].map(age_group)"
      ],
      "execution_count": 133,
      "outputs": []
    },
    {
      "cell_type": "code",
      "metadata": {
        "colab": {
          "base_uri": "https://localhost:8080/",
          "height": 210
        },
        "id": "0iQCEDSfCapC",
        "outputId": "f52a0f8b-a69c-4da7-b33d-51e873ad0eba"
      },
      "source": [
        "df_train.head(2)"
      ],
      "execution_count": 134,
      "outputs": [
        {
          "output_type": "execute_result",
          "data": {
            "text/html": [
              "<div>\n",
              "<style scoped>\n",
              "    .dataframe tbody tr th:only-of-type {\n",
              "        vertical-align: middle;\n",
              "    }\n",
              "\n",
              "    .dataframe tbody tr th {\n",
              "        vertical-align: top;\n",
              "    }\n",
              "\n",
              "    .dataframe thead th {\n",
              "        text-align: right;\n",
              "    }\n",
              "</style>\n",
              "<table border=\"1\" class=\"dataframe\">\n",
              "  <thead>\n",
              "    <tr style=\"text-align: right;\">\n",
              "      <th></th>\n",
              "      <th>Survived</th>\n",
              "      <th>Pclass</th>\n",
              "      <th>Name</th>\n",
              "      <th>Sex</th>\n",
              "      <th>Age</th>\n",
              "      <th>SibSp</th>\n",
              "      <th>Parch</th>\n",
              "      <th>Ticket</th>\n",
              "      <th>Fare</th>\n",
              "      <th>Cabin</th>\n",
              "      <th>Embarked</th>\n",
              "      <th>CabinMissing</th>\n",
              "      <th>Title</th>\n",
              "      <th>FamilyMembers</th>\n",
              "      <th>IsAlone</th>\n",
              "      <th>Age Group</th>\n",
              "    </tr>\n",
              "    <tr>\n",
              "      <th>PassengerId</th>\n",
              "      <th></th>\n",
              "      <th></th>\n",
              "      <th></th>\n",
              "      <th></th>\n",
              "      <th></th>\n",
              "      <th></th>\n",
              "      <th></th>\n",
              "      <th></th>\n",
              "      <th></th>\n",
              "      <th></th>\n",
              "      <th></th>\n",
              "      <th></th>\n",
              "      <th></th>\n",
              "      <th></th>\n",
              "      <th></th>\n",
              "      <th></th>\n",
              "    </tr>\n",
              "  </thead>\n",
              "  <tbody>\n",
              "    <tr>\n",
              "      <th>1</th>\n",
              "      <td>0</td>\n",
              "      <td>3</td>\n",
              "      <td>Braund, Mr. Owen Harris</td>\n",
              "      <td>0</td>\n",
              "      <td>22.0</td>\n",
              "      <td>1</td>\n",
              "      <td>0</td>\n",
              "      <td>A/5 21171</td>\n",
              "      <td>7.2500</td>\n",
              "      <td>NaN</td>\n",
              "      <td>0</td>\n",
              "      <td>1</td>\n",
              "      <td>1</td>\n",
              "      <td>2</td>\n",
              "      <td>0</td>\n",
              "      <td>3</td>\n",
              "    </tr>\n",
              "    <tr>\n",
              "      <th>2</th>\n",
              "      <td>1</td>\n",
              "      <td>1</td>\n",
              "      <td>Cumings, Mrs. John Bradley (Florence Briggs Th...</td>\n",
              "      <td>1</td>\n",
              "      <td>38.0</td>\n",
              "      <td>1</td>\n",
              "      <td>0</td>\n",
              "      <td>PC 17599</td>\n",
              "      <td>71.2833</td>\n",
              "      <td>C85</td>\n",
              "      <td>1</td>\n",
              "      <td>0</td>\n",
              "      <td>3</td>\n",
              "      <td>2</td>\n",
              "      <td>0</td>\n",
              "      <td>3</td>\n",
              "    </tr>\n",
              "  </tbody>\n",
              "</table>\n",
              "</div>"
            ],
            "text/plain": [
              "             Survived  Pclass  ... IsAlone  Age Group\n",
              "PassengerId                    ...                   \n",
              "1                   0       3  ...       0          3\n",
              "2                   1       1  ...       0          3\n",
              "\n",
              "[2 rows x 16 columns]"
            ]
          },
          "metadata": {
            "tags": []
          },
          "execution_count": 134
        }
      ]
    },
    {
      "cell_type": "code",
      "metadata": {
        "colab": {
          "base_uri": "https://localhost:8080/",
          "height": 947
        },
        "id": "f4PO35PTCaQ4",
        "outputId": "3384f378-cef6-4b7f-c357-5d6e5d99dd45"
      },
      "source": [
        "#Analysing the correlation of features again\r\n",
        "\r\n",
        "mat2 = df_train.corr()\r\n",
        "fig, ax = plt.subplots(figsize = (15,15))\r\n",
        "sns.heatmap(mat2, annot = True, annot_kws={'size': 12});"
      ],
      "execution_count": 135,
      "outputs": [
        {
          "output_type": "display_data",
          "data": {
            "image/png": "[encoded data removed]",
            "text/plain": [
              "<Figure size 1080x1080 with 2 Axes>"
            ]
          },
          "metadata": {
            "tags": [],
            "needs_background": "light"
          }
        }
      ]
    },
    {
      "cell_type": "markdown",
      "metadata": {
        "id": "CfbBVJo9sMBH"
      },
      "source": [
        "###Dropping columns"
      ]
    },
    {
      "cell_type": "code",
      "metadata": {
        "id": "zJllcfTRsLLk"
      },
      "source": [
        "columns_to_drop = ['FamilyMembers', 'Ticket', 'Parch', 'SibSp', 'Name', 'Cabin']"
      ],
      "execution_count": 136,
      "outputs": []
    },
    {
      "cell_type": "code",
      "metadata": {
        "id": "AI-0yAR_s8Vf"
      },
      "source": [
        "for dataset in combined_datasets:\n",
        "    dataset.drop(columns=columns_to_drop, inplace=True)"
      ],
      "execution_count": 137,
      "outputs": []
    },
    {
      "cell_type": "code",
      "metadata": {
        "id": "xrKeablAtFVP",
        "colab": {
          "base_uri": "https://localhost:8080/",
          "height": 142
        },
        "outputId": "499dbe8d-f36a-49ca-dd39-b70cbc1cc6ce"
      },
      "source": [
        "df_train.head(2)"
      ],
      "execution_count": 138,
      "outputs": [
        {
          "output_type": "execute_result",
          "data": {
            "text/html": [
              "<div>\n",
              "<style scoped>\n",
              "    .dataframe tbody tr th:only-of-type {\n",
              "        vertical-align: middle;\n",
              "    }\n",
              "\n",
              "    .dataframe tbody tr th {\n",
              "        vertical-align: top;\n",
              "    }\n",
              "\n",
              "    .dataframe thead th {\n",
              "        text-align: right;\n",
              "    }\n",
              "</style>\n",
              "<table border=\"1\" class=\"dataframe\">\n",
              "  <thead>\n",
              "    <tr style=\"text-align: right;\">\n",
              "      <th></th>\n",
              "      <th>Survived</th>\n",
              "      <th>Pclass</th>\n",
              "      <th>Sex</th>\n",
              "      <th>Age</th>\n",
              "      <th>Fare</th>\n",
              "      <th>Embarked</th>\n",
              "      <th>CabinMissing</th>\n",
              "      <th>Title</th>\n",
              "      <th>IsAlone</th>\n",
              "      <th>Age Group</th>\n",
              "    </tr>\n",
              "    <tr>\n",
              "      <th>PassengerId</th>\n",
              "      <th></th>\n",
              "      <th></th>\n",
              "      <th></th>\n",
              "      <th></th>\n",
              "      <th></th>\n",
              "      <th></th>\n",
              "      <th></th>\n",
              "      <th></th>\n",
              "      <th></th>\n",
              "      <th></th>\n",
              "    </tr>\n",
              "  </thead>\n",
              "  <tbody>\n",
              "    <tr>\n",
              "      <th>1</th>\n",
              "      <td>0</td>\n",
              "      <td>3</td>\n",
              "      <td>0</td>\n",
              "      <td>22.0</td>\n",
              "      <td>7.2500</td>\n",
              "      <td>0</td>\n",
              "      <td>1</td>\n",
              "      <td>1</td>\n",
              "      <td>0</td>\n",
              "      <td>3</td>\n",
              "    </tr>\n",
              "    <tr>\n",
              "      <th>2</th>\n",
              "      <td>1</td>\n",
              "      <td>1</td>\n",
              "      <td>1</td>\n",
              "      <td>38.0</td>\n",
              "      <td>71.2833</td>\n",
              "      <td>1</td>\n",
              "      <td>0</td>\n",
              "      <td>3</td>\n",
              "      <td>0</td>\n",
              "      <td>3</td>\n",
              "    </tr>\n",
              "  </tbody>\n",
              "</table>\n",
              "</div>"
            ],
            "text/plain": [
              "             Survived  Pclass  Sex  ...  Title  IsAlone  Age Group\n",
              "PassengerId                         ...                           \n",
              "1                   0       3    0  ...      1        0          3\n",
              "2                   1       1    1  ...      3        0          3\n",
              "\n",
              "[2 rows x 10 columns]"
            ]
          },
          "metadata": {
            "tags": []
          },
          "execution_count": 138
        }
      ]
    },
    {
      "cell_type": "code",
      "metadata": {
        "id": "K84Ib5hytGvP",
        "colab": {
          "base_uri": "https://localhost:8080/",
          "height": 142
        },
        "outputId": "9f0e1446-688c-4e8e-9f6f-33d627449269"
      },
      "source": [
        "df_test.head(2)"
      ],
      "execution_count": 139,
      "outputs": [
        {
          "output_type": "execute_result",
          "data": {
            "text/html": [
              "<div>\n",
              "<style scoped>\n",
              "    .dataframe tbody tr th:only-of-type {\n",
              "        vertical-align: middle;\n",
              "    }\n",
              "\n",
              "    .dataframe tbody tr th {\n",
              "        vertical-align: top;\n",
              "    }\n",
              "\n",
              "    .dataframe thead th {\n",
              "        text-align: right;\n",
              "    }\n",
              "</style>\n",
              "<table border=\"1\" class=\"dataframe\">\n",
              "  <thead>\n",
              "    <tr style=\"text-align: right;\">\n",
              "      <th></th>\n",
              "      <th>Pclass</th>\n",
              "      <th>Sex</th>\n",
              "      <th>Age</th>\n",
              "      <th>Fare</th>\n",
              "      <th>Embarked</th>\n",
              "      <th>CabinMissing</th>\n",
              "      <th>Title</th>\n",
              "      <th>IsAlone</th>\n",
              "      <th>Age Group</th>\n",
              "    </tr>\n",
              "    <tr>\n",
              "      <th>PassengerId</th>\n",
              "      <th></th>\n",
              "      <th></th>\n",
              "      <th></th>\n",
              "      <th></th>\n",
              "      <th></th>\n",
              "      <th></th>\n",
              "      <th></th>\n",
              "      <th></th>\n",
              "      <th></th>\n",
              "    </tr>\n",
              "  </thead>\n",
              "  <tbody>\n",
              "    <tr>\n",
              "      <th>892</th>\n",
              "      <td>3</td>\n",
              "      <td>0</td>\n",
              "      <td>34.5</td>\n",
              "      <td>7.8292</td>\n",
              "      <td>2</td>\n",
              "      <td>1</td>\n",
              "      <td>1</td>\n",
              "      <td>1</td>\n",
              "      <td>3</td>\n",
              "    </tr>\n",
              "    <tr>\n",
              "      <th>893</th>\n",
              "      <td>3</td>\n",
              "      <td>1</td>\n",
              "      <td>47.0</td>\n",
              "      <td>7.0000</td>\n",
              "      <td>0</td>\n",
              "      <td>1</td>\n",
              "      <td>3</td>\n",
              "      <td>0</td>\n",
              "      <td>3</td>\n",
              "    </tr>\n",
              "  </tbody>\n",
              "</table>\n",
              "</div>"
            ],
            "text/plain": [
              "             Pclass  Sex   Age    Fare  ...  CabinMissing  Title  IsAlone  Age Group\n",
              "PassengerId                             ...                                         \n",
              "892               3    0  34.5  7.8292  ...             1      1        1          3\n",
              "893               3    1  47.0  7.0000  ...             1      3        0          3\n",
              "\n",
              "[2 rows x 9 columns]"
            ]
          },
          "metadata": {
            "tags": []
          },
          "execution_count": 139
        }
      ]
    },
    {
      "cell_type": "markdown",
      "metadata": {
        "id": "LS0Leca_E-oR"
      },
      "source": [
        "###Creating dataframes with normalized values"
      ]
    },
    {
      "cell_type": "code",
      "metadata": {
        "colab": {
          "base_uri": "https://localhost:8080/"
        },
        "id": "gvFuS_H5oVES",
        "outputId": "a204eade-ba07-4e90-c5ca-bd54f1a4b645"
      },
      "source": [
        "df_train.mean()"
      ],
      "execution_count": 140,
      "outputs": [
        {
          "output_type": "execute_result",
          "data": {
            "text/plain": [
              "Survived         0.383838\n",
              "Pclass           2.308642\n",
              "Sex              0.352413\n",
              "Age             23.600640\n",
              "Fare            32.204208\n",
              "Embarked         0.361392\n",
              "CabinMissing     0.771044\n",
              "Title            1.728395\n",
              "IsAlone          0.602694\n",
              "Age Group        2.001122\n",
              "dtype: float64"
            ]
          },
          "metadata": {
            "tags": []
          },
          "execution_count": 140
        }
      ]
    },
    {
      "cell_type": "code",
      "metadata": {
        "id": "r4vrxFNjE-SQ"
      },
      "source": [
        "def normalize_df(df_train, df_test):\r\n",
        "    df_train_norm = df_train.copy()\r\n",
        "    df_test_norm = df_test.copy()\r\n",
        "\r\n",
        "    ### Min-Max Scale\r\n",
        "    \"\"\"min = df_train.min()\r\n",
        "    max = df_train.max()\r\n",
        "\r\n",
        "    df_train_norm = (df_train - min) / (max - min)\r\n",
        "    df_test_norm = (df_test - min.drop(\"Survived\")) / (max.drop(\"Survived\") - min.drop(\"Survived\"))\"\"\"\r\n",
        "\r\n",
        "    ### Normalization\r\n",
        "    mean = df_train.mean()\r\n",
        "    std = df_train.std()\r\n",
        "\r\n",
        "    df_train_norm = (df_train - mean) / (df_train - std)\r\n",
        "    df_test_norm = (df_test - mean.drop(\"Survived\")) / (df_test - std.drop(\"Survived\"))\r\n",
        "\r\n",
        "\r\n",
        "    return df_train_norm, df_test_norm"
      ],
      "execution_count": 141,
      "outputs": []
    },
    {
      "cell_type": "code",
      "metadata": {
        "id": "G4xcsbbeGQWk"
      },
      "source": [
        "df_train_norm, df_test_norm = normalize_df(df_train, df_test)"
      ],
      "execution_count": 142,
      "outputs": []
    },
    {
      "cell_type": "code",
      "metadata": {
        "colab": {
          "base_uri": "https://localhost:8080/",
          "height": 142
        },
        "id": "E-AzpcudGW6G",
        "outputId": "a253a607-45e2-44fb-bb0f-b2fdb5c173a4"
      },
      "source": [
        "df_train_norm.head(2)"
      ],
      "execution_count": 143,
      "outputs": [
        {
          "output_type": "execute_result",
          "data": {
            "text/html": [
              "<div>\n",
              "<style scoped>\n",
              "    .dataframe tbody tr th:only-of-type {\n",
              "        vertical-align: middle;\n",
              "    }\n",
              "\n",
              "    .dataframe tbody tr th {\n",
              "        vertical-align: top;\n",
              "    }\n",
              "\n",
              "    .dataframe thead th {\n",
              "        text-align: right;\n",
              "    }\n",
              "</style>\n",
              "<table border=\"1\" class=\"dataframe\">\n",
              "  <thead>\n",
              "    <tr style=\"text-align: right;\">\n",
              "      <th></th>\n",
              "      <th>Survived</th>\n",
              "      <th>Pclass</th>\n",
              "      <th>Sex</th>\n",
              "      <th>Age</th>\n",
              "      <th>Fare</th>\n",
              "      <th>Embarked</th>\n",
              "      <th>CabinMissing</th>\n",
              "      <th>Title</th>\n",
              "      <th>IsAlone</th>\n",
              "      <th>Age Group</th>\n",
              "    </tr>\n",
              "    <tr>\n",
              "      <th>PassengerId</th>\n",
              "      <th></th>\n",
              "      <th></th>\n",
              "      <th></th>\n",
              "      <th></th>\n",
              "      <th></th>\n",
              "      <th></th>\n",
              "      <th></th>\n",
              "      <th></th>\n",
              "      <th></th>\n",
              "      <th></th>\n",
              "    </tr>\n",
              "  </thead>\n",
              "  <tbody>\n",
              "    <tr>\n",
              "      <th>1</th>\n",
              "      <td>0.788829</td>\n",
              "      <td>0.319492</td>\n",
              "      <td>0.737281</td>\n",
              "      <td>-0.387329</td>\n",
              "      <td>0.587940</td>\n",
              "      <td>0.568518</td>\n",
              "      <td>0.395022</td>\n",
              "      <td>24.248708</td>\n",
              "      <td>1.230954</td>\n",
              "      <td>0.720067</td>\n",
              "    </tr>\n",
              "    <tr>\n",
              "      <th>2</th>\n",
              "      <td>1.200141</td>\n",
              "      <td>-7.982992</td>\n",
              "      <td>1.240564</td>\n",
              "      <td>0.715229</td>\n",
              "      <td>1.810066</td>\n",
              "      <td>1.752846</td>\n",
              "      <td>1.834085</td>\n",
              "      <td>0.645497</td>\n",
              "      <td>1.230954</td>\n",
              "      <td>0.720067</td>\n",
              "    </tr>\n",
              "  </tbody>\n",
              "</table>\n",
              "</div>"
            ],
            "text/plain": [
              "             Survived    Pclass       Sex  ...      Title   IsAlone  Age Group\n",
              "PassengerId                                ...                                \n",
              "1            0.788829  0.319492  0.737281  ...  24.248708  1.230954   0.720067\n",
              "2            1.200141 -7.982992  1.240564  ...   0.645497  1.230954   0.720067\n",
              "\n",
              "[2 rows x 10 columns]"
            ]
          },
          "metadata": {
            "tags": []
          },
          "execution_count": 143
        }
      ]
    },
    {
      "cell_type": "code",
      "metadata": {
        "colab": {
          "base_uri": "https://localhost:8080/",
          "height": 142
        },
        "id": "yaTVc_9aGYsh",
        "outputId": "c9f2f42b-a791-43e2-adf1-d2effe11c2f6"
      },
      "source": [
        "df_test_norm.head(2)"
      ],
      "execution_count": 144,
      "outputs": [
        {
          "output_type": "execute_result",
          "data": {
            "text/html": [
              "<div>\n",
              "<style scoped>\n",
              "    .dataframe tbody tr th:only-of-type {\n",
              "        vertical-align: middle;\n",
              "    }\n",
              "\n",
              "    .dataframe tbody tr th {\n",
              "        vertical-align: top;\n",
              "    }\n",
              "\n",
              "    .dataframe thead th {\n",
              "        text-align: right;\n",
              "    }\n",
              "</style>\n",
              "<table border=\"1\" class=\"dataframe\">\n",
              "  <thead>\n",
              "    <tr style=\"text-align: right;\">\n",
              "      <th></th>\n",
              "      <th>Pclass</th>\n",
              "      <th>Sex</th>\n",
              "      <th>Age</th>\n",
              "      <th>Fare</th>\n",
              "      <th>Embarked</th>\n",
              "      <th>CabinMissing</th>\n",
              "      <th>Title</th>\n",
              "      <th>IsAlone</th>\n",
              "      <th>Age Group</th>\n",
              "    </tr>\n",
              "    <tr>\n",
              "      <th>PassengerId</th>\n",
              "      <th></th>\n",
              "      <th></th>\n",
              "      <th></th>\n",
              "      <th></th>\n",
              "      <th></th>\n",
              "      <th></th>\n",
              "      <th></th>\n",
              "      <th></th>\n",
              "      <th></th>\n",
              "    </tr>\n",
              "  </thead>\n",
              "  <tbody>\n",
              "    <tr>\n",
              "      <th>892</th>\n",
              "      <td>0.319492</td>\n",
              "      <td>0.737281</td>\n",
              "      <td>0.655305</td>\n",
              "      <td>0.582240</td>\n",
              "      <td>1.201038</td>\n",
              "      <td>0.395022</td>\n",
              "      <td>24.248708</td>\n",
              "      <td>0.778445</td>\n",
              "      <td>0.720067</td>\n",
              "    </tr>\n",
              "    <tr>\n",
              "      <th>893</th>\n",
              "      <td>0.319492</td>\n",
              "      <td>1.240564</td>\n",
              "      <td>0.803205</td>\n",
              "      <td>0.590353</td>\n",
              "      <td>0.568518</td>\n",
              "      <td>0.395022</td>\n",
              "      <td>0.645497</td>\n",
              "      <td>1.230954</td>\n",
              "      <td>0.720067</td>\n",
              "    </tr>\n",
              "  </tbody>\n",
              "</table>\n",
              "</div>"
            ],
            "text/plain": [
              "               Pclass       Sex       Age  ...      Title   IsAlone  Age Group\n",
              "PassengerId                                ...                                \n",
              "892          0.319492  0.737281  0.655305  ...  24.248708  0.778445   0.720067\n",
              "893          0.319492  1.240564  0.803205  ...   0.645497  1.230954   0.720067\n",
              "\n",
              "[2 rows x 9 columns]"
            ]
          },
          "metadata": {
            "tags": []
          },
          "execution_count": 144
        }
      ]
    },
    {
      "cell_type": "code",
      "metadata": {
        "colab": {
          "base_uri": "https://localhost:8080/",
          "height": 142
        },
        "id": "8_DmLDGNGY-c",
        "outputId": "1d0f76fc-e3c0-463e-dc88-5be521f28d51"
      },
      "source": [
        "df_train.head(2)"
      ],
      "execution_count": 145,
      "outputs": [
        {
          "output_type": "execute_result",
          "data": {
            "text/html": [
              "<div>\n",
              "<style scoped>\n",
              "    .dataframe tbody tr th:only-of-type {\n",
              "        vertical-align: middle;\n",
              "    }\n",
              "\n",
              "    .dataframe tbody tr th {\n",
              "        vertical-align: top;\n",
              "    }\n",
              "\n",
              "    .dataframe thead th {\n",
              "        text-align: right;\n",
              "    }\n",
              "</style>\n",
              "<table border=\"1\" class=\"dataframe\">\n",
              "  <thead>\n",
              "    <tr style=\"text-align: right;\">\n",
              "      <th></th>\n",
              "      <th>Survived</th>\n",
              "      <th>Pclass</th>\n",
              "      <th>Sex</th>\n",
              "      <th>Age</th>\n",
              "      <th>Fare</th>\n",
              "      <th>Embarked</th>\n",
              "      <th>CabinMissing</th>\n",
              "      <th>Title</th>\n",
              "      <th>IsAlone</th>\n",
              "      <th>Age Group</th>\n",
              "    </tr>\n",
              "    <tr>\n",
              "      <th>PassengerId</th>\n",
              "      <th></th>\n",
              "      <th></th>\n",
              "      <th></th>\n",
              "      <th></th>\n",
              "      <th></th>\n",
              "      <th></th>\n",
              "      <th></th>\n",
              "      <th></th>\n",
              "      <th></th>\n",
              "      <th></th>\n",
              "    </tr>\n",
              "  </thead>\n",
              "  <tbody>\n",
              "    <tr>\n",
              "      <th>1</th>\n",
              "      <td>0</td>\n",
              "      <td>3</td>\n",
              "      <td>0</td>\n",
              "      <td>22.0</td>\n",
              "      <td>7.2500</td>\n",
              "      <td>0</td>\n",
              "      <td>1</td>\n",
              "      <td>1</td>\n",
              "      <td>0</td>\n",
              "      <td>3</td>\n",
              "    </tr>\n",
              "    <tr>\n",
              "      <th>2</th>\n",
              "      <td>1</td>\n",
              "      <td>1</td>\n",
              "      <td>1</td>\n",
              "      <td>38.0</td>\n",
              "      <td>71.2833</td>\n",
              "      <td>1</td>\n",
              "      <td>0</td>\n",
              "      <td>3</td>\n",
              "      <td>0</td>\n",
              "      <td>3</td>\n",
              "    </tr>\n",
              "  </tbody>\n",
              "</table>\n",
              "</div>"
            ],
            "text/plain": [
              "             Survived  Pclass  Sex  ...  Title  IsAlone  Age Group\n",
              "PassengerId                         ...                           \n",
              "1                   0       3    0  ...      1        0          3\n",
              "2                   1       1    1  ...      3        0          3\n",
              "\n",
              "[2 rows x 10 columns]"
            ]
          },
          "metadata": {
            "tags": []
          },
          "execution_count": 145
        }
      ]
    },
    {
      "cell_type": "code",
      "metadata": {
        "colab": {
          "base_uri": "https://localhost:8080/",
          "height": 142
        },
        "id": "q7Qemc46GZZ6",
        "outputId": "9cf07ac7-3bfe-4dba-b9a8-c13885196d0f"
      },
      "source": [
        "df_test.head(2)"
      ],
      "execution_count": 146,
      "outputs": [
        {
          "output_type": "execute_result",
          "data": {
            "text/html": [
              "<div>\n",
              "<style scoped>\n",
              "    .dataframe tbody tr th:only-of-type {\n",
              "        vertical-align: middle;\n",
              "    }\n",
              "\n",
              "    .dataframe tbody tr th {\n",
              "        vertical-align: top;\n",
              "    }\n",
              "\n",
              "    .dataframe thead th {\n",
              "        text-align: right;\n",
              "    }\n",
              "</style>\n",
              "<table border=\"1\" class=\"dataframe\">\n",
              "  <thead>\n",
              "    <tr style=\"text-align: right;\">\n",
              "      <th></th>\n",
              "      <th>Pclass</th>\n",
              "      <th>Sex</th>\n",
              "      <th>Age</th>\n",
              "      <th>Fare</th>\n",
              "      <th>Embarked</th>\n",
              "      <th>CabinMissing</th>\n",
              "      <th>Title</th>\n",
              "      <th>IsAlone</th>\n",
              "      <th>Age Group</th>\n",
              "    </tr>\n",
              "    <tr>\n",
              "      <th>PassengerId</th>\n",
              "      <th></th>\n",
              "      <th></th>\n",
              "      <th></th>\n",
              "      <th></th>\n",
              "      <th></th>\n",
              "      <th></th>\n",
              "      <th></th>\n",
              "      <th></th>\n",
              "      <th></th>\n",
              "    </tr>\n",
              "  </thead>\n",
              "  <tbody>\n",
              "    <tr>\n",
              "      <th>892</th>\n",
              "      <td>3</td>\n",
              "      <td>0</td>\n",
              "      <td>34.5</td>\n",
              "      <td>7.8292</td>\n",
              "      <td>2</td>\n",
              "      <td>1</td>\n",
              "      <td>1</td>\n",
              "      <td>1</td>\n",
              "      <td>3</td>\n",
              "    </tr>\n",
              "    <tr>\n",
              "      <th>893</th>\n",
              "      <td>3</td>\n",
              "      <td>1</td>\n",
              "      <td>47.0</td>\n",
              "      <td>7.0000</td>\n",
              "      <td>0</td>\n",
              "      <td>1</td>\n",
              "      <td>3</td>\n",
              "      <td>0</td>\n",
              "      <td>3</td>\n",
              "    </tr>\n",
              "  </tbody>\n",
              "</table>\n",
              "</div>"
            ],
            "text/plain": [
              "             Pclass  Sex   Age    Fare  ...  CabinMissing  Title  IsAlone  Age Group\n",
              "PassengerId                             ...                                         \n",
              "892               3    0  34.5  7.8292  ...             1      1        1          3\n",
              "893               3    1  47.0  7.0000  ...             1      3        0          3\n",
              "\n",
              "[2 rows x 9 columns]"
            ]
          },
          "metadata": {
            "tags": []
          },
          "execution_count": 146
        }
      ]
    },
    {
      "cell_type": "markdown",
      "metadata": {
        "id": "zG-uwcPYtyXp"
      },
      "source": [
        "###Splitting the data"
      ]
    },
    {
      "cell_type": "code",
      "metadata": {
        "id": "7eai0SIHt39H"
      },
      "source": [
        "# Creating the ndarrays from the training dataset\n",
        "y = df_train['Survived'].to_numpy()\n",
        "X = df_train.drop('Survived', axis=1).to_numpy()\n",
        "\n",
        "X_norm = df_train_norm.drop('Survived', axis=1).to_numpy()"
      ],
      "execution_count": 147,
      "outputs": []
    },
    {
      "cell_type": "code",
      "metadata": {
        "id": "q4yn_157uL5I"
      },
      "source": [
        "# Creating the train and validation datasets\n",
        "(X_train, X_validation, \n",
        " y_train, y_validation) = train_test_split(X, y, test_size = 0.2, random_state=0)\n",
        "\n",
        "(X_train_norm, X_validation_norm, \n",
        " y_train_norm, y_validation_norm) = train_test_split(X_norm, y, test_size = 0.2, random_state=0)"
      ],
      "execution_count": 148,
      "outputs": []
    },
    {
      "cell_type": "code",
      "metadata": {
        "colab": {
          "base_uri": "https://localhost:8080/"
        },
        "id": "9KyLcZ5KDuAh",
        "outputId": "8a5a9bc8-ba43-488c-b097-3ea9a42b069c"
      },
      "source": [
        "print('Non normalized datasets')\r\n",
        "print(X_train.shape)\r\n",
        "print(y_train.shape)\r\n",
        "print(X_validation.shape)\r\n",
        "print(y_validation.shape)\r\n",
        "print()\r\n",
        "print('Normalized datasets')\r\n",
        "print('Train', X_train_norm.shape)\r\n",
        "print('Validation', X_validation_norm.shape)"
      ],
      "execution_count": 149,
      "outputs": [
        {
          "output_type": "stream",
          "text": [
            "Non normalized datasets\n",
            "(712, 9)\n",
            "(712,)\n",
            "(179, 9)\n",
            "(179,)\n",
            "\n",
            "Normalized datasets\n",
            "Train (712, 9)\n",
            "Validation (179, 9)\n"
          ],
          "name": "stdout"
        }
      ]
    },
    {
      "cell_type": "markdown",
      "metadata": {
        "id": "B8VJIJfLD7kf"
      },
      "source": [
        "## Creating Models\r\n",
        "(with the non-normalized dataset)"
      ]
    },
    {
      "cell_type": "code",
      "metadata": {
        "id": "KxkztJS4CAzm"
      },
      "source": [
        "# 5 layers with dropout and regularization (both L1 and L2)\r\n",
        "def create_model():\r\n",
        "    model = tf.keras.models.Sequential([tf.keras.layers.Dense(128, activation=tf.nn.relu),\r\n",
        "\r\n",
        "                                        tf.keras.layers.Dense(64, activation=tf.nn.relu),\r\n",
        "\r\n",
        "                                        tf.keras.layers.Dense(32, activation=tf.nn.relu),\r\n",
        "                                        \r\n",
        "                                        tf.keras.layers.Dense(1, activation=tf.nn.sigmoid)])\r\n",
        "    model.compile(optimizer = tf.optimizers.Adam(),\r\n",
        "              loss = 'binary_crossentropy',\r\n",
        "              metrics=['accuracy'])\r\n",
        "    \r\n",
        "    return model"
      ],
      "execution_count": 150,
      "outputs": []
    },
    {
      "cell_type": "code",
      "metadata": {
        "id": "bYMttrgA-ihC"
      },
      "source": [
        "# Function that creates and trains all models. It will make it easier to train twice (with non-normalized and normalized data)\r\n",
        "\r\n",
        "def train_models(X_train, y_train, X_validation, y_validation, print_acc=False):\r\n",
        "\r\n",
        "    dict_acc = {}\r\n",
        "\r\n",
        "    ### Dummy Classifier\r\n",
        "    dummy = DummyClassifier(strategy='prior')\r\n",
        "    \r\n",
        "    scores = cross_val_score(dummy, X_train, y_train, cv=kfold, scoring='accuracy')\r\n",
        "    acc_dummy_train = scores.mean()\r\n",
        "    dummy.fit(X_train, y_train)\r\n",
        "    acc_dummy_val = dummy.score(X_validation, y_validation)\r\n",
        "\r\n",
        "    dict_acc['Dummy Classifier'] = [acc_dummy_train, acc_dummy_val]\r\n",
        "\r\n",
        "\r\n",
        "    ### Bernoulli Naive Bayes\r\n",
        "    bernoulli = BernoulliNB(alpha=15)\r\n",
        "\r\n",
        "    scores = cross_val_score(bernoulli, X_train, y_train, cv=kfold, scoring='accuracy')\r\n",
        "    acc_bernoulli_train = scores.mean()\r\n",
        "    bernoulli.fit(X_train, y_train)\r\n",
        "    acc_bernoulli_val = bernoulli.score(X_validation, y_validation)\r\n",
        "\r\n",
        "    dict_acc['Bernoulli NB'] = [acc_bernoulli_train, acc_bernoulli_val]\r\n",
        "\r\n",
        "\r\n",
        "    ### K-Nearest Neighbors\r\n",
        "    knn = KNeighborsClassifier(metric='manhattan', n_neighbors = 5, weights='uniform')\r\n",
        "\r\n",
        "\r\n",
        "    scores = cross_val_score(knn, X_train, y_train, cv=kfold, scoring='accuracy')\r\n",
        "    acc_knn_train = scores.mean()\r\n",
        "    knn.fit(X_train, y_train)\r\n",
        "    acc_knn_val = knn.score(X_validation, y_validation)\r\n",
        "\r\n",
        "    dict_acc['KNN'] = [acc_knn_train, acc_knn_val]\r\n",
        "\r\n",
        "\r\n",
        "    ### SGD Classifier\r\n",
        "    sgd = SGDClassifier(alpha=0.01, epsilon = 0.1, loss='hinge', max_iter=5000, penalty='l1')\r\n",
        "\r\n",
        "    scores = cross_val_score(sgd, X_train, y_train, cv=kfold, scoring='accuracy')\r\n",
        "    acc_sgd_train = scores.mean()\r\n",
        "    sgd.fit(X_train, y_train)\r\n",
        "    acc_sgd_val = sgd.score(X_validation, y_validation)\r\n",
        "\r\n",
        "    dict_acc['SGD'] = [acc_sgd_train, acc_sgd_val]\r\n",
        "\r\n",
        "\r\n",
        "    ### Logistic Regression\r\n",
        "    logreg = LogisticRegression(C=0.5, max_iter = 2000, solver='liblinear')\r\n",
        "\r\n",
        "    scores = cross_val_score(logreg, X_train, y_train, cv=kfold, scoring='accuracy')\r\n",
        "    acc_logreg_train = scores.mean()\r\n",
        "    logreg.fit(X_train, y_train)\r\n",
        "    acc_logreg_val = logreg.score(X_validation, y_validation)\r\n",
        "\r\n",
        "    dict_acc['Logistic Regression'] = [acc_logreg_train, acc_logreg_val]\r\n",
        "\r\n",
        "\r\n",
        "    ### Ridge Classifier\r\n",
        "    ridge = RidgeClassifier(alpha=5)\r\n",
        "\r\n",
        "    scores = cross_val_score(ridge, X_train, y_train, cv=kfold, scoring='accuracy')\r\n",
        "    acc_ridge_train = scores.mean()\r\n",
        "    ridge.fit(X_train, y_train)\r\n",
        "    acc_ridge_val = ridge.score(X_validation, y_validation)\r\n",
        "    \r\n",
        "    dict_acc['Ridge Classifier'] = [acc_ridge_train, acc_ridge_val]\r\n",
        "\r\n",
        "\r\n",
        "    ### Support Vector Classifier\r\n",
        "    svc = SVC(kernel='linear', C=0.5)\r\n",
        "\r\n",
        "    scores = cross_val_score(svc, X_train, y_train, cv=kfold, scoring='accuracy')\r\n",
        "    acc_svc_train = scores.mean()\r\n",
        "    svc.fit(X_train, y_train)\r\n",
        "    acc_svc_val = svc.score(X_validation, y_validation)\r\n",
        "\r\n",
        "    dict_acc['SVC'] = [acc_svc_train, acc_svc_val]\r\n",
        "\r\n",
        "\r\n",
        "    ### Decision Tree\r\n",
        "    tree = DecisionTreeClassifier(min_samples_leaf=5, min_samples_split=2)\r\n",
        "\r\n",
        "    scores = cross_val_score(tree, X_train, y_train, cv=kfold, scoring='accuracy')\r\n",
        "    acc_tree_train = scores.mean()\r\n",
        "    tree.fit(X_train, y_train)\r\n",
        "    acc_tree_val = tree.score(X_validation, y_validation)\r\n",
        "\r\n",
        "    dict_acc['Decision Tree'] = [acc_tree_train, acc_tree_val]\r\n",
        "\r\n",
        "\r\n",
        "    ### Random Forest\r\n",
        "    rf = RandomForestClassifier(n_estimators=300, criterion='gini', min_samples_leaf=3, min_samples_split=2)\r\n",
        "\r\n",
        "    scores = cross_val_score(rf, X_train, y_train, cv=kfold, scoring='accuracy')\r\n",
        "    acc_rf_train = scores.mean()\r\n",
        "    rf.fit(X_train, y_train)\r\n",
        "    acc_rf_val = rf.score(X_validation, y_validation)\r\n",
        "\r\n",
        "    dict_acc['Random Forest'] = [acc_rf_train, acc_rf_val]\r\n",
        "\r\n",
        "\r\n",
        "    ### XGBoost Classifier\r\n",
        "    xgboost = XGBClassifier(eta=0.1, max_depth=4)\r\n",
        "\r\n",
        "    scores = cross_val_score(xgboost, X_train, y_train, cv=kfold, scoring='accuracy')\r\n",
        "    acc_xgboost_train = scores.mean()\r\n",
        "    xgboost.fit(X_train, y_train)\r\n",
        "    acc_xgboost_val = xgboost.score(X_validation, y_validation)\r\n",
        "\r\n",
        "    dict_acc['XGBoost'] = [acc_xgboost_train, acc_xgboost_val]\r\n",
        "\r\n",
        "\r\n",
        "    ### Neural Network (Keras)\r\n",
        "    model_keras = KerasClassifier(build_fn=create_model, epochs=150, batch_size=10, verbose=0)\r\n",
        "\r\n",
        "    results = cross_val_score(model_keras, X_train, y_train, cv=kfold)\r\n",
        "    acc_train = results.mean()\r\n",
        "    model_keras.fit(X_train, y_train)\r\n",
        "    acc_keras = model_keras.score(X_validation, y_validation)\r\n",
        "\r\n",
        "    dict_acc['DNN'] = [acc_train, acc_keras] \r\n",
        "\r\n",
        "    # Printing the values\r\n",
        "    if print_acc:\r\n",
        "        for key, values in dict_acc.items():\r\n",
        "            print(\"{} Accuracy on Training Data (CV): {}\".format(key, values[0]))\r\n",
        "            print(\"{} Accuracy on Validation Data: {}\".format(key, values[1]))\r\n",
        "            print()\r\n",
        "    \r\n",
        "    return dict_acc"
      ],
      "execution_count": 151,
      "outputs": []
    },
    {
      "cell_type": "markdown",
      "metadata": {
        "id": "tR-4j8b7CVog"
      },
      "source": [
        "## Grid Search"
      ]
    },
    {
      "cell_type": "code",
      "metadata": {
        "id": "j2syL4-PLyD2"
      },
      "source": [
        "if grid:\r\n",
        "    ###Naive Bayes (Bernoulli)\r\n",
        "    parameter = [{'alpha':[1.0, 5, 10, 15, 20]}]\r\n",
        "    classifier = GridSearchCV(BernoulliNB(), parameter, scoring='accuracy')\r\n",
        "    classifier.fit(X_train, y_train)\r\n",
        "    print(\"Bernoulli\")\r\n",
        "    print(classifier.best_params_)\r\n",
        "    print(classifier.best_score_)\r\n",
        "\r\n",
        "    ###KNN\r\n",
        "    parameter = [{'n_neighbors':[2, 3, 5, 7, 10],\r\n",
        "                'weights':['uniform', 'distance'],\r\n",
        "                'metric':['minkowski', 'manhattan']}]\r\n",
        "\r\n",
        "    classifier = GridSearchCV(KNeighborsClassifier(), parameter, scoring='accuracy')\r\n",
        "    classifier.fit(X_train, y_train)\r\n",
        "    print(\"KNN\")\r\n",
        "    print(classifier.best_params_)\r\n",
        "    print(classifier.best_score_)\r\n",
        "\r\n",
        "    ###SGD\r\n",
        "    parameter = [{'loss':['hinge', 'modified_huber', 'perceptron', 'huber', 'epsilon_insensitive'],\r\n",
        "                'penalty':['l1', 'l2'],\r\n",
        "                'alpha':[0.001, 0.01, 0.1],\r\n",
        "                'epsilon':[0.01, 0.1, 0.3, 0.5],\r\n",
        "                'max_iter':[5000]}]\r\n",
        "\r\n",
        "    classifier = GridSearchCV(SGDClassifier(), parameter, scoring='accuracy')\r\n",
        "    classifier.fit(X_train, y_train)\r\n",
        "    print(\"SGD\")\r\n",
        "    print(classifier.best_params_)\r\n",
        "    print(classifier.best_score_)\r\n",
        "\r\n",
        "    ###Logistic Regression\r\n",
        "    parameter = [{'penalty':['l1', 'l2'],\r\n",
        "                'C':[1.0, 0.5, 1.5, 2, 3, 5],\r\n",
        "                'solver':['lbfgs', 'liblinear', 'sag', 'saga'],\r\n",
        "                'max_iter':[2000]}]\r\n",
        "\r\n",
        "    classifier = GridSearchCV(LogisticRegression(), parameter, scoring='accuracy')\r\n",
        "    classifier.fit(X_train, y_train)\r\n",
        "    print(\"Logistic Regression\")\r\n",
        "    print(classifier.best_params_)\r\n",
        "    print(classifier.best_score_)\r\n",
        "    #{'C': 0.5, 'max_iter': 2000, 'penalty': 'l2', 'solver': 'liblinear'}\r\n",
        "\r\n",
        "\r\n",
        "    ###Ridge Classifier\r\n",
        "    parameter = [{'alpha':[1.0, 0.5, 3, 5, 7, 10],\r\n",
        "                'solver':['auto', 'sag', 'saga', 'svd']}]\r\n",
        "\r\n",
        "    classifier = GridSearchCV(RidgeClassifier(), parameter, scoring='accuracy')\r\n",
        "    classifier.fit(X_train, y_train)\r\n",
        "    print(\"Ridge Classifier\")\r\n",
        "    print(classifier.best_params_)\r\n",
        "    print(classifier.best_score_)\r\n",
        "\r\n",
        "\r\n",
        "    ###SVC\r\n",
        "    parameter = [{'C':[0.5, 1.0, 3, 5],\r\n",
        "                'kernel':['linear', 'rbf']}]\r\n",
        "\r\n",
        "    classifier = GridSearchCV(SVC(), parameter, scoring='accuracy')\r\n",
        "    classifier.fit(X_train, y_train)\r\n",
        "    print(\"SVC\")\r\n",
        "    print(classifier.best_params_)\r\n",
        "    print(classifier.best_score_)\r\n",
        "\r\n",
        "    ###Decision Tree\r\n",
        "    parameter = [{'criterion':['gini', 'entropy'],\r\n",
        "                'min_samples_split':[2, 3, 4, 5],\r\n",
        "                'min_samples_leaf':[1, 4, 5]}]\r\n",
        "\r\n",
        "    classifier = GridSearchCV(DecisionTreeClassifier(), parameter, scoring='accuracy')\r\n",
        "    classifier.fit(X_train, y_train)\r\n",
        "    print(\"Decision Tree\")\r\n",
        "    print(classifier.best_params_)\r\n",
        "    print(classifier.best_score_)\r\n",
        "\r\n",
        "    ###Random Forest\r\n",
        "    parameter = [{'criterion':['gini', 'entropy'],\r\n",
        "              'n_estimators':[100, 300],\r\n",
        "              'min_samples_split':[3, 4, 5],\r\n",
        "              'min_samples_leaf':[3, 5, 10]}]\r\n",
        "\r\n",
        "    classifier = GridSearchCV(RandomForestClassifier(), parameter, scoring='accuracy')\r\n",
        "    classifier.fit(X_train, y_train)\r\n",
        "    print(\"Random Forest\")\r\n",
        "    print(classifier.best_params_)\r\n",
        "    print(classifier.best_score_)\r\n",
        "\r\n",
        "    ###XGBoost\r\n",
        "    parameter = [{'eta':[0.1, 0.3, 0.5, 1],\r\n",
        "                'max_depth':[4, 6, 8, 10]}]\r\n",
        "\r\n",
        "    classifier = GridSearchCV(XGBClassifier(), parameter, scoring='accuracy')\r\n",
        "    classifier.fit(X_train, y_train)\r\n",
        "    print(\"XGBoost\")\r\n",
        "    print(classifier.best_params_)\r\n",
        "    print(classifier.best_score_)"
      ],
      "execution_count": 152,
      "outputs": []
    },
    {
      "cell_type": "markdown",
      "metadata": {
        "id": "CPWA3gUzIqu6"
      },
      "source": [
        "##Plotting"
      ]
    },
    {
      "cell_type": "code",
      "metadata": {
        "colab": {
          "base_uri": "https://localhost:8080/"
        },
        "id": "nNemcEzPKi4T",
        "outputId": "9a63200f-56f6-4a4b-b4cc-55434c52bb38"
      },
      "source": [
        "dict_models = train_models(X_train, y_train, X_validation, y_validation, print_acc=True)"
      ],
      "execution_count": 153,
      "outputs": [
        {
          "output_type": "stream",
          "text": [
            "Dummy Classifier Accuracy on Training Data (CV): 0.6165763813651137\n",
            "Dummy Classifier Accuracy on Validation Data: 0.6145251396648045\n",
            "\n",
            "Bernoulli NB Accuracy on Training Data (CV): 0.7725499852260416\n",
            "Bernoulli NB Accuracy on Validation Data: 0.7988826815642458\n",
            "\n",
            "KNN Accuracy on Training Data (CV): 0.7415542204274599\n",
            "KNN Accuracy on Validation Data: 0.7653631284916201\n",
            "\n",
            "SGD Accuracy on Training Data (CV): 0.7894612429823697\n",
            "SGD Accuracy on Validation Data: 0.7932960893854749\n",
            "\n",
            "Logistic Regression Accuracy on Training Data (CV): 0.7964247020585049\n",
            "Logistic Regression Accuracy on Validation Data: 0.8100558659217877\n",
            "\n",
            "Ridge Classifier Accuracy on Training Data (CV): 0.8006599034768049\n",
            "Ridge Classifier Accuracy on Validation Data: 0.770949720670391\n",
            "\n",
            "SVC Accuracy on Training Data (CV): 0.7795922387471683\n",
            "SVC Accuracy on Validation Data: 0.7877094972067039\n",
            "\n",
            "Decision Tree Accuracy on Training Data (CV): 0.7992317541613316\n",
            "Decision Tree Accuracy on Validation Data: 0.8268156424581006\n",
            "\n",
            "Random Forest Accuracy on Training Data (CV): 0.823096621688171\n",
            "Random Forest Accuracy on Validation Data: 0.8268156424581006\n",
            "\n",
            "XGBoost Accuracy on Training Data (CV): 0.8174628188712696\n",
            "XGBoost Accuracy on Validation Data: 0.8603351955307262\n",
            "\n",
            "DNN Accuracy on Training Data (CV): 0.8090121150016785\n",
            "DNN Accuracy on Validation Data: 0.7877094745635986\n",
            "\n"
          ],
          "name": "stdout"
        }
      ]
    },
    {
      "cell_type": "code",
      "metadata": {
        "id": "__OL152jK8a5",
        "colab": {
          "base_uri": "https://localhost:8080/",
          "height": 390
        },
        "outputId": "1782ef7c-7207-4393-b5df-151ca2d93bac"
      },
      "source": [
        "df_acc = pd.DataFrame.from_dict(dict_models)\r\n",
        "df_acc = df_acc.transpose()\r\n",
        "df_acc.columns = ['Acc Training (CV)', 'Acc Validation']\r\n",
        "df_acc"
      ],
      "execution_count": 154,
      "outputs": [
        {
          "output_type": "execute_result",
          "data": {
            "text/html": [
              "<div>\n",
              "<style scoped>\n",
              "    .dataframe tbody tr th:only-of-type {\n",
              "        vertical-align: middle;\n",
              "    }\n",
              "\n",
              "    .dataframe tbody tr th {\n",
              "        vertical-align: top;\n",
              "    }\n",
              "\n",
              "    .dataframe thead th {\n",
              "        text-align: right;\n",
              "    }\n",
              "</style>\n",
              "<table border=\"1\" class=\"dataframe\">\n",
              "  <thead>\n",
              "    <tr style=\"text-align: right;\">\n",
              "      <th></th>\n",
              "      <th>Acc Training (CV)</th>\n",
              "      <th>Acc Validation</th>\n",
              "    </tr>\n",
              "  </thead>\n",
              "  <tbody>\n",
              "    <tr>\n",
              "      <th>Dummy Classifier</th>\n",
              "      <td>0.616576</td>\n",
              "      <td>0.614525</td>\n",
              "    </tr>\n",
              "    <tr>\n",
              "      <th>Bernoulli NB</th>\n",
              "      <td>0.772550</td>\n",
              "      <td>0.798883</td>\n",
              "    </tr>\n",
              "    <tr>\n",
              "      <th>KNN</th>\n",
              "      <td>0.741554</td>\n",
              "      <td>0.765363</td>\n",
              "    </tr>\n",
              "    <tr>\n",
              "      <th>SGD</th>\n",
              "      <td>0.789461</td>\n",
              "      <td>0.793296</td>\n",
              "    </tr>\n",
              "    <tr>\n",
              "      <th>Logistic Regression</th>\n",
              "      <td>0.796425</td>\n",
              "      <td>0.810056</td>\n",
              "    </tr>\n",
              "    <tr>\n",
              "      <th>Ridge Classifier</th>\n",
              "      <td>0.800660</td>\n",
              "      <td>0.770950</td>\n",
              "    </tr>\n",
              "    <tr>\n",
              "      <th>SVC</th>\n",
              "      <td>0.779592</td>\n",
              "      <td>0.787709</td>\n",
              "    </tr>\n",
              "    <tr>\n",
              "      <th>Decision Tree</th>\n",
              "      <td>0.799232</td>\n",
              "      <td>0.826816</td>\n",
              "    </tr>\n",
              "    <tr>\n",
              "      <th>Random Forest</th>\n",
              "      <td>0.823097</td>\n",
              "      <td>0.826816</td>\n",
              "    </tr>\n",
              "    <tr>\n",
              "      <th>XGBoost</th>\n",
              "      <td>0.817463</td>\n",
              "      <td>0.860335</td>\n",
              "    </tr>\n",
              "    <tr>\n",
              "      <th>DNN</th>\n",
              "      <td>0.809012</td>\n",
              "      <td>0.787709</td>\n",
              "    </tr>\n",
              "  </tbody>\n",
              "</table>\n",
              "</div>"
            ],
            "text/plain": [
              "                     Acc Training (CV)  Acc Validation\n",
              "Dummy Classifier              0.616576        0.614525\n",
              "Bernoulli NB                  0.772550        0.798883\n",
              "KNN                           0.741554        0.765363\n",
              "SGD                           0.789461        0.793296\n",
              "Logistic Regression           0.796425        0.810056\n",
              "Ridge Classifier              0.800660        0.770950\n",
              "SVC                           0.779592        0.787709\n",
              "Decision Tree                 0.799232        0.826816\n",
              "Random Forest                 0.823097        0.826816\n",
              "XGBoost                       0.817463        0.860335\n",
              "DNN                           0.809012        0.787709"
            ]
          },
          "metadata": {
            "tags": []
          },
          "execution_count": 154
        }
      ]
    },
    {
      "cell_type": "code",
      "metadata": {
        "colab": {
          "base_uri": "https://localhost:8080/",
          "height": 587
        },
        "id": "ko9scBP5O_Q-",
        "outputId": "652afbb2-f1f8-40b6-8817-551f8918687a"
      },
      "source": [
        "fig = plt.figure(figsize=(20,10))   # changes the size of the image\r\n",
        "fig.patch.set_facecolor('#eaeaf2')  # set the background color of the plot to match the seaborn theme\r\n",
        "\r\n",
        "ax = plt.gca()\r\n",
        "width = 0.40\r\n",
        "\r\n",
        "rects1 = ax.bar(df_acc.index, df_acc['Acc Training (CV)'], width,align='edge', color = '#40699c', label='CV Accuracy Score')\r\n",
        "rects2 = ax.bar(df_acc.index, df_acc['Acc Validation'], -width, align='edge', color = '#ba3c3c', label='Validation Accuracy')\r\n",
        "\r\n",
        "for r1, r2 in zip(rects1.patches, rects2.patches):\r\n",
        "    h1 = r1.get_height()\r\n",
        "    h2 = r2.get_height()\r\n",
        "\r\n",
        "    percent1 = h1*100\r\n",
        "    percent2 = h2*100\r\n",
        "\r\n",
        "    ax.annotate('{:.1f}%'.format(percent1),\r\n",
        "                    xy=(r1.get_x() + r1.get_width() / 2, h1),\r\n",
        "                    xytext=(0, 3),  # 3 points vertical offset\r\n",
        "                    textcoords=\"offset points\",\r\n",
        "                    ha='center', va='bottom')\r\n",
        "    ax.annotate('{:.1f}%'.format(percent2),\r\n",
        "                    xy=(r2.get_x() + r2.get_width() / 2, h2),\r\n",
        "                    xytext=(0, 3),  # 3 points vertical offset\r\n",
        "                    textcoords=\"offset points\",\r\n",
        "                    ha='center', va='bottom')\r\n",
        "\r\n",
        "# Rotate the X labels (models' names)\r\n",
        "\r\n",
        "plt.box(False)  # disable the box around the plot\r\n",
        "ax.grid(False)  # disable the grid\r\n",
        "ax.set_yticks([])   # disable the y ticks\r\n",
        "plt.xticks(rotation=30, rotation_mode=\"anchor\", ha='right')\r\n",
        "\r\n",
        "# creating a title\r\n",
        "plt.title('Comparison of Accuracy in Cross Validation (Training Data) and Validation Data\\n Non-Normalized Data',\r\n",
        "          size=20, alpha=0.8, y=1.02)\r\n",
        "\r\n",
        "# add the legend (to display the horizontal lines' labels)\r\n",
        "plt.legend(frameon=False, loc='upper center', ncol=2)\r\n",
        "\r\n",
        "# saves the plot\r\n",
        "plt.savefig(\"accuracy-nonnormalized.png\", bbox_inches='tight', dpi=300)\r\n",
        "# displays the plot\r\n",
        "plt.show();"
      ],
      "execution_count": 162,
      "outputs": [
        {
          "output_type": "display_data",
          "data": {
            "image/png": "[encoded data removed]",
            "text/plain": [
              "<Figure size 1440x720 with 1 Axes>"
            ]
          },
          "metadata": {
            "tags": []
          }
        }
      ]
    },
    {
      "cell_type": "markdown",
      "metadata": {
        "id": "ltrzkKTnl_ie"
      },
      "source": [
        "###Normalized Data"
      ]
    },
    {
      "cell_type": "code",
      "metadata": {
        "id": "7Ah9i8vumA4W"
      },
      "source": [
        "dict_models_norm = train_models(X_train_norm, y_train_norm, X_validation_norm, y_validation_norm)"
      ],
      "execution_count": 156,
      "outputs": []
    },
    {
      "cell_type": "code",
      "metadata": {
        "id": "Klh5zotLVYXz",
        "colab": {
          "base_uri": "https://localhost:8080/",
          "height": 390
        },
        "outputId": "5bdd0894-63cb-4fd4-c2af-41b5aa0b0cfd"
      },
      "source": [
        "df_acc_norm = pd.DataFrame.from_dict(dict_models_norm)\r\n",
        "df_acc_norm = df_acc_norm.transpose()\r\n",
        "df_acc_norm.columns = ['Acc Training (CV)', 'Acc Validation']\r\n",
        "df_acc_norm"
      ],
      "execution_count": 157,
      "outputs": [
        {
          "output_type": "execute_result",
          "data": {
            "text/html": [
              "<div>\n",
              "<style scoped>\n",
              "    .dataframe tbody tr th:only-of-type {\n",
              "        vertical-align: middle;\n",
              "    }\n",
              "\n",
              "    .dataframe tbody tr th {\n",
              "        vertical-align: top;\n",
              "    }\n",
              "\n",
              "    .dataframe thead th {\n",
              "        text-align: right;\n",
              "    }\n",
              "</style>\n",
              "<table border=\"1\" class=\"dataframe\">\n",
              "  <thead>\n",
              "    <tr style=\"text-align: right;\">\n",
              "      <th></th>\n",
              "      <th>Acc Training (CV)</th>\n",
              "      <th>Acc Validation</th>\n",
              "    </tr>\n",
              "  </thead>\n",
              "  <tbody>\n",
              "    <tr>\n",
              "      <th>Dummy Classifier</th>\n",
              "      <td>0.616576</td>\n",
              "      <td>0.614525</td>\n",
              "    </tr>\n",
              "    <tr>\n",
              "      <th>Bernoulli NB</th>\n",
              "      <td>0.619364</td>\n",
              "      <td>0.692737</td>\n",
              "    </tr>\n",
              "    <tr>\n",
              "      <th>KNN</th>\n",
              "      <td>0.810450</td>\n",
              "      <td>0.793296</td>\n",
              "    </tr>\n",
              "    <tr>\n",
              "      <th>SGD</th>\n",
              "      <td>0.645395</td>\n",
              "      <td>0.743017</td>\n",
              "    </tr>\n",
              "    <tr>\n",
              "      <th>Logistic Regression</th>\n",
              "      <td>0.785236</td>\n",
              "      <td>0.759777</td>\n",
              "    </tr>\n",
              "    <tr>\n",
              "      <th>Ridge Classifier</th>\n",
              "      <td>0.783847</td>\n",
              "      <td>0.759777</td>\n",
              "    </tr>\n",
              "    <tr>\n",
              "      <th>SVC</th>\n",
              "      <td>0.789451</td>\n",
              "      <td>0.754190</td>\n",
              "    </tr>\n",
              "    <tr>\n",
              "      <th>Decision Tree</th>\n",
              "      <td>0.799202</td>\n",
              "      <td>0.826816</td>\n",
              "    </tr>\n",
              "    <tr>\n",
              "      <th>Random Forest</th>\n",
              "      <td>0.825894</td>\n",
              "      <td>0.843575</td>\n",
              "    </tr>\n",
              "    <tr>\n",
              "      <th>XGBoost</th>\n",
              "      <td>0.816074</td>\n",
              "      <td>0.849162</td>\n",
              "    </tr>\n",
              "    <tr>\n",
              "      <th>DNN</th>\n",
              "      <td>0.810430</td>\n",
              "      <td>0.793296</td>\n",
              "    </tr>\n",
              "  </tbody>\n",
              "</table>\n",
              "</div>"
            ],
            "text/plain": [
              "                     Acc Training (CV)  Acc Validation\n",
              "Dummy Classifier              0.616576        0.614525\n",
              "Bernoulli NB                  0.619364        0.692737\n",
              "KNN                           0.810450        0.793296\n",
              "SGD                           0.645395        0.743017\n",
              "Logistic Regression           0.785236        0.759777\n",
              "Ridge Classifier              0.783847        0.759777\n",
              "SVC                           0.789451        0.754190\n",
              "Decision Tree                 0.799202        0.826816\n",
              "Random Forest                 0.825894        0.843575\n",
              "XGBoost                       0.816074        0.849162\n",
              "DNN                           0.810430        0.793296"
            ]
          },
          "metadata": {
            "tags": []
          },
          "execution_count": 157
        }
      ]
    },
    {
      "cell_type": "code",
      "metadata": {
        "colab": {
          "base_uri": "https://localhost:8080/",
          "height": 700
        },
        "id": "XiD764wCmE0b",
        "outputId": "3eef028c-7cfd-4cd6-87d0-80eccfadafaa"
      },
      "source": [
        "fig = plt.figure(figsize=(20,10))   # changes the size of the image\r\n",
        "fig.patch.set_facecolor('#eaeaf2')  # set the background color of the plot to match the seaborn theme\r\n",
        "\r\n",
        "ax = plt.gca()\r\n",
        "width = 0.40\r\n",
        "\r\n",
        "rects1 = ax.bar(df_acc_norm.index, df_acc_norm['Acc Training (CV)'], width,align='edge', color = '#40699c', label='CV Accuracy Score')\r\n",
        "rects2 = ax.bar(df_acc_norm.index, df_acc_norm['Acc Validation'], -width, align='edge', color = '#ba3c3c', label='Validation Accuracy')\r\n",
        "\r\n",
        "for r1, r2 in zip(rects1.patches, rects2.patches):\r\n",
        "    h1 = r1.get_height()\r\n",
        "    h2 = r2.get_height()\r\n",
        "\r\n",
        "    percent1 = h1*100\r\n",
        "    percent2 = h2*100\r\n",
        "\r\n",
        "    ax.annotate('{:.1f}%'.format(percent1),\r\n",
        "                    xy=(r1.get_x() + r1.get_width() / 2, h1),\r\n",
        "                    xytext=(0, 3),  # 3 points vertical offset\r\n",
        "                    textcoords=\"offset points\",\r\n",
        "                    ha='center', va='bottom')\r\n",
        "    ax.annotate('{:.1f}%'.format(percent2),\r\n",
        "                    xy=(r2.get_x() + r2.get_width() / 2, h2),\r\n",
        "                    xytext=(0, 3),  # 3 points vertical offset\r\n",
        "                    textcoords=\"offset points\",\r\n",
        "                    ha='center', va='bottom')\r\n",
        "\r\n",
        "# Rotate the X labels (models' names)\r\n",
        "\r\n",
        "plt.box(False)  # disable the box around the plot\r\n",
        "ax.grid(False)  # disable the grid\r\n",
        "ax.set_yticks([])   # disable the y ticks\r\n",
        "plt.xticks(rotation=30, rotation_mode=\"anchor\", ha='right')\r\n",
        "\r\n",
        "# creating a title\r\n",
        "plt.title('Comparison of Accuracy in Cross Validation (Training Data) and Validation Data\\n Normalized Data',\r\n",
        "          size=20, alpha=0.8, y=1.02)\r\n",
        "\r\n",
        "# add the legend (to display the horizontal lines' labels)\r\n",
        "plt.legend(frameon=False, loc='upper center', ncol=2)\r\n",
        "\r\n",
        "# saves the plot\r\n",
        "plt.savefig(\"accuracy-normalized.png\", bbox_inches='tight', dpi=300)\r\n",
        "# displays the plot\r\n",
        "plt.show();"
      ],
      "execution_count": 161,
      "outputs": [
        {
          "output_type": "display_data",
          "data": {
            "image/png": "[encoded data removed]",
            "text/plain": [
              "<Figure size 1440x720 with 1 Axes>"
            ]
          },
          "metadata": {
            "tags": []
          }
        }
      ]
    },
    {
      "cell_type": "markdown",
      "metadata": {
        "id": "D4Q3BbwwgSaC"
      },
      "source": [
        "### Comparison Between Normalized and Non-Normalized Accuracy"
      ]
    },
    {
      "cell_type": "code",
      "metadata": {
        "colab": {
          "base_uri": "https://localhost:8080/",
          "height": 569
        },
        "id": "nJVJrk8hgWRA",
        "outputId": "637253ea-2f0f-4d63-d6e5-990de54fe2f3"
      },
      "source": [
        "fig = plt.figure(figsize=(20,10))   # changes the size of the image\r\n",
        "fig.patch.set_facecolor('#eaeaf2')  # set the background color of the plot to match the seaborn theme\r\n",
        "\r\n",
        "ax = plt.gca()\r\n",
        "width = 0.40\r\n",
        "\r\n",
        "rects1 = ax.bar(df_acc.index, df_acc['Acc Validation'], width,align='edge', color = '#8FC294', label='Non-Normalized Validation Accuracy')\r\n",
        "rects2 = ax.bar(df_acc_norm.index, df_acc_norm['Acc Validation'], -width, align='edge', color = '#37848C', label='Normalized Validation Accuracy')\r\n",
        "\r\n",
        "for r1, r2 in zip(rects1.patches, rects2.patches):\r\n",
        "    h1 = r1.get_height()\r\n",
        "    h2 = r2.get_height()\r\n",
        "\r\n",
        "    percent1 = h1*100\r\n",
        "    percent2 = h2*100\r\n",
        "\r\n",
        "    ax.annotate('{:.1f}%'.format(percent1),\r\n",
        "                    xy=(r1.get_x() + r1.get_width() / 2, h1),\r\n",
        "                    xytext=(0, 3),  # 3 points vertical offset\r\n",
        "                    textcoords=\"offset points\",\r\n",
        "                    ha='center', va='bottom')\r\n",
        "    ax.annotate('{:.1f}%'.format(percent2),\r\n",
        "                    xy=(r2.get_x() + r2.get_width() / 2, h2),\r\n",
        "                    xytext=(0, 3),  # 3 points vertical offset\r\n",
        "                    textcoords=\"offset points\",\r\n",
        "                    ha='center', va='bottom')\r\n",
        "\r\n",
        "# Rotate the X labels (models' names)\r\n",
        "\r\n",
        "plt.box(False)  # disable the box around the plot\r\n",
        "ax.grid(False)  # disable the grid\r\n",
        "ax.set_yticks([])   # disable the y ticks\r\n",
        "plt.xticks(rotation=30, rotation_mode=\"anchor\", ha='right')\r\n",
        "\r\n",
        "# creating a title\r\n",
        "plt.title('Comparison of Validation Accuracy with Normalized and Non-Normalized Data',\r\n",
        "          size=20, alpha=0.8, y=1.02)\r\n",
        "\r\n",
        "# add the legend (to display the horizontal lines' labels)\r\n",
        "plt.legend(frameon=False, loc='upper center', ncol=2)\r\n",
        "\r\n",
        "# saves the plot\r\n",
        "plt.savefig(\"comparison-normalized-nonnormalized.png\", bbox_inches='tight', dpi=300)\r\n",
        "# displays the plot\r\n",
        "plt.show();"
      ],
      "execution_count": 160,
      "outputs": [
        {
          "output_type": "display_data",
          "data": {
            "image/png": "[encoded data removed]",
            "text/plain": [
              "<Figure size 1440x720 with 1 Axes>"
            ]
          },
          "metadata": {
            "tags": []
          }
        }
      ]
    },
    {
      "cell_type": "code",
      "metadata": {
        "id": "_FYh4_CGouq6"
      },
      "source": [
        ""
      ],
      "execution_count": 159,
      "outputs": []
    }
  ]
}